{
 "cells": [
  {
   "cell_type": "code",
   "execution_count": 1,
   "metadata": {},
   "outputs": [],
   "source": [
    "import psycopg2"
   ]
  },
  {
   "cell_type": "code",
   "execution_count": 2,
   "metadata": {},
   "outputs": [],
   "source": [
    "from pathlib import Path"
   ]
  },
  {
   "cell_type": "code",
   "execution_count": 3,
   "metadata": {},
   "outputs": [],
   "source": [
    "from psycopg2.extensions import ISOLATION_LEVEL_AUTOCOMMIT"
   ]
  },
  {
   "cell_type": "markdown",
   "metadata": {},
   "source": [
    "# Create role"
   ]
  },
  {
   "cell_type": "code",
   "execution_count": 44,
   "metadata": {},
   "outputs": [],
   "source": [
    "# low risk secrets:\n",
    "connection = psycopg2.connect(\n",
    "                                  host    =  '127.0.0.1',\n",
    "                                  user    =  'postgres',\n",
    "                                  database=  'postgres',\n",
    "                                  password=  \"DaVinci\",\n",
    "                                  port    = \"5432\",\n",
    "                                  connect_timeout=3,\n",
    "                                )"
   ]
  },
  {
   "cell_type": "code",
   "execution_count": 45,
   "metadata": {},
   "outputs": [
    {
     "data": {
      "text/plain": [
       "<connection object at 0x00000213E85896A8; dsn: 'user=postgres password=xxx connect_timeout=3 dbname=postgres host=127.0.0.1 port=5432', closed: 0>"
      ]
     },
     "execution_count": 45,
     "metadata": {},
     "output_type": "execute_result"
    }
   ],
   "source": [
    "connection"
   ]
  },
  {
   "cell_type": "code",
   "execution_count": 46,
   "metadata": {},
   "outputs": [],
   "source": [
    "crs = connection.cursor()"
   ]
  },
  {
   "cell_type": "code",
   "execution_count": 51,
   "metadata": {},
   "outputs": [
    {
     "data": {
      "text/plain": [
       "['postgres', 'human', 'mercury']"
      ]
     },
     "execution_count": 51,
     "metadata": {},
     "output_type": "execute_result"
    }
   ],
   "source": [
    "crs.execute(\"SELECT rolname FROM pg_roles\")\n",
    "roles = [item for sublist in crs.fetchall() for item in sublist]\n",
    "roles"
   ]
  },
  {
   "cell_type": "code",
   "execution_count": 49,
   "metadata": {},
   "outputs": [
    {
     "data": {
      "text/plain": [
       "[]"
      ]
     },
     "execution_count": 49,
     "metadata": {},
     "output_type": "execute_result"
    }
   ],
   "source": []
  },
  {
   "cell_type": "code",
   "execution_count": 16,
   "metadata": {},
   "outputs": [
    {
     "name": "stdout",
     "output_type": "stream",
     "text": [
      "\n",
      "CREATE ROLE mercury\n",
      "CREATEDB \n",
      "LOGIN \n",
      "SUPERUSER\n",
      "PASSWORD 'freddie';\n"
     ]
    }
   ],
   "source": [
    "username = \"mercury\"\n",
    "password = \"freddie\"\n",
    "\n",
    "psql = f\"\"\"\n",
    "CREATE ROLE {username}\n",
    "CREATEDB \n",
    "LOGIN \n",
    "SUPERUSER\n",
    "PASSWORD '{password}';\"\"\"\n",
    "\n",
    "print(psql)\n",
    "try:\n",
    "    crs.execute(psql)\n",
    "except Exception as e:\n",
    "    print(e)"
   ]
  },
  {
   "cell_type": "code",
   "execution_count": 17,
   "metadata": {},
   "outputs": [
    {
     "data": {
      "text/plain": [
       "[('postgres',), ('human',), ('mercury',)]"
      ]
     },
     "execution_count": 17,
     "metadata": {},
     "output_type": "execute_result"
    }
   ],
   "source": [
    "crs.execute(\"SELECT rolname FROM pg_roles\")\n",
    "crs.fetchall()"
   ]
  },
  {
   "cell_type": "code",
   "execution_count": 18,
   "metadata": {},
   "outputs": [],
   "source": [
    "# COMMIT CHANGES!\n",
    "connection.commit()"
   ]
  },
  {
   "cell_type": "code",
   "execution_count": 19,
   "metadata": {},
   "outputs": [],
   "source": [
    "# CLOSE CURSOR\n",
    "crs.close()"
   ]
  },
  {
   "cell_type": "code",
   "execution_count": 20,
   "metadata": {},
   "outputs": [],
   "source": [
    "# CLOSE CONNECTION\n",
    "connection.close()"
   ]
  },
  {
   "cell_type": "code",
   "execution_count": 21,
   "metadata": {},
   "outputs": [
    {
     "data": {
      "text/plain": [
       "<connection object at 0x00000213E7AA6D08; dsn: 'user=postgres password=xxx connect_timeout=3 dbname=postgres host=127.0.0.1 port=5432', closed: 1>"
      ]
     },
     "execution_count": 21,
     "metadata": {},
     "output_type": "execute_result"
    }
   ],
   "source": [
    "connection"
   ]
  },
  {
   "cell_type": "markdown",
   "metadata": {},
   "source": [
    "# Create Database"
   ]
  },
  {
   "cell_type": "code",
   "execution_count": 22,
   "metadata": {},
   "outputs": [],
   "source": [
    "# low risk secrets:\n",
    "connection = psycopg2.connect(\n",
    "                                  host    =  '127.0.0.1',\n",
    "                                  user    =  'postgres',\n",
    "                                  database=  'postgres',\n",
    "                                  password=  \"DaVinci\",\n",
    "                                  port    = \"5432\",\n",
    "                                  connect_timeout=3,\n",
    "                                )\n",
    "connection.set_isolation_level(ISOLATION_LEVEL_AUTOCOMMIT)"
   ]
  },
  {
   "cell_type": "code",
   "execution_count": 23,
   "metadata": {},
   "outputs": [],
   "source": [
    "cursor = connection.cursor()"
   ]
  },
  {
   "cell_type": "code",
   "execution_count": 24,
   "metadata": {},
   "outputs": [],
   "source": [
    "name = \"queen\"\n",
    "user = \"mercury\"\n",
    "\n",
    "cursor.execute(f\"CREATE DATABASE '{name}' WITH OWNER='{user}'\")"
   ]
  },
  {
   "cell_type": "code",
   "execution_count": 25,
   "metadata": {},
   "outputs": [],
   "source": [
    "# COMMIT CHANGES!\n",
    "connection.commit()"
   ]
  },
  {
   "cell_type": "code",
   "execution_count": 26,
   "metadata": {},
   "outputs": [],
   "source": [
    "cursor.close()"
   ]
  },
  {
   "cell_type": "code",
   "execution_count": 27,
   "metadata": {},
   "outputs": [],
   "source": [
    "connection.close()"
   ]
  },
  {
   "cell_type": "markdown",
   "metadata": {},
   "source": [
    "# Delete Database"
   ]
  },
  {
   "cell_type": "code",
   "execution_count": 37,
   "metadata": {},
   "outputs": [],
   "source": [
    "# low risk secrets:\n",
    "connection = psycopg2.connect(\n",
    "                                  host    =  '127.0.0.1',\n",
    "                                  user    =  'postgres',\n",
    "                                  database=  'postgres',\n",
    "                                  password=  \"DaVinci\",\n",
    "                                  port    = \"5432\",\n",
    "                                  connect_timeout=3,\n",
    "                                )\n",
    "connection.set_isolation_level(ISOLATION_LEVEL_AUTOCOMMIT)"
   ]
  },
  {
   "cell_type": "code",
   "execution_count": 38,
   "metadata": {},
   "outputs": [],
   "source": [
    "cursor = connection.cursor()"
   ]
  },
  {
   "cell_type": "code",
   "execution_count": 40,
   "metadata": {},
   "outputs": [],
   "source": [
    "name = \"queen\"\n",
    "\n",
    "# terminate user connections\n",
    "cursor.execute(f\"\"\"SELECT pg_terminate_backend (pid)\n",
    "FROM pg_stat_activity\n",
    "WHERE pg_stat_activity.datname = '{name}';\"\"\")\n",
    "\n",
    "cursor.execute(f\"DROP DATABASE {name}\")"
   ]
  },
  {
   "cell_type": "code",
   "execution_count": 41,
   "metadata": {},
   "outputs": [],
   "source": [
    "# COMMIT CHANGES!\n",
    "connection.commit()"
   ]
  },
  {
   "cell_type": "code",
   "execution_count": 42,
   "metadata": {},
   "outputs": [],
   "source": [
    "cursor.close()"
   ]
  },
  {
   "cell_type": "markdown",
   "metadata": {},
   "source": [
    "# Restart Server"
   ]
  },
  {
   "cell_type": "code",
   "execution_count": 11,
   "metadata": {},
   "outputs": [
    {
     "name": "stdout",
     "output_type": "stream",
     "text": [
      "... restarting postgres >>> cd /Library/PostgreSQL/9.5; sudo su postgres -c \"/Library/PostgreSQL/9.5/bin/pg_ctl restart -D /Library/PostgreSQL/9.5/data\"\n"
     ]
    }
   ],
   "source": [
    "with psycopg2.connect(\n",
    "                    # the `postgres` db comes standard issue\n",
    "                    database=\"postgres\",\n",
    "                    user=\"postgres\",\n",
    "                    password=\"DaVinci\",\n",
    "                    host=\"127.0.0.1\",\n",
    "                    port=\"5432\",\n",
    "                    connect_timeout=3,\n",
    "                  ) as connection:\n",
    "\n",
    "        crs = connection.cursor()\n",
    "\n",
    "        # Find where postgres is installed (datadir and pg_ctl in bin)\n",
    "        crs.execute(\"select name, setting from pg_settings where name = 'data_directory';\")\n",
    "        data_dir = Path(crs.fetchall()[0][1])\n",
    "        pg_ctl = data_dir.absolute().parent / 'bin/pg_ctl'\n",
    "\n",
    "        command = f'''cd {data_dir.absolute().parent}; sudo su postgres -c \"{pg_ctl} restart -D {data_dir}\"'''\n",
    "        print(\"... restarting postgres >>>\", command)\n",
    "        \n",
    "        crs.close()"
   ]
  },
  {
   "cell_type": "markdown",
   "metadata": {},
   "source": [
    "# Project information"
   ]
  },
  {
   "cell_type": "code",
   "execution_count": 28,
   "metadata": {},
   "outputs": [],
   "source": [
    "import psycopg2\n",
    "import psycopg2.extras"
   ]
  },
  {
   "cell_type": "code",
   "execution_count": 31,
   "metadata": {},
   "outputs": [],
   "source": [
    "with psycopg2.connect(\n",
    "                    database=\"queen\",\n",
    "                    user=\"mercury\",\n",
    "                    password=\"freddie\",\n",
    "                    host=\"127.0.0.1\",\n",
    "                    port=\"5432\",\n",
    "                    connect_timeout=3,\n",
    "                  ) as connection:\n",
    "    \n",
    "    sysid_columns = ['SysId','Name','LastSeen','ClientAddr','UserDefinedClientName']\n",
    "    sql = f'''SELECT \"{'\",\"'.join(sysid_columns)}\" FROM public.\"Sm2SysIdEntry\" '''\n",
    "    \n",
    "    crs = connection.cursor(cursor_factory = psycopg2.extras.NamedTupleCursor)\n",
    "    crs.execute(sql)\n",
    "    sysids = crs.fetchall()\n",
    "    \n",
    "    project_columns = ['ProjectName', 'IsLiveCollaborationEnabled', 'SysIds', 'SM_Project_id']\n",
    "    sql = f'''SELECT \"{'\",\"'.join(project_columns)}\" FROM public.\"SM_Project\" '''\n",
    "    \n",
    "    crs = connection.cursor(cursor_factory = psycopg2.extras.NamedTupleCursor)\n",
    "    crs.execute(sql)\n",
    "    projects = crs.fetchall()"
   ]
  },
  {
   "cell_type": "code",
   "execution_count": 32,
   "metadata": {},
   "outputs": [
    {
     "data": {
      "text/plain": [
       "[Record(SysId='f8b156a21693', Name='Philharmonic', LastSeen=1620601067, ClientAddr='127.0.0.1', UserDefinedClientName='')]"
      ]
     },
     "execution_count": 32,
     "metadata": {},
     "output_type": "execute_result"
    }
   ],
   "source": [
    "sysids"
   ]
  },
  {
   "cell_type": "code",
   "execution_count": 33,
   "metadata": {},
   "outputs": [
    {
     "data": {
      "text/plain": [
       "[Record(ProjectName='bohemian rhapsody', IsLiveCollaborationEnabled=False, SysIds='', SM_Project_id='70bf16c0-9266-4713-ab9e-9cb607d91014')]"
      ]
     },
     "execution_count": 33,
     "metadata": {},
     "output_type": "execute_result"
    }
   ],
   "source": [
    "projects"
   ]
  },
  {
   "cell_type": "code",
   "execution_count": 24,
   "metadata": {},
   "outputs": [
    {
     "data": {
      "text/plain": [
       "['3C22FB9CB594']"
      ]
     },
     "execution_count": 24,
     "metadata": {},
     "output_type": "execute_result"
    }
   ],
   "source": [
    "projects[0].SysIds.split(',')"
   ]
  },
  {
   "cell_type": "code",
   "execution_count": 42,
   "metadata": {},
   "outputs": [],
   "source": [
    "def user_in_project(user):\n",
    "    \"\"\" For a given user, what project are they in, if at all? \"\"\"\n",
    "    \n",
    "    with psycopg2.connect(\n",
    "                    # the `postgres` db comes standard issue\n",
    "                    database=\"\",\n",
    "                    user=\"\",\n",
    "                    password=\"\",\n",
    "                    host=\"127.0.0.1\",\n",
    "                    port=\"5432\",\n",
    "                    connect_timeout=3,\n",
    "                  ) as connection:\n",
    "    \n",
    "        sysid_columns = ['SysId','Name','LastSeen','ClientAddr','UserDefinedClientName']\n",
    "        sql = f'''SELECT \"{'\",\"'.join(sysid_columns)}\" FROM public.\"Sm2SysIdEntry\" '''\n",
    "\n",
    "        crs = connection.cursor(cursor_factory = psycopg2.extras.NamedTupleCursor)\n",
    "        crs.execute(sql)\n",
    "        sysids = crs.fetchall()\n",
    "\n",
    "        project_columns = ['ProjectName', 'IsLiveCollaborationEnabled', 'SysIds', 'SM_Project_id']\n",
    "        sql = f'''SELECT \"{'\",\"'.join(project_columns)}\" FROM public.\"SM_Project\" '''\n",
    "\n",
    "        crs = connection.cursor(cursor_factory = psycopg2.extras.NamedTupleCursor)\n",
    "        crs.execute(sql)\n",
    "        projects = crs.fetchall()\n",
    "    \n",
    "    if len(sysids) == 0:\n",
    "        # if there are no users in database this won't work...\n",
    "        return\n",
    "    \n",
    "    user_ip = user['ip']\n",
    "    \n",
    "    if user['name'] == 'Server':\n",
    "        # remap to home address if looking at server user\n",
    "        #  because resolve reports the home address, not first_ip\n",
    "        user_ip = '127.0.0.1' \n",
    "\n",
    "    # get sysid of user with user_ip\n",
    "    for select in sysids:\n",
    "        \n",
    "        if user_ip == select.ClientAddr:\n",
    "            # carry to after the loop\n",
    "            user_sysid = select.SysId\n",
    "            break\n",
    "            \n",
    "    else:\n",
    "        print(f\">>> User with ip {user_ip} was not found in Resolve database\")\n",
    "        return\n",
    "\n",
    "    for project in projects:\n",
    "\n",
    "        if project.SysIds != '':\n",
    "            # Someone's in there!\n",
    "            \n",
    "            user_ids = project.SysIds.split(',')\n",
    "\n",
    "            # Map to user\n",
    "            \n",
    "            for sysid in user_ids:\n",
    "                \n",
    "                if user_sysid == sysid:\n",
    "                    \n",
    "                    print(f\">>> {user['name']} is in {project.ProjectName}\")\n",
    "                    \n",
    "                    return project.ProjectName"
   ]
  },
  {
   "cell_type": "code",
   "execution_count": 43,
   "metadata": {},
   "outputs": [
    {
     "name": "stdout",
     "output_type": "stream",
     "text": [
      ">>> Server is in Hilbert Hotel\n"
     ]
    },
    {
     "data": {
      "text/plain": [
       "'Hilbert Hotel'"
      ]
     },
     "execution_count": 43,
     "metadata": {},
     "output_type": "execute_result"
    }
   ],
   "source": [
    "user_in_project({'name':'Server', 'ip':'7.0.0.1'})"
   ]
  },
  {
   "cell_type": "code",
   "execution_count": 44,
   "metadata": {},
   "outputs": [
    {
     "name": "stdout",
     "output_type": "stream",
     "text": [
      ">>> User with ip 7.0.0.7 was not found in Resolve database\n"
     ]
    }
   ],
   "source": [
    "user_in_project({'name':'Derek', 'ip':'7.0.0.7'})"
   ]
  },
  {
   "cell_type": "code",
   "execution_count": null,
   "metadata": {},
   "outputs": [],
   "source": []
  }
 ],
 "metadata": {
  "kernelspec": {
   "display_name": "Python 3",
   "language": "python",
   "name": "python3"
  },
  "language_info": {
   "codemirror_mode": {
    "name": "ipython",
    "version": 3
   },
   "file_extension": ".py",
   "mimetype": "text/x-python",
   "name": "python",
   "nbconvert_exporter": "python",
   "pygments_lexer": "ipython3",
   "version": "3.7.5"
  }
 },
 "nbformat": 4,
 "nbformat_minor": 5
}
