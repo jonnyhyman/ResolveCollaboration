{
 "cells": [
  {
   "cell_type": "code",
   "execution_count": 6,
   "id": "c89fa7cf",
   "metadata": {},
   "outputs": [],
   "source": [
    "import psycopg2"
   ]
  },
  {
   "cell_type": "code",
   "execution_count": 7,
   "id": "612474a6",
   "metadata": {},
   "outputs": [],
   "source": [
    "from pathlib import Path"
   ]
  },
  {
   "cell_type": "code",
   "execution_count": null,
   "id": "e148a9cc",
   "metadata": {},
   "outputs": [],
   "source": [
    "from psycopg2.extensions import ISOLATION_LEVEL_AUTOCOMMIT"
   ]
  },
  {
   "cell_type": "markdown",
   "id": "9bd71186",
   "metadata": {},
   "source": [
    "# Create role"
   ]
  },
  {
   "cell_type": "code",
   "execution_count": null,
   "id": "f75cc5d2",
   "metadata": {},
   "outputs": [],
   "source": [
    "# low risk secrets:\n",
    "connection = psycopg2.connect(\n",
    "                                  host    =  '127.0.0.1',\n",
    "                                  user    =  'postgres',\n",
    "                                  database=  'postgres',\n",
    "                                  password=  \"DaVinci\",\n",
    "                                  port    = \"5432\",\n",
    "                                  connect_timeout=3,\n",
    "                                )"
   ]
  },
  {
   "cell_type": "code",
   "execution_count": null,
   "id": "14904f87",
   "metadata": {},
   "outputs": [],
   "source": [
    "connection"
   ]
  },
  {
   "cell_type": "code",
   "execution_count": null,
   "id": "2bad658a",
   "metadata": {},
   "outputs": [],
   "source": [
    "crs = connection.cursor()"
   ]
  },
  {
   "cell_type": "code",
   "execution_count": null,
   "id": "3bf66e89",
   "metadata": {},
   "outputs": [],
   "source": [
    "crs.execute(\"SELECT rolname FROM pg_roles\")\n",
    "crs.fetchall()"
   ]
  },
  {
   "cell_type": "code",
   "execution_count": null,
   "id": "85ae52f9",
   "metadata": {},
   "outputs": [],
   "source": [
    "username = \"\"\n",
    "password = \"\"\n",
    "\n",
    "psql = f\"\"\"\n",
    "CREATE ROLE {username}\n",
    "CREATEDB \n",
    "LOGIN \n",
    "PASSWORD '{password}';\"\"\"\n",
    "\n",
    "print(psql)\n",
    "try:\n",
    "    crs.execute(psql)\n",
    "except Exception as e:\n",
    "    print(e)"
   ]
  },
  {
   "cell_type": "code",
   "execution_count": null,
   "id": "1c281309",
   "metadata": {},
   "outputs": [],
   "source": [
    "crs.execute(\"SELECT rolname FROM pg_roles\")\n",
    "crs.fetchall()"
   ]
  },
  {
   "cell_type": "code",
   "execution_count": null,
   "id": "e1ce9de4",
   "metadata": {},
   "outputs": [],
   "source": [
    "# COMMIT CHANGES!\n",
    "connection.commit()"
   ]
  },
  {
   "cell_type": "code",
   "execution_count": null,
   "id": "13e6a4b4",
   "metadata": {},
   "outputs": [],
   "source": [
    "# CLOSE CURSOR\n",
    "crs.close()"
   ]
  },
  {
   "cell_type": "code",
   "execution_count": null,
   "id": "8efd32e6",
   "metadata": {},
   "outputs": [],
   "source": [
    "# CLOSE CONNECTION\n",
    "connection.close()"
   ]
  },
  {
   "cell_type": "code",
   "execution_count": null,
   "id": "e18288a2",
   "metadata": {},
   "outputs": [],
   "source": [
    "connection"
   ]
  },
  {
   "cell_type": "markdown",
   "id": "d6c53918",
   "metadata": {},
   "source": [
    "# Create Database"
   ]
  },
  {
   "cell_type": "code",
   "execution_count": null,
   "id": "3ac1b32f",
   "metadata": {},
   "outputs": [],
   "source": [
    "# low risk secrets:\n",
    "connection = psycopg2.connect(\n",
    "                                  host    =  '127.0.0.1',\n",
    "                                  user    =  'postgres',\n",
    "                                  database=  'postgres',\n",
    "                                  password=  \"DaVinci\",\n",
    "                                  port    = \"5432\",\n",
    "                                  connect_timeout=3,\n",
    "                                )\n",
    "connection.set_isolation_level(ISOLATION_LEVEL_AUTOCOMMIT)"
   ]
  },
  {
   "cell_type": "code",
   "execution_count": null,
   "id": "6943338f",
   "metadata": {},
   "outputs": [],
   "source": [
    "cursor = connection.cursor()"
   ]
  },
  {
   "cell_type": "code",
   "execution_count": null,
   "id": "27ff8622",
   "metadata": {},
   "outputs": [],
   "source": [
    "name = \"garden\"\n",
    "user = \"human\"\n",
    "\n",
    "cursor.execute(f\"CREATE DATABASE {name} WITH OWNER={user}\")"
   ]
  },
  {
   "cell_type": "code",
   "execution_count": null,
   "id": "927ad1e4",
   "metadata": {},
   "outputs": [],
   "source": [
    "# COMMIT CHANGES!\n",
    "connection.commit()"
   ]
  },
  {
   "cell_type": "code",
   "execution_count": null,
   "id": "d5c0011b",
   "metadata": {},
   "outputs": [],
   "source": [
    "cursor.close()"
   ]
  },
  {
   "cell_type": "code",
   "execution_count": null,
   "id": "f84c28bb",
   "metadata": {},
   "outputs": [],
   "source": [
    "connection.close()"
   ]
  },
  {
   "cell_type": "markdown",
   "id": "df3e62e8",
   "metadata": {},
   "source": [
    "# Restart Server"
   ]
  },
  {
   "cell_type": "code",
   "execution_count": 11,
   "id": "74f09d20",
   "metadata": {},
   "outputs": [
    {
     "name": "stdout",
     "output_type": "stream",
     "text": [
      "... restarting postgres >>> cd /Library/PostgreSQL/9.5; sudo su postgres -c \"/Library/PostgreSQL/9.5/bin/pg_ctl restart -D /Library/PostgreSQL/9.5/data\"\n"
     ]
    }
   ],
   "source": [
    "with psycopg2.connect(\n",
    "                    # the `postgres` db comes standard issue\n",
    "                    database=\"postgres\",\n",
    "                    user=\"postgres\",\n",
    "                    password=\"DaVinci\",\n",
    "                    host=\"127.0.0.1\",\n",
    "                    port=\"5432\",\n",
    "                    connect_timeout=3,\n",
    "                  ) as connection:\n",
    "\n",
    "        crs = connection.cursor()\n",
    "\n",
    "        # Find where postgres is installed (datadir and pg_ctl in bin)\n",
    "        crs.execute(\"select name, setting from pg_settings where name = 'data_directory';\")\n",
    "        data_dir = Path(crs.fetchall()[0][1])\n",
    "        pg_ctl = data_dir.absolute().parent / 'bin/pg_ctl'\n",
    "\n",
    "        command = f'''cd {data_dir.absolute().parent}; sudo su postgres -c \"{pg_ctl} restart -D {data_dir}\"'''\n",
    "        print(\"... restarting postgres >>>\", command)\n",
    "        \n",
    "        crs.close()"
   ]
  },
  {
   "cell_type": "code",
   "execution_count": null,
   "id": "bb159a3a",
   "metadata": {},
   "outputs": [],
   "source": []
  }
 ],
 "metadata": {
  "kernelspec": {
   "display_name": "Python 3",
   "language": "python",
   "name": "python3"
  },
  "language_info": {
   "codemirror_mode": {
    "name": "ipython",
    "version": 3
   },
   "file_extension": ".py",
   "mimetype": "text/x-python",
   "name": "python",
   "nbconvert_exporter": "python",
   "pygments_lexer": "ipython3",
   "version": "3.7.10"
  }
 },
 "nbformat": 4,
 "nbformat_minor": 5
}
