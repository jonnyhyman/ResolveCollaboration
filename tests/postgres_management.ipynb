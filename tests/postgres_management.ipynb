{
 "cells": [
  {
   "cell_type": "code",
   "execution_count": 66,
   "id": "69c489d2",
   "metadata": {},
   "outputs": [],
   "source": [
    "import psycopg2"
   ]
  },
  {
   "cell_type": "code",
   "execution_count": 67,
   "id": "9e5031a5",
   "metadata": {},
   "outputs": [],
   "source": [
    "from psycopg2.extensions import ISOLATION_LEVEL_AUTOCOMMIT"
   ]
  },
  {
   "cell_type": "markdown",
   "id": "8cb4c3e2",
   "metadata": {},
   "source": [
    "# Create role"
   ]
  },
  {
   "cell_type": "code",
   "execution_count": 49,
   "id": "6357b175",
   "metadata": {},
   "outputs": [],
   "source": [
    "# low risk secrets:\n",
    "connection = psycopg2.connect(\n",
    "                                  host    =  '127.0.0.1',\n",
    "                                  user    =  'postgres',\n",
    "                                  database=  'postgres',\n",
    "                                  password=  \"DaVinci\",\n",
    "                                  port    = \"5432\",\n",
    "                                  connect_timeout=3,\n",
    "                                )"
   ]
  },
  {
   "cell_type": "code",
   "execution_count": 50,
   "id": "31d71998",
   "metadata": {},
   "outputs": [
    {
     "data": {
      "text/plain": [
       "<connection object at 0x7fafd0466730; dsn: 'user=postgres password=xxx connect_timeout=3 dbname=postgres host=127.0.0.1 port=5432', closed: 0>"
      ]
     },
     "execution_count": 50,
     "metadata": {},
     "output_type": "execute_result"
    }
   ],
   "source": [
    "connection"
   ]
  },
  {
   "cell_type": "code",
   "execution_count": 51,
   "id": "8681f4dd",
   "metadata": {},
   "outputs": [],
   "source": [
    "crs = connection.cursor()"
   ]
  },
  {
   "cell_type": "code",
   "execution_count": 52,
   "id": "100bf8aa",
   "metadata": {},
   "outputs": [
    {
     "data": {
      "text/plain": [
       "[('postgres',), ('test_user',)]"
      ]
     },
     "execution_count": 52,
     "metadata": {},
     "output_type": "execute_result"
    }
   ],
   "source": [
    "crs.execute(\"SELECT rolname FROM pg_roles\")\n",
    "crs.fetchall()"
   ]
  },
  {
   "cell_type": "code",
   "execution_count": 53,
   "id": "0ee7e872",
   "metadata": {},
   "outputs": [
    {
     "name": "stdout",
     "output_type": "stream",
     "text": [
      "\n",
      "CREATE ROLE human\n",
      "CREATEDB \n",
      "LOGIN \n",
      "PASSWORD '@LearnBeyondTheBook!';\n"
     ]
    }
   ],
   "source": [
    "username = \"\"\n",
    "password = \"\"\n",
    "\n",
    "psql = f\"\"\"\n",
    "CREATE ROLE {username}\n",
    "CREATEDB \n",
    "LOGIN \n",
    "PASSWORD '{password}';\"\"\"\n",
    "\n",
    "print(psql)\n",
    "try:\n",
    "    crs.execute(psql)\n",
    "except Exception as e:\n",
    "    print(e)"
   ]
  },
  {
   "cell_type": "code",
   "execution_count": 54,
   "id": "62f46c79",
   "metadata": {},
   "outputs": [
    {
     "data": {
      "text/plain": [
       "[('postgres',), ('test_user',), ('human',)]"
      ]
     },
     "execution_count": 54,
     "metadata": {},
     "output_type": "execute_result"
    }
   ],
   "source": [
    "crs.execute(\"SELECT rolname FROM pg_roles\")\n",
    "crs.fetchall()"
   ]
  },
  {
   "cell_type": "code",
   "execution_count": 55,
   "id": "93335c50",
   "metadata": {},
   "outputs": [],
   "source": [
    "# COMMIT CHANGES!\n",
    "connection.commit()"
   ]
  },
  {
   "cell_type": "code",
   "execution_count": 56,
   "id": "4c1c41af",
   "metadata": {},
   "outputs": [],
   "source": [
    "# CLOSE CURSOR\n",
    "crs.close()"
   ]
  },
  {
   "cell_type": "code",
   "execution_count": 57,
   "id": "5866c886",
   "metadata": {},
   "outputs": [],
   "source": [
    "# CLOSE CONNECTION\n",
    "connection.close()"
   ]
  },
  {
   "cell_type": "code",
   "execution_count": 58,
   "id": "a8f53bd6",
   "metadata": {},
   "outputs": [
    {
     "data": {
      "text/plain": [
       "<connection object at 0x7fafd0466730; dsn: 'user=postgres password=xxx connect_timeout=3 dbname=postgres host=127.0.0.1 port=5432', closed: 1>"
      ]
     },
     "execution_count": 58,
     "metadata": {},
     "output_type": "execute_result"
    }
   ],
   "source": [
    "connection"
   ]
  },
  {
   "cell_type": "markdown",
   "id": "baa5efe5",
   "metadata": {},
   "source": [
    "# Create Database"
   ]
  },
  {
   "cell_type": "code",
   "execution_count": 68,
   "id": "68a86865",
   "metadata": {},
   "outputs": [],
   "source": [
    "# low risk secrets:\n",
    "connection = psycopg2.connect(\n",
    "                                  host    =  '127.0.0.1',\n",
    "                                  user    =  'postgres',\n",
    "                                  database=  'postgres',\n",
    "                                  password=  \"DaVinci\",\n",
    "                                  port    = \"5432\",\n",
    "                                  connect_timeout=3,\n",
    "                                )\n",
    "connection.set_isolation_level(ISOLATION_LEVEL_AUTOCOMMIT)"
   ]
  },
  {
   "cell_type": "code",
   "execution_count": 69,
   "id": "b07f266e",
   "metadata": {},
   "outputs": [],
   "source": [
    "cursor = connection.cursor()"
   ]
  },
  {
   "cell_type": "code",
   "execution_count": 70,
   "id": "e6a617c3",
   "metadata": {},
   "outputs": [
    {
     "ename": "ProgrammingError",
     "evalue": "no results to fetch",
     "output_type": "error",
     "traceback": [
      "\u001b[0;31m---------------------------------------------------------------------------\u001b[0m",
      "\u001b[0;31mProgrammingError\u001b[0m                          Traceback (most recent call last)",
      "\u001b[0;32m<ipython-input-70-3cbd58833eaf>\u001b[0m in \u001b[0;36m<module>\u001b[0;34m\u001b[0m\n\u001b[1;32m      3\u001b[0m \u001b[0;34m\u001b[0m\u001b[0m\n\u001b[1;32m      4\u001b[0m \u001b[0mcursor\u001b[0m\u001b[0;34m.\u001b[0m\u001b[0mexecute\u001b[0m\u001b[0;34m(\u001b[0m\u001b[0;34mf\"CREATE DATABASE {name} WITH OWNER={user}\"\u001b[0m\u001b[0;34m)\u001b[0m\u001b[0;34m\u001b[0m\u001b[0;34m\u001b[0m\u001b[0m\n\u001b[0;32m----> 5\u001b[0;31m \u001b[0mcursor\u001b[0m\u001b[0;34m.\u001b[0m\u001b[0mfetchall\u001b[0m\u001b[0;34m(\u001b[0m\u001b[0;34m)\u001b[0m\u001b[0;34m\u001b[0m\u001b[0;34m\u001b[0m\u001b[0m\n\u001b[0m",
      "\u001b[0;31mProgrammingError\u001b[0m: no results to fetch"
     ]
    }
   ],
   "source": [
    "name = \"garden\"\n",
    "user = \"human\"\n",
    "\n",
    "cursor.execute(f\"CREATE DATABASE {name} WITH OWNER={user}\")"
   ]
  },
  {
   "cell_type": "code",
   "execution_count": 71,
   "id": "cfc1d18d",
   "metadata": {},
   "outputs": [],
   "source": [
    "# COMMIT CHANGES!\n",
    "connection.commit()"
   ]
  },
  {
   "cell_type": "code",
   "execution_count": null,
   "id": "7a77b949",
   "metadata": {},
   "outputs": [],
   "source": [
    "cursor.close()"
   ]
  },
  {
   "cell_type": "code",
   "execution_count": 72,
   "id": "29a2457a",
   "metadata": {},
   "outputs": [],
   "source": [
    "connection.close()"
   ]
  }
 ],
 "metadata": {
  "kernelspec": {
   "display_name": "Python 3",
   "language": "python",
   "name": "python3"
  },
  "language_info": {
   "codemirror_mode": {
    "name": "ipython",
    "version": 3
   },
   "file_extension": ".py",
   "mimetype": "text/x-python",
   "name": "python",
   "nbconvert_exporter": "python",
   "pygments_lexer": "ipython3",
   "version": "3.7.10"
  }
 },
 "nbformat": 4,
 "nbformat_minor": 5
}
