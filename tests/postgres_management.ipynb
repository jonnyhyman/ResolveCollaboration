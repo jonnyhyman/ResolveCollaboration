{
 "cells": [
  {
   "cell_type": "code",
   "execution_count": 6,
   "id": "91cd08db",
   "metadata": {},
   "outputs": [],
   "source": [
    "import psycopg2"
   ]
  },
  {
   "cell_type": "code",
   "execution_count": 7,
   "id": "841257f0",
   "metadata": {},
   "outputs": [],
   "source": [
    "from pathlib import Path"
   ]
  },
  {
   "cell_type": "code",
   "execution_count": null,
   "id": "09f29ff9",
   "metadata": {},
   "outputs": [],
   "source": [
    "from psycopg2.extensions import ISOLATION_LEVEL_AUTOCOMMIT"
   ]
  },
  {
   "cell_type": "markdown",
   "id": "727981b8",
   "metadata": {},
   "source": [
    "# Create role"
   ]
  },
  {
   "cell_type": "code",
   "execution_count": null,
   "id": "9236be78",
   "metadata": {},
   "outputs": [],
   "source": [
    "# low risk secrets:\n",
    "connection = psycopg2.connect(\n",
    "                                  host    =  '127.0.0.1',\n",
    "                                  user    =  'postgres',\n",
    "                                  database=  'postgres',\n",
    "                                  password=  \"DaVinci\",\n",
    "                                  port    = \"5432\",\n",
    "                                  connect_timeout=3,\n",
    "                                )"
   ]
  },
  {
   "cell_type": "code",
   "execution_count": null,
   "id": "ac4297c1",
   "metadata": {},
   "outputs": [],
   "source": [
    "connection"
   ]
  },
  {
   "cell_type": "code",
   "execution_count": null,
   "id": "a55aaf5c",
   "metadata": {},
   "outputs": [],
   "source": [
    "crs = connection.cursor()"
   ]
  },
  {
   "cell_type": "code",
   "execution_count": null,
   "id": "82149931",
   "metadata": {},
   "outputs": [],
   "source": [
    "crs.execute(\"SELECT rolname FROM pg_roles\")\n",
    "crs.fetchall()"
   ]
  },
  {
   "cell_type": "code",
   "execution_count": null,
   "id": "abb64ed0",
   "metadata": {},
   "outputs": [],
   "source": [
    "username = \"\"\n",
    "password = \"\"\n",
    "\n",
    "psql = f\"\"\"\n",
    "CREATE ROLE {username}\n",
    "CREATEDB \n",
    "LOGIN \n",
    "PASSWORD '{password}';\"\"\"\n",
    "\n",
    "print(psql)\n",
    "try:\n",
    "    crs.execute(psql)\n",
    "except Exception as e:\n",
    "    print(e)"
   ]
  },
  {
   "cell_type": "code",
   "execution_count": null,
   "id": "5b37efad",
   "metadata": {},
   "outputs": [],
   "source": [
    "crs.execute(\"SELECT rolname FROM pg_roles\")\n",
    "crs.fetchall()"
   ]
  },
  {
   "cell_type": "code",
   "execution_count": null,
   "id": "0a02e5ea",
   "metadata": {},
   "outputs": [],
   "source": [
    "# COMMIT CHANGES!\n",
    "connection.commit()"
   ]
  },
  {
   "cell_type": "code",
   "execution_count": null,
   "id": "2d002aca",
   "metadata": {},
   "outputs": [],
   "source": [
    "# CLOSE CURSOR\n",
    "crs.close()"
   ]
  },
  {
   "cell_type": "code",
   "execution_count": null,
   "id": "a7cfd4db",
   "metadata": {},
   "outputs": [],
   "source": [
    "# CLOSE CONNECTION\n",
    "connection.close()"
   ]
  },
  {
   "cell_type": "code",
   "execution_count": null,
   "id": "28ef3e7c",
   "metadata": {},
   "outputs": [],
   "source": [
    "connection"
   ]
  },
  {
   "cell_type": "markdown",
   "id": "dcbcb1e6",
   "metadata": {},
   "source": [
    "# Create Database"
   ]
  },
  {
   "cell_type": "code",
   "execution_count": null,
   "id": "9848399f",
   "metadata": {},
   "outputs": [],
   "source": [
    "# low risk secrets:\n",
    "connection = psycopg2.connect(\n",
    "                                  host    =  '127.0.0.1',\n",
    "                                  user    =  'postgres',\n",
    "                                  database=  'postgres',\n",
    "                                  password=  \"DaVinci\",\n",
    "                                  port    = \"5432\",\n",
    "                                  connect_timeout=3,\n",
    "                                )\n",
    "connection.set_isolation_level(ISOLATION_LEVEL_AUTOCOMMIT)"
   ]
  },
  {
   "cell_type": "code",
   "execution_count": null,
   "id": "62a41069",
   "metadata": {},
   "outputs": [],
   "source": [
    "cursor = connection.cursor()"
   ]
  },
  {
   "cell_type": "code",
   "execution_count": null,
   "id": "fb7882f7",
   "metadata": {},
   "outputs": [],
   "source": [
    "name = \"garden\"\n",
    "user = \"human\"\n",
    "\n",
    "cursor.execute(f\"CREATE DATABASE {name} WITH OWNER={user}\")"
   ]
  },
  {
   "cell_type": "code",
   "execution_count": null,
   "id": "590b7389",
   "metadata": {},
   "outputs": [],
   "source": [
    "# COMMIT CHANGES!\n",
    "connection.commit()"
   ]
  },
  {
   "cell_type": "code",
   "execution_count": null,
   "id": "253aa1bf",
   "metadata": {},
   "outputs": [],
   "source": [
    "cursor.close()"
   ]
  },
  {
   "cell_type": "code",
   "execution_count": null,
   "id": "1cdb215a",
   "metadata": {},
   "outputs": [],
   "source": [
    "connection.close()"
   ]
  },
  {
   "cell_type": "markdown",
   "id": "368640ea",
   "metadata": {},
   "source": [
    "# Restart Server"
   ]
  },
  {
   "cell_type": "code",
   "execution_count": 11,
   "id": "dc98e05a",
   "metadata": {},
   "outputs": [
    {
     "name": "stdout",
     "output_type": "stream",
     "text": [
      "... restarting postgres >>> cd /Library/PostgreSQL/9.5; sudo su postgres -c \"/Library/PostgreSQL/9.5/bin/pg_ctl restart -D /Library/PostgreSQL/9.5/data\"\n"
     ]
    }
   ],
   "source": [
    "with psycopg2.connect(\n",
    "                    # the `postgres` db comes standard issue\n",
    "                    database=\"postgres\",\n",
    "                    user=\"postgres\",\n",
    "                    password=\"DaVinci\",\n",
    "                    host=\"127.0.0.1\",\n",
    "                    port=\"5432\",\n",
    "                    connect_timeout=3,\n",
    "                  ) as connection:\n",
    "\n",
    "        crs = connection.cursor()\n",
    "\n",
    "        # Find where postgres is installed (datadir and pg_ctl in bin)\n",
    "        crs.execute(\"select name, setting from pg_settings where name = 'data_directory';\")\n",
    "        data_dir = Path(crs.fetchall()[0][1])\n",
    "        pg_ctl = data_dir.absolute().parent / 'bin/pg_ctl'\n",
    "\n",
    "        command = f'''cd {data_dir.absolute().parent}; sudo su postgres -c \"{pg_ctl} restart -D {data_dir}\"'''\n",
    "        print(\"... restarting postgres >>>\", command)\n",
    "        \n",
    "        crs.close()"
   ]
  },
  {
   "cell_type": "markdown",
   "id": "57242775",
   "metadata": {},
   "source": [
    "# Project information"
   ]
  },
  {
   "cell_type": "code",
   "execution_count": 8,
   "id": "c605b18a",
   "metadata": {},
   "outputs": [],
   "source": [
    "import psycopg2\n",
    "import psycopg2.extras"
   ]
  },
  {
   "cell_type": "code",
   "execution_count": 39,
   "id": "baab2e56",
   "metadata": {},
   "outputs": [],
   "source": [
    "with psycopg2.connect(\n",
    "                    database=\"\",\n",
    "                    user=\"\",\n",
    "                    password=\"\",\n",
    "                    host=\"127.0.0.1\",\n",
    "                    port=\"5432\",\n",
    "                    connect_timeout=3,\n",
    "                  ) as connection:\n",
    "    \n",
    "    sysid_columns = ['SysId','Name','LastSeen','ClientAddr','UserDefinedClientName']\n",
    "    sql = f'''SELECT \"{'\",\"'.join(sysid_columns)}\" FROM public.\"Sm2SysIdEntry\" '''\n",
    "    \n",
    "    crs = connection.cursor(cursor_factory = psycopg2.extras.NamedTupleCursor)\n",
    "    crs.execute(sql)\n",
    "    sysids = crs.fetchall()\n",
    "    \n",
    "    project_columns = ['ProjectName', 'IsLiveCollaborationEnabled', 'SysIds', 'SM_Project_id']\n",
    "    sql = f'''SELECT \"{'\",\"'.join(project_columns)}\" FROM public.\"SM_Project\" '''\n",
    "    \n",
    "    crs = connection.cursor(cursor_factory = psycopg2.extras.NamedTupleCursor)\n",
    "    crs.execute(sql)\n",
    "    projects = crs.fetchall()"
   ]
  },
  {
   "cell_type": "code",
   "execution_count": 40,
   "id": "db1918fa",
   "metadata": {},
   "outputs": [
    {
     "data": {
      "text/plain": [
       "[Record(SysId='ACBC32B39E0D', Name='Viola', LastSeen=1620088881, ClientAddr=None, UserDefinedClientName=''),\n",
       " Record(SysId='3C22FB9CB594', Name='MacBook-Pro', LastSeen=1620354931, ClientAddr='127.0.0.1', UserDefinedClientName='Jonny'),\n",
       " Record(SysId='D0817ADA2BE4', Name='Dereks-iMac-Pro', LastSeen=1620370582, ClientAddr=None, UserDefinedClientName='')]"
      ]
     },
     "execution_count": 40,
     "metadata": {},
     "output_type": "execute_result"
    }
   ],
   "source": [
    "sysids"
   ]
  },
  {
   "cell_type": "code",
   "execution_count": 41,
   "id": "d2bfb2ef",
   "metadata": {},
   "outputs": [
    {
     "data": {
      "text/plain": [
       "[Record(ProjectName='Hilbert Hotel', IsLiveCollaborationEnabled=True, SysIds='3C22FB9CB594', SM_Project_id='0ee9b114-30dc-46ba-b559-f64feba206b8')]"
      ]
     },
     "execution_count": 41,
     "metadata": {},
     "output_type": "execute_result"
    }
   ],
   "source": [
    "projects"
   ]
  },
  {
   "cell_type": "code",
   "execution_count": 24,
   "id": "8480eb73",
   "metadata": {},
   "outputs": [
    {
     "data": {
      "text/plain": [
       "['3C22FB9CB594']"
      ]
     },
     "execution_count": 24,
     "metadata": {},
     "output_type": "execute_result"
    }
   ],
   "source": [
    "projects[0].SysIds.split(',')"
   ]
  },
  {
   "cell_type": "code",
   "execution_count": 42,
   "id": "9ef8f2ae",
   "metadata": {},
   "outputs": [],
   "source": [
    "def user_in_project(user):\n",
    "    \"\"\" For a given user, what project are they in, if at all? \"\"\"\n",
    "    \n",
    "    with psycopg2.connect(\n",
    "                    # the `postgres` db comes standard issue\n",
    "                    database=\"\",\n",
    "                    user=\"\",\n",
    "                    password=\"\",\n",
    "                    host=\"127.0.0.1\",\n",
    "                    port=\"5432\",\n",
    "                    connect_timeout=3,\n",
    "                  ) as connection:\n",
    "    \n",
    "        sysid_columns = ['SysId','Name','LastSeen','ClientAddr','UserDefinedClientName']\n",
    "        sql = f'''SELECT \"{'\",\"'.join(sysid_columns)}\" FROM public.\"Sm2SysIdEntry\" '''\n",
    "\n",
    "        crs = connection.cursor(cursor_factory = psycopg2.extras.NamedTupleCursor)\n",
    "        crs.execute(sql)\n",
    "        sysids = crs.fetchall()\n",
    "\n",
    "        project_columns = ['ProjectName', 'IsLiveCollaborationEnabled', 'SysIds', 'SM_Project_id']\n",
    "        sql = f'''SELECT \"{'\",\"'.join(project_columns)}\" FROM public.\"SM_Project\" '''\n",
    "\n",
    "        crs = connection.cursor(cursor_factory = psycopg2.extras.NamedTupleCursor)\n",
    "        crs.execute(sql)\n",
    "        projects = crs.fetchall()\n",
    "    \n",
    "    if len(sysids) == 0:\n",
    "        # if there are no users in database this won't work...\n",
    "        return\n",
    "    \n",
    "    user_ip = user['ip']\n",
    "    \n",
    "    if user['name'] == 'Server':\n",
    "        # remap to home address if looking at server user\n",
    "        #  because resolve reports the home address, not first_ip\n",
    "        user_ip = '127.0.0.1' \n",
    "\n",
    "    # get sysid of user with user_ip\n",
    "    for select in sysids:\n",
    "        \n",
    "        if user_ip == select.ClientAddr:\n",
    "            # carry to after the loop\n",
    "            user_sysid = select.SysId\n",
    "            break\n",
    "            \n",
    "    else:\n",
    "        print(f\">>> User with ip {user_ip} was not found in Resolve database\")\n",
    "        return\n",
    "\n",
    "    for project in projects:\n",
    "\n",
    "        if project.SysIds != '':\n",
    "            # Someone's in there!\n",
    "            \n",
    "            user_ids = project.SysIds.split(',')\n",
    "\n",
    "            # Map to user\n",
    "            \n",
    "            for sysid in user_ids:\n",
    "                \n",
    "                if user_sysid == sysid:\n",
    "                    \n",
    "                    print(f\">>> {user['name']} is in {project.ProjectName}\")\n",
    "                    \n",
    "                    return project.ProjectName"
   ]
  },
  {
   "cell_type": "code",
   "execution_count": 43,
   "id": "10aad2c9",
   "metadata": {},
   "outputs": [
    {
     "name": "stdout",
     "output_type": "stream",
     "text": [
      ">>> Server is in Hilbert Hotel\n"
     ]
    },
    {
     "data": {
      "text/plain": [
       "'Hilbert Hotel'"
      ]
     },
     "execution_count": 43,
     "metadata": {},
     "output_type": "execute_result"
    }
   ],
   "source": [
    "user_in_project({'name':'Server', 'ip':'7.0.0.1'})"
   ]
  },
  {
   "cell_type": "code",
   "execution_count": 44,
   "id": "80bd4d10",
   "metadata": {},
   "outputs": [
    {
     "name": "stdout",
     "output_type": "stream",
     "text": [
      ">>> User with ip 7.0.0.7 was not found in Resolve database\n"
     ]
    }
   ],
   "source": [
    "user_in_project({'name':'Derek', 'ip':'7.0.0.7'})"
   ]
  },
  {
   "cell_type": "code",
   "execution_count": null,
   "id": "118391c0",
   "metadata": {},
   "outputs": [],
   "source": []
  }
 ],
 "metadata": {
  "kernelspec": {
   "display_name": "Python 3",
   "language": "python",
   "name": "python3"
  },
  "language_info": {
   "codemirror_mode": {
    "name": "ipython",
    "version": 3
   },
   "file_extension": ".py",
   "mimetype": "text/x-python",
   "name": "python",
   "nbconvert_exporter": "python",
   "pygments_lexer": "ipython3",
   "version": "3.7.10"
  }
 },
 "nbformat": 4,
 "nbformat_minor": 5
}
