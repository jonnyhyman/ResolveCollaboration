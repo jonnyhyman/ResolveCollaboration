{
 "cells": [
  {
   "cell_type": "code",
   "execution_count": 7,
   "id": "6bc6f264-9647-4a54-88da-6a6aeed0e6b8",
   "metadata": {},
   "outputs": [],
   "source": [
    "import psycopg2\n",
    "import psycopg2.extras"
   ]
  },
  {
   "cell_type": "markdown",
   "id": "567752c1-4837-475f-b92c-1530a8e050b7",
   "metadata": {},
   "source": [
    "```sql\n",
    "SELECT\n",
    "  tablename.id,\n",
    "  reverse(SPLIT_PART(SPLIT_PART(tablename.name, ',', numbers.n), ',', 1)) AS name\n",
    "FROM\n",
    "  (SELECT 1 n UNION ALL SELECT 2\n",
    "   UNION ALL SELECT 3 UNION ALL SELECT 4) numbers INNER JOIN tablename\n",
    "  ON CHARACTER_LENGTH(tablename.name)\n",
    "     -CHARACTER_LENGTH(REPLACE(tablename.name, ',', ''))>=numbers.n-1\n",
    "ORDER BY\n",
    "  id, n\n",
    "```"
   ]
  },
  {
   "cell_type": "markdown",
   "id": "b7ea417d-9886-4c3c-8d19-2e36af07aa12",
   "metadata": {},
   "source": [
    "# <span style=\"color:Yellow\">HIGH RISK SECRET</span>"
   ]
  },
  {
   "cell_type": "code",
   "execution_count": 23,
   "id": "ae52597f-b954-4eff-9801-ded40029ac0b",
   "metadata": {},
   "outputs": [
    {
     "name": "stdout",
     "output_type": "stream",
     "text": [
      "SELECT\n",
      "      public.\"SM_Project\".\"ProjectName\",\n",
      "      reverse(SPLIT_PART(SPLIT_PART(public.\"SM_Project\".\"SysIds\", ',', numbers.n), ',', 1)) AS SysId\n",
      "    FROM\n",
      "      (SELECT 1 n ) numbers INNER JOIN public.\"SM_Project\"\n",
      "      ON CHARACTER_LENGTH(public.\"SM_Project\".\"SysIds\")\n",
      "         -CHARACTER_LENGTH(REPLACE(public.\"SM_Project\".\"SysIds\", ',', ''))>=numbers.n-1\n",
      "         \n",
      "    ORDER BY\n",
      "      \"ProjectName\", n\n",
      "    \n"
     ]
    }
   ],
   "source": [
    "with psycopg2.connect(\n",
    "    database = \"mercury\",\n",
    "    user = \"human\",\n",
    "    host = '11.0.0.1',\n",
    "    password = '@LearnBeyondTheBook!'\n",
    ") as connection:\n",
    "    \n",
    "#     sysid_columns = ['SysId','Name','LastSeen','ClientAddr','UserDefinedClientName']\n",
    "#     sql = f'''SELECT \"{'\",\"'.join(sysid_columns)}\" FROM public.\"Sm2SysIdEntry\" '''\n",
    "\n",
    "#     crs = connection.cursor(cursor_factory = psycopg2.extras.NamedTupleCursor)\n",
    "#     crs.execute(sql)\n",
    "#     sysids = crs.fetchall()\n",
    "\n",
    "#     project_columns = ['ProjectName', 'IsLiveCollaborationEnabled', 'SysIds', 'SM_Project_id']\n",
    "#     sql = f'''SELECT \"{'\",\"'.join(project_columns)}\" FROM public.\"SM_Project\" '''\n",
    "\n",
    "#     crs = connection.cursor(cursor_factory = psycopg2.extras.NamedTupleCursor)\n",
    "#     crs.execute(sql)\n",
    "#     projects = crs.fetchall()\n",
    "\n",
    "    # Returns a flattened representation of SM_Project, where an entry like:\n",
    "    # | project  |   sysids       |\n",
    "    # | project1 | sysid1, sysid2 |\n",
    "    # BECOMES:\n",
    "    # | project  |   sysids       |\n",
    "    # | project1 | sysid1         |\n",
    "    # | project1 | sysid2         |\n",
    "    \n",
    "    crs = connection.cursor(cursor_factory = psycopg2.extras.NamedTupleCursor)\n",
    "    \n",
    "    sql = '''SELECT \"SysIds\" FROM public.\"SM_Project\"'''\n",
    "    crs.execute(sql)\n",
    "    ret = crs.fetchall()\n",
    "    \n",
    "    max_users_in_project = 0\n",
    "    \n",
    "    for row in ret:\n",
    "        users_in_project = len(row.SysIds.split(','))\n",
    "        max_users_in_project = max(users_in_project, max_users_in_project)\n",
    "        \n",
    "    numbers = f\"\"\"(SELECT 1 n \"\"\"\n",
    "    \n",
    "    for n in range(1,max_users_in_project):\n",
    "        numbers += f'UNION ALL SELECT {n+1} '\n",
    "        \n",
    "    numbers += \")\"\n",
    "\n",
    "    sql = f\"\"\"SELECT\n",
    "      public.\"SM_Project\".\"ProjectName\",\n",
    "      reverse(SPLIT_PART(SPLIT_PART(public.\"SM_Project\".\"SysIds\", ',', numbers.n), ',', 1)) AS SysId\n",
    "    FROM\n",
    "      {numbers} numbers INNER JOIN public.\"SM_Project\"\n",
    "      ON CHARACTER_LENGTH(public.\"SM_Project\".\"SysIds\")\n",
    "         -CHARACTER_LENGTH(REPLACE(public.\"SM_Project\".\"SysIds\", ',', ''))>=numbers.n-1\n",
    "         \n",
    "    ORDER BY\n",
    "      \"ProjectName\", n\n",
    "    \"\"\"\n",
    "    print(sql)\n",
    "    \n",
    "    crs.execute(sql)\n",
    "    ret = crs.fetchall()    "
   ]
  },
  {
   "cell_type": "code",
   "execution_count": 24,
   "id": "f27e303c-faf0-4db1-a8c4-b29788da369f",
   "metadata": {},
   "outputs": [
    {
     "data": {
      "text/plain": [
       "[Record(ProjectName='Gödel', sysid='495BC9BF22C3')]"
      ]
     },
     "execution_count": 24,
     "metadata": {},
     "output_type": "execute_result"
    }
   ],
   "source": [
    "ret"
   ]
  },
  {
   "cell_type": "code",
   "execution_count": null,
   "id": "08d8506f-d976-4704-9973-dd253828cf40",
   "metadata": {},
   "outputs": [],
   "source": []
  },
  {
   "cell_type": "code",
   "execution_count": null,
   "id": "1b7b3901-436f-4f52-a207-5d4baa2c2b23",
   "metadata": {},
   "outputs": [],
   "source": []
  }
 ],
 "metadata": {
  "kernelspec": {
   "display_name": "Python 3",
   "language": "python",
   "name": "python3"
  },
  "language_info": {
   "codemirror_mode": {
    "name": "ipython",
    "version": 3
   },
   "file_extension": ".py",
   "mimetype": "text/x-python",
   "name": "python",
   "nbconvert_exporter": "python",
   "pygments_lexer": "ipython3",
   "version": "3.9.4"
  }
 },
 "nbformat": 4,
 "nbformat_minor": 5
}
