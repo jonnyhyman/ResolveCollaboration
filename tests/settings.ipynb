{
 "cells": [
  {
   "cell_type": "code",
   "execution_count": 3,
   "id": "b1337bb5",
   "metadata": {},
   "outputs": [
    {
     "data": {
      "text/plain": [
       "'/var/root/Library/Preferences'"
      ]
     },
     "execution_count": 3,
     "metadata": {},
     "output_type": "execute_result"
    }
   ],
   "source": [
    "from PyQt5 import QtCore\n",
    "QtCore.QStandardPaths.writableLocation(QtCore.QStandardPaths.AppConfigLocation)"
   ]
  },
  {
   "cell_type": "code",
   "execution_count": 4,
   "id": "d58ecb99",
   "metadata": {},
   "outputs": [],
   "source": [
    "from pathlib import Path"
   ]
  },
  {
   "cell_type": "code",
   "execution_count": 27,
   "id": "d156719e",
   "metadata": {},
   "outputs": [],
   "source": [
    "f = Path(QtCore.QStandardPaths.writableLocation(QtCore.QStandardPaths.AppConfigLocation))\n",
    "f = f / Path(\"Resolve Mission Control Client\")"
   ]
  },
  {
   "cell_type": "code",
   "execution_count": 29,
   "id": "981aad4e",
   "metadata": {},
   "outputs": [],
   "source": [
    "if not f.exists():\n",
    "    f.mkdir()"
   ]
  },
  {
   "cell_type": "code",
   "execution_count": 31,
   "id": "ecf091bc",
   "metadata": {},
   "outputs": [
    {
     "data": {
      "text/plain": [
       "PosixPath('/Users/jonnyhyman/Library/Preferences/Resolve Mission Control Client')"
      ]
     },
     "execution_count": 31,
     "metadata": {},
     "output_type": "execute_result"
    }
   ],
   "source": [
    "f"
   ]
  },
  {
   "cell_type": "code",
   "execution_count": 33,
   "id": "640d1157",
   "metadata": {},
   "outputs": [],
   "source": [
    "!open \"/Users/jonnyhyman/Library/Preferences/Resolve Mission Control Client\""
   ]
  },
  {
   "cell_type": "code",
   "execution_count": 5,
   "id": "68f3935a",
   "metadata": {},
   "outputs": [],
   "source": [
    "import pickle"
   ]
  },
  {
   "cell_type": "code",
   "execution_count": 3,
   "id": "4c588dd1",
   "metadata": {},
   "outputs": [],
   "source": [
    "config = {}"
   ]
  },
  {
   "cell_type": "code",
   "execution_count": 48,
   "id": "a6d638ad",
   "metadata": {},
   "outputs": [],
   "source": [
    "config['auth'] = {}\n",
    "config['auth']['server_ip'] = \"\"\n",
    "config['auth']['client_username'] = \"\"\n",
    "config['auth']['server_password'] = \"\""
   ]
  },
  {
   "cell_type": "code",
   "execution_count": 6,
   "id": "79a75342",
   "metadata": {},
   "outputs": [],
   "source": [
    "with open(\"testfile.rmc\", 'wb') as file:\n",
    "    pickle.dump(config, file)"
   ]
  },
  {
   "cell_type": "code",
   "execution_count": 9,
   "id": "1108cfca",
   "metadata": {},
   "outputs": [],
   "source": [
    "with open(\"testfile.rmc\", 'rb') as file:\n",
    "    configout = pickle.load(file)"
   ]
  },
  {
   "cell_type": "code",
   "execution_count": null,
   "id": "60eac476",
   "metadata": {},
   "outputs": [],
   "source": [
    "configout"
   ]
  },
  {
   "cell_type": "code",
   "execution_count": 49,
   "id": "45927f36",
   "metadata": {},
   "outputs": [
    {
     "data": {
      "text/plain": [
       "{'auth': {'server_ip': '', 'client_username': '', 'server_password': ''}}"
      ]
     },
     "execution_count": 49,
     "metadata": {},
     "output_type": "execute_result"
    }
   ],
   "source": [
    "config"
   ]
  },
  {
   "cell_type": "code",
   "execution_count": null,
   "id": "6e137ba4",
   "metadata": {},
   "outputs": [],
   "source": []
  },
  {
   "cell_type": "code",
   "execution_count": null,
   "id": "2fc4371f",
   "metadata": {},
   "outputs": [],
   "source": []
  },
  {
   "cell_type": "code",
   "execution_count": 8,
   "id": "0206fba3",
   "metadata": {},
   "outputs": [],
   "source": [
    "class Config:\n",
    "    \"\"\" Configuration file handler class.\n",
    "        Saves config details to pickled bytes.\n",
    "\n",
    "        If peak security is required, we could encrypt the bytes of the config\n",
    "        file (because it holds the server password hash)\n",
    "    \"\"\"\n",
    "\n",
    "    default = {\n",
    "                'auth' : {},\n",
    "                'dbses': [],\n",
    "    }\n",
    "\n",
    "    def __init__(self, parent):\n",
    "\n",
    "        saveto = Path(QtCore.QStandardPaths.writableLocation(QtCore.QStandardPaths.AppConfigLocation))\n",
    "        saveto = saveto.parent / Path(\"Resolve Mission Control\")\n",
    "\n",
    "        if not saveto.exists():\n",
    "            saveto.mkdir()\n",
    "\n",
    "        self.saveto = saveto\n",
    "        if parent.context == 'client':\n",
    "            self.fileto = self.saveto / Path(\"clientconfig.rmc\")\n",
    "        elif parent.context == 'server':\n",
    "            self.fileto = self.saveto / Path(\"serverconfig.rmc\")\n",
    "        else:\n",
    "            raise(ValueError(f\"{parent.context} is not a valid context\"))\n",
    "        print(\">>>\",self.fileto)\n",
    "        self.config = self.load()\n",
    "\n",
    "    def __getitem__(self, key):\n",
    "        \"\"\" makes config act like a dict itself to prevent config.config[key] madness \"\"\"\n",
    "        return self.config[key]\n",
    "\n",
    "    def __setitem__(self, key, new_value):\n",
    "        \"\"\" makes config act like a dict itself to prevent config.config[key]=value madness \"\"\"\n",
    "        self.config[key] = new_value\n",
    "\n",
    "    def load(self):\n",
    "\n",
    "        if not self.fileto.exists():\n",
    "            return self.default\n",
    "\n",
    "        try:\n",
    "            with open(self.fileto, 'rb') as file:\n",
    "                config = pickle.load(file)\n",
    "        except EOFError:\n",
    "            config = self.default\n",
    "\n",
    "        return config\n",
    "\n",
    "    def save(self):\n",
    "\n",
    "        with open(self.fileto, 'wb') as file:\n",
    "            pickle.dump(self.config, file)"
   ]
  },
  {
   "cell_type": "code",
   "execution_count": null,
   "id": "02e3a1c8",
   "metadata": {},
   "outputs": [],
   "source": []
  }
 ],
 "metadata": {
  "kernelspec": {
   "display_name": "Python 3",
   "language": "python",
   "name": "python3"
  },
  "language_info": {
   "codemirror_mode": {
    "name": "ipython",
    "version": 3
   },
   "file_extension": ".py",
   "mimetype": "text/x-python",
   "name": "python",
   "nbconvert_exporter": "python",
   "pygments_lexer": "ipython3",
   "version": "3.7.10"
  }
 },
 "nbformat": 4,
 "nbformat_minor": 5
}
