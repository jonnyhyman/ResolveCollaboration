{
 "cells": [
  {
   "cell_type": "markdown",
   "id": "b47c6491",
   "metadata": {},
   "source": [
    "# macOS server guide\n",
    "\n",
    "Requirements:\n",
    "- Homebrew\n",
    "- Python 3.? \n",
    "    - `pip install PyQt5...`\n",
    "- Wireguard Client .app"
   ]
  },
  {
   "cell_type": "code",
   "execution_count": null,
   "id": "be8e48c2",
   "metadata": {},
   "outputs": [],
   "source": []
  }
 ],
 "metadata": {
  "kernelspec": {
   "display_name": "Python 3",
   "language": "python",
   "name": "python3"
  },
  "language_info": {
   "codemirror_mode": {
    "name": "ipython",
    "version": 3
   },
   "file_extension": ".py",
   "mimetype": "text/x-python",
   "name": "python",
   "nbconvert_exporter": "python",
   "pygments_lexer": "ipython3",
   "version": "3.7.10"
  }
 },
 "nbformat": 4,
 "nbformat_minor": 5
}
