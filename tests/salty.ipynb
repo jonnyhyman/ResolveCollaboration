{
 "cells": [
  {
   "cell_type": "code",
   "execution_count": null,
   "id": "92f53472-14ec-4102-846e-1064a814f21d",
   "metadata": {},
   "outputs": [],
   "source": [
    "from datetime import datetime\n",
    "from time import sleep"
   ]
  },
  {
   "cell_type": "code",
   "execution_count": null,
   "id": "2cb49791-1420-44a9-9e0b-22b576cc86cd",
   "metadata": {},
   "outputs": [],
   "source": [
    "for _ in range(10):\n",
    "    print(datetime.utcnow().minute)"
   ]
  },
  {
   "cell_type": "code",
   "execution_count": null,
   "id": "5e6791c6-2a82-43fc-a104-bce7d0350419",
   "metadata": {},
   "outputs": [],
   "source": [
    "user = \"jonny\" + \",\" + str(datetime.utcnow().minute)"
   ]
  },
  {
   "cell_type": "code",
   "execution_count": null,
   "id": "ecc2cd3c-1f96-4490-920f-e8eddaf65a51",
   "metadata": {},
   "outputs": [],
   "source": []
  },
  {
   "cell_type": "code",
   "execution_count": null,
   "id": "462ccd48-161f-4e66-a4d2-e7b8277640a1",
   "metadata": {},
   "outputs": [],
   "source": [
    "while True:\n",
    "    sleep(.25)\n",
    "    print(datetime.utcnow().second)\n",
    "    if datetime.utcnow().second == 59:\n",
    "        sleep(1)\n",
    "        print(\"wait\")"
   ]
  },
  {
   "cell_type": "code",
   "execution_count": 44,
   "id": "0c5545fa-a8c9-4e16-acd5-0926a4abf912",
   "metadata": {},
   "outputs": [],
   "source": [
    "class f:\n",
    "    x = 1\n",
    "    y = 2"
   ]
  },
  {
   "cell_type": "code",
   "execution_count": 28,
   "id": "b883397a-16bb-4efa-a319-b1e5f9d0421d",
   "metadata": {},
   "outputs": [],
   "source": [
    "bcd = [1,2,3]"
   ]
  },
  {
   "cell_type": "code",
   "execution_count": 29,
   "id": "0a2c048a-3c11-48ef-b37c-63f2b449fbc6",
   "metadata": {},
   "outputs": [
    {
     "name": "stdout",
     "output_type": "stream",
     "text": [
      "a 1 2 3\n"
     ]
    }
   ],
   "source": [
    "f('a', *bcd)"
   ]
  },
  {
   "cell_type": "code",
   "execution_count": 39,
   "id": "897e94fc-87e9-483a-b60b-3041348ac234",
   "metadata": {},
   "outputs": [],
   "source": [
    "a = f()"
   ]
  },
  {
   "cell_type": "code",
   "execution_count": 50,
   "id": "5f7084cc-5bb3-4036-9d72-6d262eb402cf",
   "metadata": {},
   "outputs": [],
   "source": [
    "a.z = 3"
   ]
  },
  {
   "cell_type": "code",
   "execution_count": 51,
   "id": "4d1cc552-22f1-4242-80df-a2eff90a283e",
   "metadata": {},
   "outputs": [
    {
     "data": {
      "text/plain": [
       "3"
      ]
     },
     "execution_count": 51,
     "metadata": {},
     "output_type": "execute_result"
    }
   ],
   "source": [
    "a.z"
   ]
  },
  {
   "cell_type": "code",
   "execution_count": 52,
   "id": "d3be9330-7cf9-4e8b-a310-f06ff89360dc",
   "metadata": {},
   "outputs": [],
   "source": [
    "del a.z"
   ]
  },
  {
   "cell_type": "code",
   "execution_count": 53,
   "id": "43cdfc9d-ace7-4211-b2f7-ace51a277904",
   "metadata": {},
   "outputs": [
    {
     "ename": "AttributeError",
     "evalue": "'f' object has no attribute 'z'",
     "output_type": "error",
     "traceback": [
      "\u001b[0;31m---------------------------------------------------------------------------\u001b[0m",
      "\u001b[0;31mAttributeError\u001b[0m                            Traceback (most recent call last)",
      "\u001b[0;32m<ipython-input-53-9c15d2850802>\u001b[0m in \u001b[0;36m<module>\u001b[0;34m\u001b[0m\n\u001b[0;32m----> 1\u001b[0;31m \u001b[0ma\u001b[0m\u001b[0;34m.\u001b[0m\u001b[0mz\u001b[0m\u001b[0;34m\u001b[0m\u001b[0;34m\u001b[0m\u001b[0m\n\u001b[0m",
      "\u001b[0;31mAttributeError\u001b[0m: 'f' object has no attribute 'z'"
     ]
    }
   ],
   "source": [
    "a.z"
   ]
  },
  {
   "cell_type": "code",
   "execution_count": null,
   "id": "a14b2676-3494-48f1-bf6c-326f51c7a30e",
   "metadata": {},
   "outputs": [],
   "source": []
  },
  {
   "cell_type": "code",
   "execution_count": null,
   "id": "c24ed67a-6b7a-4acd-a4c0-8652bad0a750",
   "metadata": {},
   "outputs": [],
   "source": []
  }
 ],
 "metadata": {
  "kernelspec": {
   "display_name": "Python 3",
   "language": "python",
   "name": "python3"
  },
  "language_info": {
   "codemirror_mode": {
    "name": "ipython",
    "version": 3
   },
   "file_extension": ".py",
   "mimetype": "text/x-python",
   "name": "python",
   "nbconvert_exporter": "python",
   "pygments_lexer": "ipython3",
   "version": "3.9.4"
  }
 },
 "nbformat": 4,
 "nbformat_minor": 5
}
