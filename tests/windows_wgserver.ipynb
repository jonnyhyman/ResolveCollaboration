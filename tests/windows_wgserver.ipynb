{
 "cells": [
  {
   "cell_type": "markdown",
   "metadata": {},
   "source": [
    "# Wireguard Server on Windows \n",
    "[Based on this guide](https://www.henrychang.ca/how-to-setup-wireguard-vpn-server-on-windows/)"
   ]
  },
  {
   "cell_type": "code",
   "execution_count": 1,
   "metadata": {},
   "outputs": [
    {
     "name": "stdout",
     "output_type": "stream",
     "text": [
      "C:\\Users\\Jonny\\Human Creative Dropbox\\Jonny Hyman\\Compute\\ResolveCollaboration\n"
     ]
    }
   ],
   "source": [
    "%cd .."
   ]
  },
  {
   "cell_type": "code",
   "execution_count": 2,
   "metadata": {},
   "outputs": [],
   "source": [
    "from rmc.auth import keys\n",
    "from pathlib import Path\n",
    "import subprocess\n",
    "import os"
   ]
  },
  {
   "cell_type": "code",
   "execution_count": 3,
   "metadata": {},
   "outputs": [],
   "source": [
    "#!pip install elevate"
   ]
  },
  {
   "cell_type": "code",
   "execution_count": 5,
   "metadata": {},
   "outputs": [
    {
     "name": "stdout",
     "output_type": "stream",
     "text": [
      "aKr3uFswvCtkSjqNIJJ2fKSGZj/l+XzgflBAD29KQ1U= LjCnZDM4HsOkJQebT47jjRyzhx2fFiLLbbj1TnXXpD8=\n"
     ]
    }
   ],
   "source": [
    "# Create server config file sans post-up and post-down\n",
    "s_IP = \"8.0.0.1\"\n",
    "s_pk = keys.PrivateKey.generate()\n",
    "s_Pk = s_pk.public_key()\n",
    "port = 51820\n",
    "print(s_pk, s_Pk)\n",
    "server_config = f\"\"\"\n",
    "[Interface]\n",
    "# Substitute with the subnet you chose for Wireguard earlier.\n",
    "Address = {s_IP}/32\n",
    "# Substitute with your *server's* private key\n",
    "PrivateKey = {s_pk}\n",
    "# If you chose a different port earlier when setting up port\n",
    "# forwarding on your router, update the port here to match.\n",
    "ListenPort = {port}\n",
    "# This prevents IPv4 & IPv6 DNS leaks when browsing the web on the VPN\n",
    "DNS = 1.1.1.1, 8.8.8.8, 2001:4860:4860::8888\n",
    "\"\"\""
   ]
  },
  {
   "cell_type": "code",
   "execution_count": 6,
   "metadata": {},
   "outputs": [
    {
     "name": "stdout",
     "output_type": "stream",
     "text": [
      "iCH04kLvI2nrkbvgbcZfEkAw2fxZzwEIWm7kcypx2U0= 6+yJtB6l2el3e5p8zkR6gDRBH9EY0g2GZvZaE4BYE3U=\n",
      "\n",
      "[Interface]\n",
      "# Substitute with the subnet you chose for Wireguard earlier.\n",
      "Address = 8.0.0.1/32\n",
      "# Substitute with your *server's* private key\n",
      "PrivateKey = aKr3uFswvCtkSjqNIJJ2fKSGZj/l+XzgflBAD29KQ1U=\n",
      "# If you chose a different port earlier when setting up port\n",
      "# forwarding on your router, update the port here to match.\n",
      "ListenPort = 51820\n",
      "# This prevents IPv4 & IPv6 DNS leaks when browsing the web on the VPN\n",
      "DNS = 1.1.1.1, 8.8.8.8, 2001:4860:4860::8888\n",
      "\n",
      "\n",
      "# USER 1: Viola_Philharmonic\n",
      "[Peer]\n",
      "# Substitute with *this peer*'s public key\n",
      "PublicKey = 6+yJtB6l2el3e5p8zkR6gDRBH9EY0g2GZvZaE4BYE3U=\n",
      "# Chose a unique IP within the Wireguard subnet you defined earlier\n",
      "# that this particular peer will use when connected to the VPN.\n",
      "AllowedIPs = 8.0.0.2/32\n",
      "                \n",
      "----------------\n",
      "\n",
      "[Interface]\n",
      "# This MUST match the \"AllowedIPs\" IP you assigned to this peer in\n",
      "# the server's config.\n",
      "Address = 8.0.0.2/32\n",
      "# Substitute with *this peer's* private key.\n",
      "PrivateKey = iCH04kLvI2nrkbvgbcZfEkAw2fxZzwEIWm7kcypx2U0=\n",
      "# This prevents IPv4 & IPv6 DNS leaks when browsing the web on the VPN\n",
      "DNS = 1.1.1.1, 8.8.8.8, 2001:4860:4860::8888\n",
      "\n",
      "[Peer]\n",
      "# Substitute with your *server's* public key\n",
      "PublicKey = LjCnZDM4HsOkJQebT47jjRyzhx2fFiLLbbj1TnXXpD8=\n",
      "# Your Wireguard server's public IP. If you chose a different port\n",
      "# earlier when setting up port forwarding on your router, update the\n",
      "# port here to match.\n",
      "Endpoint = 8.0.0.1:51820\n",
      "# Informs Wireguard to forward ALL traffic through the VPN.\n",
      "AllowedIPs = 0.0.0.0/0, ::/0\n",
      "# If you're be behind a NAT, this will keep the connection alive.\n",
      "PersistentKeepalive = 25\n",
      "                \n"
     ]
    }
   ],
   "source": [
    "n=1\n",
    "c_pk = keys.PrivateKey.generate()\n",
    "c_Pk = c_pk.public_key()\n",
    "c_IP = \"8.0.0.2\"\n",
    "user = {'name':\"Viola_Philharmonic\", 'Pk':c_Pk, 'ip':c_IP}\n",
    "\n",
    "print(c_pk, c_Pk)\n",
    "server_config += (f\"\"\"\n",
    "\n",
    "# USER {n}: {user['name']}\n",
    "[Peer]\n",
    "# Substitute with *this peer*'s public key\n",
    "PublicKey = {user['Pk']}\n",
    "# Chose a unique IP within the Wireguard subnet you defined earlier\n",
    "# that this particular peer will use when connected to the VPN.\n",
    "AllowedIPs = {user['ip']}/32\n",
    "                \"\"\")\n",
    "\n",
    "client_config = (f\"\"\"\n",
    "[Interface]\n",
    "# This MUST match the \"AllowedIPs\" IP you assigned to this peer in\n",
    "# the server's config.\n",
    "Address = {c_IP}/32\n",
    "# Substitute with *this peer's* private key.\n",
    "PrivateKey = {c_pk}\n",
    "# This prevents IPv4 & IPv6 DNS leaks when browsing the web on the VPN\n",
    "DNS = 1.1.1.1, 8.8.8.8, 2001:4860:4860::8888\n",
    "\n",
    "[Peer]\n",
    "# Substitute with your *server's* public key\n",
    "PublicKey = {s_Pk}\n",
    "# Your Wireguard server's public IP. If you chose a different port\n",
    "# earlier when setting up port forwarding on your router, update the\n",
    "# port here to match.\n",
    "Endpoint = {s_IP}:{port}\n",
    "# Informs Wireguard to forward ALL traffic through the VPN.\n",
    "AllowedIPs = 0.0.0.0/0, ::/0\n",
    "# If you're be behind a NAT, this will keep the connection alive.\n",
    "PersistentKeepalive = 25\n",
    "                \"\"\")\n",
    "print(server_config)\n",
    "print('----------------')\n",
    "print(client_config)"
   ]
  },
  {
   "cell_type": "code",
   "execution_count": 4,
   "metadata": {},
   "outputs": [
    {
     "ename": "NameError",
     "evalue": "name 'server_config' is not defined",
     "output_type": "error",
     "traceback": [
      "\u001b[1;31m---------------------------------------------------------------------------\u001b[0m",
      "\u001b[1;31mNameError\u001b[0m                                 Traceback (most recent call last)",
      "\u001b[1;32m<ipython-input-4-9531e57a5df7>\u001b[0m in \u001b[0;36m<module>\u001b[1;34m\u001b[0m\n\u001b[0;32m      3\u001b[0m \u001b[1;33m\u001b[0m\u001b[0m\n\u001b[0;32m      4\u001b[0m \u001b[1;32mwith\u001b[0m \u001b[0mopen\u001b[0m\u001b[1;33m(\u001b[0m\u001b[0msaveto\u001b[0m \u001b[1;33m/\u001b[0m \u001b[1;34m'Wireguard_server.conf'\u001b[0m\u001b[1;33m,\u001b[0m \u001b[1;34m'w'\u001b[0m\u001b[1;33m)\u001b[0m \u001b[1;32mas\u001b[0m \u001b[0mf\u001b[0m\u001b[1;33m:\u001b[0m\u001b[1;33m\u001b[0m\u001b[1;33m\u001b[0m\u001b[0m\n\u001b[1;32m----> 5\u001b[1;33m     \u001b[0mf\u001b[0m\u001b[1;33m.\u001b[0m\u001b[0mwrite\u001b[0m\u001b[1;33m(\u001b[0m\u001b[0mserver_config\u001b[0m\u001b[1;33m)\u001b[0m\u001b[1;33m\u001b[0m\u001b[1;33m\u001b[0m\u001b[0m\n\u001b[0m",
      "\u001b[1;31mNameError\u001b[0m: name 'server_config' is not defined"
     ]
    }
   ],
   "source": [
    "saveto = Path(\"C:/Wireguard\")\n",
    "saveto.mkdir(parents=True, exist_ok=True)\n",
    "\n",
    "with open(saveto / 'Wireguard_server.conf', 'w') as f:\n",
    "    f.write(server_config)"
   ]
  },
  {
   "cell_type": "code",
   "execution_count": 127,
   "metadata": {},
   "outputs": [],
   "source": [
    "# CLIENT\n",
    "with open('tests/Wireguard_user1.conf', 'w') as f:\n",
    "    f.write(client_config)"
   ]
  },
  {
   "cell_type": "code",
   "execution_count": 17,
   "metadata": {},
   "outputs": [
    {
     "data": {
      "text/plain": [
       "True"
      ]
     },
     "execution_count": 17,
     "metadata": {},
     "output_type": "execute_result"
    }
   ],
   "source": [
    "Path(\"C:/Wireguard/Wireguard_server.conf\").exists()"
   ]
  },
  {
   "cell_type": "markdown",
   "metadata": {},
   "source": [
    "```shell\n",
    "#Start server\n",
    "C:\\Program Files\\WireGuard\\wireguard.exe /installtunnelservice \"C:\\wireguard\\wg_server.conf\"\n",
    "\n",
    "#Stop server\n",
    "C:\\Program Files\\WireGuard\\wireguard.exe /uninstalltunnelservice wg_server\n",
    "```"
   ]
  },
  {
   "cell_type": "code",
   "execution_count": 5,
   "metadata": {},
   "outputs": [
    {
     "name": "stdout",
     "output_type": "stream",
     "text": [
      "interface: Wireguard_server\n",
      "  public key: e6bgH5kP8IUtxEi9/LrXy3fW7+1M/8Qo7Plsfg+K+2o=\n",
      "  private key: (hidden)\n",
      "  listening port: 51820\n"
     ]
    }
   ],
   "source": [
    "!wg show"
   ]
  },
  {
   "cell_type": "code",
   "execution_count": 6,
   "metadata": {},
   "outputs": [],
   "source": [
    "def run_return(cmd):\n",
    "    try:\n",
    "        out = subprocess.check_output(cmd, shell=True, stderr=subprocess.STDOUT)\n",
    "        return (str(out,'utf-8')) # empty if successful\n",
    "    except subprocess.CalledProcessError as e:\n",
    "        return f\"Command {cmd} returned error {e.returncode}\""
   ]
  },
  {
   "cell_type": "code",
   "execution_count": 42,
   "metadata": {},
   "outputs": [
    {
     "data": {
      "text/plain": [
       "''"
      ]
     },
     "execution_count": 42,
     "metadata": {},
     "output_type": "execute_result"
    }
   ],
   "source": [
    "# assumes we're elevated already\n",
    "cmd = '''\"C:/Program Files/WireGuard/wireguard.exe\" /installtunnelservice \"C:/Wireguard/Wireguard_server.conf\"'''\n",
    "run_return(cmd) # empty if successful"
   ]
  },
  {
   "cell_type": "code",
   "execution_count": 9,
   "metadata": {},
   "outputs": [
    {
     "data": {
      "text/plain": [
       "('Command \"C:/Program Files/WireGuard/wireguard.exe\" /uninstalltunnelservice Wireguard_server returned error 1',\n",
       " str)"
      ]
     },
     "execution_count": 9,
     "metadata": {},
     "output_type": "execute_result"
    }
   ],
   "source": [
    "# assumes we're elevated already\n",
    "cmd = '''\"C:/Program Files/WireGuard/wireguard.exe\" /uninstalltunnelservice Wireguard_server'''\n",
    "ret = run_return(cmd) \n",
    "ret, type(ret)"
   ]
  },
  {
   "cell_type": "markdown",
   "metadata": {},
   "source": [
    "# Set Private profile\n",
    "```shell\n",
    "#Open powershell with admin privilege and run the following:\n",
    "\n",
    "$NetworkProfile = Get-NetConnectionProfile -InterfaceAlias \"wg_server\"\n",
    "\n",
    "$NetworkProfile.NetworkCategory = \"Private\"\n",
    "\n",
    "Set-NetConnectionProfile -InputObject $NetworkProfile\n",
    "```"
   ]
  },
  {
   "cell_type": "code",
   "execution_count": 11,
   "metadata": {},
   "outputs": [
    {
     "name": "stdout",
     "output_type": "stream",
     "text": [
      "powershell $NetworkProfile = Get-NetConnectionProfile -InterfaceAlias \"Wireguard_server\"; $NetworkProfile.NetworkCategory = 'Private'; Set-NetConnectionProfile -InputObject $NetworkProfile\n"
     ]
    },
    {
     "data": {
      "text/plain": [
       "'Command powershell $NetworkProfile = Get-NetConnectionProfile -InterfaceAlias \"Wireguard_server\"; $NetworkProfile.NetworkCategory = \\'Private\\'; Set-NetConnectionProfile -InputObject $NetworkProfile returned error 1'"
      ]
     },
     "execution_count": 11,
     "metadata": {},
     "output_type": "execute_result"
    }
   ],
   "source": [
    "# Get the Interface profile and put it in a variable NetworkProfile\n",
    "cmd = ('''powershell $NetworkProfile = Get-NetConnectionProfile -InterfaceAlias \"Wireguard_server\"; '''\n",
    "        '''$NetworkProfile.NetworkCategory = 'Private'; '''\n",
    "        '''Set-NetConnectionProfile -InputObject $NetworkProfile''')\n",
    "print(cmd)\n",
    "ret = run_return(cmd) # empty if successful\n",
    "ret"
   ]
  },
  {
   "cell_type": "code",
   "execution_count": 12,
   "metadata": {},
   "outputs": [
    {
     "data": {
      "text/plain": [
       "\u001b[1;31mInit signature:\u001b[0m \u001b[0mstr\u001b[0m\u001b[1;33m(\u001b[0m\u001b[0mself\u001b[0m\u001b[1;33m,\u001b[0m \u001b[1;33m/\u001b[0m\u001b[1;33m,\u001b[0m \u001b[1;33m*\u001b[0m\u001b[0margs\u001b[0m\u001b[1;33m,\u001b[0m \u001b[1;33m**\u001b[0m\u001b[0mkwargs\u001b[0m\u001b[1;33m)\u001b[0m\u001b[1;33m\u001b[0m\u001b[1;33m\u001b[0m\u001b[0m\n",
       "\u001b[1;31mDocstring:\u001b[0m     \n",
       "str(object='') -> str\n",
       "str(bytes_or_buffer[, encoding[, errors]]) -> str\n",
       "\n",
       "Create a new string object from the given object. If encoding or\n",
       "errors is specified, then the object must expose a data buffer\n",
       "that will be decoded using the given encoding and error handler.\n",
       "Otherwise, returns the result of object.__str__() (if defined)\n",
       "or repr(object).\n",
       "encoding defaults to sys.getdefaultencoding().\n",
       "errors defaults to 'strict'.\n",
       "\u001b[1;31mType:\u001b[0m           type\n",
       "\u001b[1;31mSubclasses:\u001b[0m     _rstr, LSString, include, SortKey\n"
      ]
     },
     "metadata": {},
     "output_type": "display_data"
    }
   ],
   "source": [
    "?str"
   ]
  },
  {
   "cell_type": "markdown",
   "metadata": {},
   "source": [
    "# Define powershell function to enable sharing\n",
    "__Save the following to__ `C:\\Windows\\System32\\WindowsPowerShell\\v1.0\\Modules\\wireguard\\wireguard.psm1`\n",
    "\n",
    "```powershell\n",
    "\n",
    "Function Set-NetConnectionSharing\n",
    "{\n",
    "    Param\n",
    "    (\n",
    "        [Parameter(Mandatory=$true)]\n",
    "        [string]\n",
    "        $LocalConnection,\n",
    "\n",
    "        [Parameter(Mandatory=$true)]\n",
    "        [bool]\n",
    "        $Enabled        \n",
    "    )\n",
    "\n",
    "    Begin\n",
    "    {\n",
    "        $netShare = $null\n",
    "\n",
    "        try\n",
    "        {\n",
    "            # Create a NetSharingManager object\n",
    "            $netShare = New-Object -ComObject HNetCfg.HNetShare\n",
    "        }\n",
    "        catch\n",
    "        {\n",
    "            # Register the HNetCfg library (once)\n",
    "            regsvr32 /s hnetcfg.dll\n",
    "\n",
    "            # Create a NetSharingManager object\n",
    "            $netShare = New-Object -ComObject HNetCfg.HNetShare\n",
    "        }\n",
    "    }\n",
    "\n",
    "    Process\n",
    "    {\n",
    "\t\t#Clear Existing Share\t       \n",
    "\t\t$oldConnections = $netShare.EnumEveryConnection |? { $netShare.INetSharingConfigurationForINetConnection.Invoke($_).SharingEnabled -eq $true}           \n",
    "\t\tforeach($oldShared in $oldConnections)\n",
    "        {\n",
    "            Write-Output \"... Clearing old connection\"\n",
    "            $oldConfig = $netShare.INetSharingConfigurationForINetConnection.Invoke($oldShared)\n",
    "            $oldConfig.DisableSharing()                        \n",
    "        }        \n",
    "\t\n",
    "        # Find connections\n",
    "        $InternetConnection = Get-NetRoute | ? DestinationPrefix -eq '0.0.0.0/0' | Get-NetIPInterface | Where ConnectionState -eq 'Connected'        \n",
    "        $publicConnection = $netShare.EnumEveryConnection |? { $netShare.NetConnectionProps.Invoke($_).Name -eq $InternetConnection.InterfaceAlias }\n",
    "        $privateConnection = $netShare.EnumEveryConnection |? { $netShare.NetConnectionProps.Invoke($_).Name -eq $LocalConnection }\n",
    "\n",
    "        # Get sharing configuration\n",
    "        $publicConfig = $netShare.INetSharingConfigurationForINetConnection.Invoke($publicConnection)\n",
    "        $privateConfig = $netShare.INetSharingConfigurationForINetConnection.Invoke($privateConnection)\n",
    "\n",
    "        Write-Output \"... Enabling\"\n",
    "\n",
    "        if ($Enabled)\n",
    "        { \t\t\t\n",
    "            $publicConfig.EnableSharing(0)\n",
    "            $privateConfig.EnableSharing(1)\n",
    "        }\n",
    "        else\n",
    "        {\n",
    "            $publicConfig.DisableSharing()\n",
    "            $privateConfig.DisableSharing()\n",
    "        }\n",
    "    }\n",
    "}\n",
    "```"
   ]
  },
  {
   "cell_type": "code",
   "execution_count": 121,
   "metadata": {},
   "outputs": [],
   "source": [
    "Path(\"C:/Windows/System32/WindowsPowerShell/v1.0/Modules/wireguard/\").mkdir(parents=True, exist_ok=True)\n",
    "\n",
    "with open(\"C:/Windows/System32/WindowsPowerShell/v1.0/Modules/wireguard/wireguard.psm1\", 'w') as f:\n",
    "    with open(\"tests/wg_setnetshare.psm1\", 'r') as t:\n",
    "        f.write(t.read())\n",
    "\n",
    "        \n",
    "with open(\"C:/Windows/System32/WindowsPowerShell/v1.0/Modules/wireguard/cleanwmi.vbs\", 'w') as f:\n",
    "    with open(\"tests/wg_cleanwmientries.vbs\", 'r') as t:\n",
    "        f.write(t.read())\n",
    "\n",
    "#print(function)"
   ]
  },
  {
   "cell_type": "markdown",
   "metadata": {},
   "source": [
    "```powershell\n",
    "# another powershell with admin privilege\n",
    "#\"wg_server\" is the wireguard adapter name, replace it if you have something different.\n",
    "#Enable NAT\n",
    "Set-NetConnectionSharing \"wg_server\" $true\n",
    "\n",
    "#Disable NAT\n",
    "Set-NetConnectionSharing \"wg_server\" $false\n",
    "```"
   ]
  },
  {
   "cell_type": "code",
   "execution_count": 135,
   "metadata": {},
   "outputs": [
    {
     "name": "stdout",
     "output_type": "stream",
     "text": [
      "... Clearing old connection\n",
      "... Clearing old connection\n",
      ">>> WMI Cleanup\n",
      "DONE\n",
      "\n",
      "SharingEnabled SharingConnectionType InternetFirewallEnabled\n",
      "-------------- --------------------- -----------------------\n",
      "          True                     0                    True\n",
      "          True                     1                    True\n",
      "\n",
      "\n",
      "\n"
     ]
    }
   ],
   "source": [
    "#Enable NAT\n",
    "cmd = '''powershell Set-NetConnectionSharing \"Wireguard_server\" $true'''\n",
    "print(run_return(cmd))"
   ]
  },
  {
   "cell_type": "code",
   "execution_count": 136,
   "metadata": {},
   "outputs": [
    {
     "name": "stdout",
     "output_type": "stream",
     "text": [
      "... Clearing old connection\n",
      "... Clearing old connection\n",
      ">>> WMI Cleanup\n",
      "DONE\n",
      "\n",
      "SharingEnabled SharingConnectionType InternetFirewallEnabled\n",
      "-------------- --------------------- -----------------------\n",
      "         False                     0                    True\n",
      "         False                     0                    True\n",
      "\n",
      "\n",
      "\n"
     ]
    }
   ],
   "source": [
    "#Disable NAT\n",
    "cmd = '''powershell Set-NetConnectionSharing \"Wireguard_server\" $false'''\n",
    "print(run_return(cmd))"
   ]
  },
  {
   "cell_type": "markdown",
   "metadata": {},
   "source": [
    "# Making the class"
   ]
  },
  {
   "cell_type": "code",
   "execution_count": 16,
   "metadata": {},
   "outputs": [
    {
     "name": "stdout",
     "output_type": "stream",
     "text": [
      "interface: Wireguard_rmcs\n",
      "  public key: IkVgml1bWhu9X1c4xxrPuh2/MMIYaKcerRVOtghEtD4=\n",
      "  private key: (hidden)\n",
      "  listening port: 51820\n",
      "\n"
     ]
    }
   ],
   "source": [
    "proc = Popen(['wg','show'], stdout=PIPE, stderr=PIPE)\n",
    "wg, err = proc.communicate()\n",
    "wg = str(wg,'utf-8')\n",
    "print(wg)"
   ]
  },
  {
   "cell_type": "code",
   "execution_count": 14,
   "metadata": {},
   "outputs": [
    {
     "data": {
      "text/plain": [
       "{}"
      ]
     },
     "execution_count": 14,
     "metadata": {},
     "output_type": "execute_result"
    }
   ],
   "source": [
    "from subprocess import Popen, PIPE\n",
    "\n",
    "def peers():\n",
    "    \"\"\" Returns a dict containing all peers in the Server config.\n",
    "            like: {Pk: {'ip':'...', 'handshake': True}}\n",
    "    \"\"\"\n",
    "\n",
    "    proc = Popen(['wg','show'], stdout=PIPE, stderr=PIPE)\n",
    "    wg, err = proc.communicate()\n",
    "    wg = str(wg,'utf-8')\n",
    "\n",
    "    peers = {}\n",
    "\n",
    "    if \"peer: \" in wg:\n",
    "        peers_conf = wg.split(\"peer: \")\n",
    "\n",
    "        # [1:] because interface/server is 0\n",
    "        for peer in peers_conf[1:]:\n",
    "\n",
    "            Pk = peer.split('\\n')[0].strip()\n",
    "            handshake = False\n",
    "\n",
    "            for row in peer.split('\\n'):\n",
    "                if 'allowed ips' in row:\n",
    "                    ip = row.strip().split(':')[1].strip()\n",
    "\n",
    "                if 'handshake' in row:\n",
    "                    handshake = True\n",
    "\n",
    "            peers[Pk] = {\"ip\": ip, 'handshake':handshake}\n",
    "\n",
    "    return peers\n",
    "\n",
    "peers()"
   ]
  },
  {
   "cell_type": "code",
   "execution_count": 134,
   "metadata": {},
   "outputs": [],
   "source": [
    "from subprocess import Popen, PIPE\n",
    "\n",
    "from pathlib import Path\n",
    "import subprocess\n",
    "import os\n",
    "\n",
    "from ipaddress import ip_address, ip_network\n",
    "from rmc.auth import keys\n",
    "\n",
    "class WireguardServer_Windows:\n",
    "    \"\"\" Performs all setup for a Wireguard Windows 10 server. Must be run as Admin \"\"\"\n",
    "\n",
    "    def __init__(self, force_reset=False, config=None,\n",
    "                        port=51820, subnet = \"9.0.0.0/24\"):\n",
    "\n",
    "        if config is not None:\n",
    "            self.subnet = config['auth']['subnet']\n",
    "            self.port = config['wireguard']['port']\n",
    "            self.pk = config['wireguard']['pk']\n",
    "            self.Pk = config['wireguard']['Pk']\n",
    "            return\n",
    "\n",
    "        self.subnet = subnet\n",
    "        self.port = port\n",
    "\n",
    "        # -------- Setup :\n",
    "        \n",
    "        Path(\"C:/Wireguard\").mkdir(parents=True, exist_ok=True)\n",
    "        Path(\"C:/Windows/System32/WindowsPowerShell/v1.0/Modules/wireguard/\").mkdir(parents=True, exist_ok=True)\n",
    "        \n",
    "        # install function to give the wireguard tunnel internet access\n",
    "        with open(\"C:/Windows/System32/WindowsPowerShell/v1.0/Modules/wireguard/wireguard.psm1\", 'w') as psm1:\n",
    "            psm1.write(enablesharing_powershell)\n",
    "\n",
    "        # install VBS script to clean up WMI sharing instances\n",
    "        with open(\"C:/Windows/System32/WindowsPowerShell/v1.0/Modules/wireguard/cleanwmi.vbs\", 'w') as vbs:\n",
    "            vbs.write(cleanwmi_vbs)\n",
    "\n",
    "        # -------- Configure\n",
    "\n",
    "        self.pk, self.Pk = self.pk_Pk_pair()\n",
    "\n",
    "    def run_return(self, cmd):\n",
    "        \"\"\" Run a command, capture output, don't crash\"\"\"\n",
    "        try:\n",
    "            out = subprocess.check_output(cmd, shell=True, stderr=subprocess.STDOUT)\n",
    "            return (str(out,'utf-8')) # empty if successful\n",
    "        except subprocess.CalledProcessError as e:\n",
    "            return f\"Command {cmd} returned error {e.returncode}\"\n",
    "        \n",
    "    def update_config(self, userlist):\n",
    "        ''' Overwrite the config with the current userlist'''\n",
    "\n",
    "        first_ip = next(ip_network(self.subnet).hosts())\n",
    "\n",
    "        # Interface always first\n",
    "        server_config = (f\"\"\"\n",
    "[Interface]\n",
    "# Substitute with the subnet you chose for Wireguard earlier.\n",
    "Address = {first_ip}/32\n",
    "# Substitute with your *server's* private key\n",
    "PrivateKey = {self.pk}\n",
    "# If you chose a different port earlier when setting up port\n",
    "# forwarding on your router, update the port here to match.\n",
    "ListenPort = {self.port}\n",
    "# This prevents IPv4 & IPv6 DNS leaks when browsing the web on the VPN\n",
    "DNS = 1.1.1.1, 8.8.8.8, 2001:4860:4860::8888\n",
    "        \"\"\")\n",
    "\n",
    "        print(f\">>> Added Server to config\")\n",
    "\n",
    "        # Peers\n",
    "\n",
    "        for n, user in enumerate(userlist[1:]):\n",
    "\n",
    "            # Authentication occured?\n",
    "            if user['Pk'] != \"\":\n",
    "\n",
    "                print(f\">>> Added {user['name']}, {user['Pk']}, {user['ip']} to config\")\n",
    "\n",
    "                server_config += (f\"\"\"\n",
    "\n",
    "# USER {n}: {user['name']}\n",
    "[Peer]\n",
    "# Substitute with *this peer*'s public key\n",
    "PublicKey = {user['Pk']}\n",
    "# Chose a unique IP within the Wireguard subnet you defined earlier\n",
    "# that this particular peer will use when connected to the VPN.\n",
    "AllowedIPs = {user['ip']}/32\n",
    "                \"\"\")\n",
    "\n",
    "        if self.state:\n",
    "            self.down()\n",
    "            do_up = True\n",
    "        else:\n",
    "            do_up = False\n",
    "\n",
    "        with open(\"C:/Wireguard/Wireguard_server.conf\", 'w') as conf:\n",
    "            conf.write(server_config)\n",
    "\n",
    "        if do_up:\n",
    "            self.up()\n",
    "\n",
    "    @property\n",
    "    def state(self):\n",
    "        return self.peers() != {}\n",
    "\n",
    "    def up(self):\n",
    "\n",
    "        # already up?\n",
    "        if self.state:\n",
    "            # Don't go up if already up\n",
    "            print('... Wireguard is already up')\n",
    "            return\n",
    "        else:\n",
    "            \n",
    "            cmd = '''\"C:/Program Files/WireGuard/wireguard.exe\" /installtunnelservice \"C:/Wireguard/Wireguard_server.conf\"'''\n",
    "            up = self.run_return(cmd)\n",
    "            print(\"... Installed configuration\", str(up,'utf-8')=='')\n",
    "\n",
    "            # Set the network profile to be in Private category\n",
    "            cmd = ('''powershell $NetworkProfile = Get-NetConnectionProfile -InterfaceAlias \"Wireguard_server\"; '''\n",
    "                    '''$NetworkProfile.NetworkCategory = 'Private'; '''\n",
    "                    '''Set-NetConnectionProfile -InputObject $NetworkProfile''')\n",
    "            \n",
    "            net = self.run_return(cmd) # empty if successful\n",
    "            print(\"... Set profile to Private\", str(net,'utf-8')=='')\n",
    "            \n",
    "            #Enable NAT\n",
    "            cmd = '''powershell Set-NetConnectionSharing \"Wireguard_server\" $true'''\n",
    "            nat = self.run_return(cmd) # text DONE if successful\n",
    "            print(\"... Enabled connection sharing\", \"DONE\" in str(nat,'utf-8'))\n",
    "\n",
    "    def show(self):\n",
    "        show = subprocess.check_output(\"wg show\", shell=True, stderr=subprocess.STDOUT)\n",
    "        print(str(output,'utf-8')) # returns empty if\n",
    "\n",
    "    def down(self):\n",
    "        if not self.state:\n",
    "            print('... Wireguard is already down')\n",
    "            return\n",
    "\n",
    "        # Disable NAT\n",
    "        cmd = '''powershell Set-NetConnectionSharing \"Wireguard_server\" $false'''\n",
    "        nat = self.run_return(cmd) # empty if successful\n",
    "        print(\"... Disabled connection sharing\", \"DONE\" in str(nat,'utf-8'))\n",
    "        \n",
    "        # Uninstall tunnel service\n",
    "        cmd = '''\"C:/Program Files/WireGuard/wireguard.exe\" /uninstalltunnelservice Wireguard_server'''\n",
    "        down = run_return(cmd)\n",
    "        print(\"... Uninstalled configuration\", str(down,'utf-8')=='')\n",
    "\n",
    "    def pk_Pk_pair(self):\n",
    "        pk = keys.PrivateKey.generate()\n",
    "        Pk = pk.public_key()\n",
    "\n",
    "        return pk, Pk\n",
    "\n",
    "    def peers(self):\n",
    "        \"\"\" Returns a dict containing all peers in the Server config.\n",
    "                like: {Pk: {'ip':'...', 'handshake': True}}\n",
    "        \"\"\"\n",
    "\n",
    "        proc = Popen(['wg','show'], stdout=PIPE, stderr=PIPE)\n",
    "        wg, err = proc.communicate()\n",
    "        wg = str(wg,'utf-8')\n",
    "\n",
    "        peers = {}\n",
    "\n",
    "        if \"peer: \" in wg:\n",
    "            peers_conf = wg.split(\"peer: \")\n",
    "\n",
    "            # [1:] because interface/server is 0\n",
    "            for peer in peers_conf[1:]:\n",
    "\n",
    "                Pk = peer.split('\\n')[0].strip()\n",
    "                handshake = False\n",
    "\n",
    "                for row in peer.split('\\n'):\n",
    "                    if 'allowed ips' in row:\n",
    "                        ip = row.strip().split(':')[1].strip()\n",
    "\n",
    "                    if 'handshake' in row:\n",
    "                        handshake = True\n",
    "\n",
    "                peers[Pk] = {\"ip\": ip, 'handshake':handshake}\n",
    "\n",
    "        return peers\n",
    "\n",
    "cleanwmi_vbs = \"\"\"'Clean up WMI Entries so we can make a new one\n",
    "'https://github.com/billchaison/Windows-Trix\n",
    "Wscript.Echo \">>> WMI Cleanup\"\n",
    "\n",
    "set WMI = GetObject(\"WinMgmts:\\root\\Microsoft\\HomeNet\")\n",
    "set objs1 = WMI.ExecQuery(\"SELECT * FROM HNet_ConnectionProperties WHERE IsIcsPrivate = TRUE\")\n",
    "for each obj in objs1\n",
    "   obj.IsIcsPrivate = FALSE\n",
    "   obj.Put_\n",
    "next\n",
    "set objs2 = WMI.ExecQuery(\"SELECT * FROM HNet_ConnectionProperties WHERE IsIcsPublic = TRUE\")\n",
    "for each obj in objs2\n",
    "   obj.IsIcsPublic = FALSE\n",
    "   obj.Put_\n",
    "next\n",
    "\"\"\"\n",
    "    \n",
    "enablesharing_powershell = \"\"\"Function Set-NetConnectionSharing\n",
    "{\n",
    "    Param\n",
    "    (\n",
    "        [Parameter(Mandatory=$true)]\n",
    "        [string]\n",
    "        $LocalConnection,\n",
    "\n",
    "        [Parameter(Mandatory=$true)]\n",
    "        [bool]\n",
    "        $Enabled        \n",
    "    )\n",
    "\n",
    "    Begin\n",
    "    {\n",
    "        $netShare = $null\n",
    "\n",
    "        try\n",
    "        {\n",
    "            # Create a NetSharingManager object\n",
    "            $netShare = New-Object -ComObject HNetCfg.HNetShare\n",
    "        }\n",
    "        catch\n",
    "        {\n",
    "            # Register the HNetCfg library (once)\n",
    "            regsvr32 /s hnetcfg.dll\n",
    "\n",
    "            # Create a NetSharingManager object\n",
    "            $netShare = New-Object -ComObject HNetCfg.HNetShare\n",
    "        }\n",
    "    }\n",
    "\n",
    "    Process\n",
    "    {\n",
    "\t\t#Clear Existing Share\t       \n",
    "\t\t$oldConnections = $netShare.EnumEveryConnection |? { \n",
    "            $netShare.INetSharingConfigurationForINetConnection.Invoke($_).SharingEnabled -eq $true\n",
    "        }           \n",
    "        \n",
    "\t\tforeach($oldShared in $oldConnections)\n",
    "        {\n",
    "            Write-Output \"... Clearing old connection\"\n",
    "            $oldConfig = $netShare.INetSharingConfigurationForINetConnection.Invoke($oldShared)\n",
    "            $oldConfig.DisableSharing()                        \n",
    "        }        \n",
    "        \n",
    "        # Clean up WMI\n",
    "        # https://github.com/billchaison/Windows-Trix\n",
    "        & cscript /nologo \"C:/Windows/System32/WindowsPowerShell/v1.0/Modules/wireguard/cleanwmi.vbs\"\n",
    "\n",
    "        # Find connections\n",
    "        $InternetConnection = Get-NetRoute | ? DestinationPrefix -eq '0.0.0.0/0' | Get-NetIPInterface | Where ConnectionState -eq 'Connected'        \n",
    "        $publicConnection = $netShare.EnumEveryConnection |? { $netShare.NetConnectionProps.Invoke($_).Name -eq $InternetConnection.InterfaceAlias }\n",
    "        $privateConnection = $netShare.EnumEveryConnection |? { $netShare.NetConnectionProps.Invoke($_).Name -eq $LocalConnection }\n",
    "\n",
    "        # Get sharing configuration\n",
    "        $publicConfig = $netShare.INetSharingConfigurationForINetConnection.Invoke($publicConnection)\n",
    "        $privateConfig = $netShare.INetSharingConfigurationForINetConnection.Invoke($privateConnection)\n",
    "\n",
    "        if ($Enabled)\n",
    "        { \t\t\t\n",
    "            # Enable sharing (0 - public, 1 - private)\n",
    "            $publicConfig.EnableSharing(0)\n",
    "            $privateConfig.EnableSharing(1)\n",
    "        }\n",
    "        else\n",
    "        {\n",
    "            $publicConfig.DisableSharing()\n",
    "            $privateConfig.DisableSharing()\n",
    "        }\n",
    "        \n",
    "        Write-Output \">>> DONE\"\n",
    "        \n",
    "        $publicConfig = $netShare.INetSharingConfigurationForINetConnection.Invoke($publicConnection)\n",
    "        $privateConfig = $netShare.INetSharingConfigurationForINetConnection.Invoke($privateConnection)\n",
    "        \n",
    "        Write-Output $publicConfig\n",
    "        Write-Output $privateConfig\n",
    "    }\n",
    "}\n",
    "\"\"\""
   ]
  },
  {
   "cell_type": "code",
   "execution_count": 140,
   "metadata": {},
   "outputs": [
    {
     "data": {
      "text/plain": [
       "\u001b[1;31mSignature:\u001b[0m \u001b[0msubprocess\u001b[0m\u001b[1;33m.\u001b[0m\u001b[0mcheck_output\u001b[0m\u001b[1;33m(\u001b[0m\u001b[1;33m*\u001b[0m\u001b[0mpopenargs\u001b[0m\u001b[1;33m,\u001b[0m \u001b[0mtimeout\u001b[0m\u001b[1;33m=\u001b[0m\u001b[1;32mNone\u001b[0m\u001b[1;33m,\u001b[0m \u001b[1;33m**\u001b[0m\u001b[0mkwargs\u001b[0m\u001b[1;33m)\u001b[0m\u001b[1;33m\u001b[0m\u001b[1;33m\u001b[0m\u001b[0m\n",
       "\u001b[1;31mDocstring:\u001b[0m\n",
       "Run command with arguments and return its output.\n",
       "\n",
       "If the exit code was non-zero it raises a CalledProcessError.  The\n",
       "CalledProcessError object will have the return code in the returncode\n",
       "attribute and output in the output attribute.\n",
       "\n",
       "The arguments are the same as for the Popen constructor.  Example:\n",
       "\n",
       ">>> check_output([\"ls\", \"-l\", \"/dev/null\"])\n",
       "b'crw-rw-rw- 1 root root 1, 3 Oct 18  2007 /dev/null\\n'\n",
       "\n",
       "The stdout argument is not allowed as it is used internally.\n",
       "To capture standard error in the result, use stderr=STDOUT.\n",
       "\n",
       ">>> check_output([\"/bin/sh\", \"-c\",\n",
       "...               \"ls -l non_existent_file ; exit 0\"],\n",
       "...              stderr=STDOUT)\n",
       "b'ls: non_existent_file: No such file or directory\\n'\n",
       "\n",
       "There is an additional optional argument, \"input\", allowing you to\n",
       "pass a string to the subprocess's stdin.  If you use this argument\n",
       "you may not also use the Popen constructor's \"stdin\" argument, as\n",
       "it too will be used internally.  Example:\n",
       "\n",
       ">>> check_output([\"sed\", \"-e\", \"s/foo/bar/\"],\n",
       "...              input=b\"when in the course of fooman events\\n\")\n",
       "b'when in the course of barman events\\n'\n",
       "\n",
       "By default, all communication is in bytes, and therefore any \"input\"\n",
       "should be bytes, and the return value will be bytes.  If in text mode,\n",
       "any \"input\" should be a string, and the return value will be a string\n",
       "decoded according to locale encoding, or by \"encoding\" if set. Text mode\n",
       "is triggered by setting any of text, encoding, errors or universal_newlines.\n",
       "\u001b[1;31mFile:\u001b[0m      c:\\anaconda3\\lib\\subprocess.py\n",
       "\u001b[1;31mType:\u001b[0m      function\n"
      ]
     },
     "metadata": {},
     "output_type": "display_data"
    }
   ],
   "source": [
    "?subprocess.check_output"
   ]
  },
  {
   "cell_type": "code",
   "execution_count": null,
   "metadata": {},
   "outputs": [],
   "source": []
  }
 ],
 "metadata": {
  "kernelspec": {
   "display_name": "Python 3",
   "language": "python",
   "name": "python3"
  },
  "language_info": {
   "codemirror_mode": {
    "name": "ipython",
    "version": 3
   },
   "file_extension": ".py",
   "mimetype": "text/x-python",
   "name": "python",
   "nbconvert_exporter": "python",
   "pygments_lexer": "ipython3",
   "version": "3.7.5"
  }
 },
 "nbformat": 4,
 "nbformat_minor": 4
}
