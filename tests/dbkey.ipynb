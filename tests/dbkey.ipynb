{
 "cells": [
  {
   "cell_type": "code",
   "execution_count": 11,
   "id": "a12d0b1d",
   "metadata": {},
   "outputs": [
    {
     "name": "stdout",
     "output_type": "stream",
     "text": [
      "<?xml version=\"1.0\" encoding=\"UTF-8\"?>\n",
      "<DBAccessKey>\n",
      "  <hostIPAddress>10.82.6.57</hostIPAddress>\n",
      "  <dbName>garden</dbName>\n",
      "  <dbUsername>postgres</dbUsername>\n",
      "  <dbPassword>DaVinci</dbPassword>\n",
      "</DBAccessKey>\n",
      "\n"
     ]
    }
   ],
   "source": [
    "with open(\"/Users/jonnyhyman/data/garden.resolvedbkey\", 'r') as f:\n",
    "    print(f.read())"
   ]
  },
  {
   "cell_type": "code",
   "execution_count": 6,
   "id": "8dc48fb9",
   "metadata": {},
   "outputs": [],
   "source": [
    "from pathlib import Path"
   ]
  },
  {
   "cell_type": "code",
   "execution_count": 12,
   "id": "1d2a2933",
   "metadata": {},
   "outputs": [
    {
     "data": {
      "text/plain": [
       "True"
      ]
     },
     "execution_count": 12,
     "metadata": {},
     "output_type": "execute_result"
    }
   ],
   "source": [
    "Path(\"/Users/jonnyhyman/data/garden.resolvedbkey\").exists()"
   ]
  },
  {
   "cell_type": "code",
   "execution_count": null,
   "id": "1283d4de",
   "metadata": {},
   "outputs": [],
   "source": [
    "f\"\"\"<?xml version=\"1.0\" encoding=\"UTF-8\"?>\n",
    "<DBAccessKey>\n",
    "  <hostIPAddress>{ip}</hostIPAddress>\n",
    "  <dbName>{db['user']}</dbName>\n",
    "  <dbUsername>{db['user']}</dbUsername>\n",
    "  <dbPassword>{db['pass']}</dbPassword>\n",
    "</DBAccessKey>\n",
    "\"\"\""
   ]
  },
  {
   "cell_type": "code",
   "execution_count": null,
   "id": "2e07852b",
   "metadata": {},
   "outputs": [],
   "source": [
    "with (\"test.resolvedbkey\", 'r') as f:\n",
    "    f.write(xml)"
   ]
  }
 ],
 "metadata": {
  "kernelspec": {
   "display_name": "Python 3",
   "language": "python",
   "name": "python3"
  },
  "language_info": {
   "codemirror_mode": {
    "name": "ipython",
    "version": 3
   },
   "file_extension": ".py",
   "mimetype": "text/x-python",
   "name": "python",
   "nbconvert_exporter": "python",
   "pygments_lexer": "ipython3",
   "version": "3.7.10"
  }
 },
 "nbformat": 4,
 "nbformat_minor": 5
}
