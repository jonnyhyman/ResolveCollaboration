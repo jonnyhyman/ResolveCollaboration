{
 "cells": [
  {
   "cell_type": "code",
   "execution_count": null,
   "metadata": {},
   "outputs": [],
   "source": [
    "import pandas as pd"
   ]
  },
  {
   "cell_type": "code",
   "execution_count": null,
   "metadata": {},
   "outputs": [],
   "source": [
    "import psycopg2"
   ]
  },
  {
   "cell_type": "code",
   "execution_count": null,
   "metadata": {},
   "outputs": [],
   "source": [
    "with psycopg2.connect(user=db_user,\n",
    "                  password=db_pass,\n",
    "                  host=\"9.0.0.1\",\n",
    "                  port=\"5432\",\n",
    "                  connect_timeout=3,\n",
    "                  database=db_name) as connection:\n",
    "\n",
    "    hba_file = pd.read_sql_query(f'''SHOW hba_file''', connection).iloc[0,0]\n",
    "    pid_file = pd.read_sql_query(f'''SHOW config_file''', connection).iloc[0,0] "
   ]
  },
  {
   "cell_type": "code",
   "execution_count": null,
   "metadata": {},
   "outputs": [],
   "source": [
    "hba_file, pid_file"
   ]
  },
  {
   "cell_type": "markdown",
   "metadata": {},
   "source": [
    "# UNIX\n",
    "```sudo service postgresql start```\n",
    "# W10 (requires Admin)"
   ]
  },
  {
   "cell_type": "code",
   "execution_count": null,
   "metadata": {},
   "outputs": [],
   "source": [
    "import win32con\n",
    "import win32service\n",
    "import win32serviceutil\n",
    "\n",
    "def find_postgres_win32service():\n",
    "    resume = 0\n",
    "    accessSCM = win32con.GENERIC_READ\n",
    "    accessSrv = win32service.SC_MANAGER_ALL_ACCESS\n",
    "\n",
    "    #Open Service Control Manager\n",
    "    hscm = win32service.OpenSCManager(None, None, accessSCM)\n",
    "\n",
    "    #Enumerate Service Control Manager DB\n",
    "    typeFilter = win32service.SERVICE_WIN32\n",
    "    stateFilter = win32service.SERVICE_STATE_ALL\n",
    "\n",
    "    statuses = win32service.EnumServicesStatus(hscm, typeFilter, stateFilter)\n",
    "\n",
    "    for (short_name, desc, status) in statuses:\n",
    "        if 'postgresql' in short_name.lower():\n",
    "            return short_name, desc, status\n",
    "             \n",
    "#     win32serviceutil.RestartService(full_name)"
   ]
  },
  {
   "cell_type": "code",
   "execution_count": null,
   "metadata": {},
   "outputs": [],
   "source": [
    "find_postgres_win32service()"
   ]
  },
  {
   "cell_type": "code",
   "execution_count": 3,
   "metadata": {},
   "outputs": [],
   "source": [
    "import win32con\n",
    "import win32service\n",
    "import win32serviceutil\n",
    "\n",
    "def restart_postgres_win32service():\n",
    "    \n",
    "    accessSCM = win32con.GENERIC_READ\n",
    "    accessSrv = win32service.SC_MANAGER_ALL_ACCESS\n",
    "\n",
    "    #Open Service Control Manager\n",
    "    hscm = win32service.OpenSCManager(None, None, accessSCM)\n",
    "\n",
    "    #Enumerate Service Control Manager DB\n",
    "    typeFilter = win32service.SERVICE_WIN32\n",
    "    stateFilter = win32service.SERVICE_STATE_ALL\n",
    "\n",
    "    statuses = win32service.EnumServicesStatus(hscm, typeFilter, stateFilter)\n",
    "\n",
    "    for (short_name, desc, status) in statuses:\n",
    "        if 'postgresql' in short_name.lower():\n",
    "            win32serviceutil.RestartService(short_name)\n",
    "            return True\n",
    "    return False"
   ]
  },
  {
   "cell_type": "code",
   "execution_count": 4,
   "metadata": {},
   "outputs": [
    {
     "data": {
      "text/plain": [
       "True"
      ]
     },
     "execution_count": 4,
     "metadata": {},
     "output_type": "execute_result"
    }
   ],
   "source": [
    "restart_postgres_win32service()"
   ]
  },
  {
   "cell_type": "code",
   "execution_count": 5,
   "metadata": {},
   "outputs": [
    {
     "data": {
      "text/plain": [
       "\u001b[1;31mSignature:\u001b[0m\n",
       "\u001b[0mwin32serviceutil\u001b[0m\u001b[1;33m.\u001b[0m\u001b[0mRestartService\u001b[0m\u001b[1;33m(\u001b[0m\u001b[1;33m\n",
       "\u001b[0m    \u001b[0mserviceName\u001b[0m\u001b[1;33m,\u001b[0m\u001b[1;33m\n",
       "\u001b[0m    \u001b[0margs\u001b[0m\u001b[1;33m=\u001b[0m\u001b[1;32mNone\u001b[0m\u001b[1;33m,\u001b[0m\u001b[1;33m\n",
       "\u001b[0m    \u001b[0mwaitSeconds\u001b[0m\u001b[1;33m=\u001b[0m\u001b[1;36m30\u001b[0m\u001b[1;33m,\u001b[0m\u001b[1;33m\n",
       "\u001b[0m    \u001b[0mmachine\u001b[0m\u001b[1;33m=\u001b[0m\u001b[1;32mNone\u001b[0m\u001b[1;33m,\u001b[0m\u001b[1;33m\n",
       "\u001b[0m\u001b[1;33m)\u001b[0m\u001b[1;33m\u001b[0m\u001b[1;33m\u001b[0m\u001b[0m\n",
       "\u001b[1;31mDocstring:\u001b[0m Stop the service, and then start it again (with some tolerance for allowing it to stop.)\n",
       "\u001b[1;31mFile:\u001b[0m      c:\\anaconda3\\lib\\site-packages\\win32\\lib\\win32serviceutil.py\n",
       "\u001b[1;31mType:\u001b[0m      function\n"
      ]
     },
     "metadata": {},
     "output_type": "display_data"
    }
   ],
   "source": [
    "?win32serviceutil.RestartService"
   ]
  },
  {
   "cell_type": "code",
   "execution_count": null,
   "metadata": {},
   "outputs": [],
   "source": [
    "import platform\n",
    "platform.platform(terse=1)"
   ]
  },
  {
   "cell_type": "markdown",
   "metadata": {},
   "source": [
    "# Try to add an entry to the existing pg_hba.conf"
   ]
  },
  {
   "cell_type": "code",
   "execution_count": null,
   "metadata": {},
   "outputs": [],
   "source": [
    "with open(hba_file,'r') as file:\n",
    "    hba = file.read()\n",
    "print(hba)"
   ]
  },
  {
   "cell_type": "code",
   "execution_count": null,
   "metadata": {},
   "outputs": [],
   "source": [
    "hba_list = hba.split('\\n')\n",
    "hba_list"
   ]
  },
  {
   "cell_type": "code",
   "execution_count": null,
   "metadata": {},
   "outputs": [],
   "source": [
    "db_name = 'name'\n",
    "db_user = 'user'\n",
    "user_ip = '9.0.0.4'\n",
    "hba_list[-1] = f\"host    {db_name}    {db_user}    {user_ip}/32    md5\\n\""
   ]
  },
  {
   "cell_type": "code",
   "execution_count": null,
   "metadata": {},
   "outputs": [],
   "source": [
    "new_hba = '\\n'.join(hba_list)\n",
    "print(new_hba)"
   ]
  },
  {
   "cell_type": "code",
   "execution_count": null,
   "metadata": {},
   "outputs": [],
   "source": [
    "with open(\"pg_hba_rmcc_backup.conf\",'w') as bkup:\n",
    "    bkup.write(hba)\n",
    "\n",
    "with open(hba_file,'w') as file:\n",
    "    file.write(new_hba)"
   ]
  },
  {
   "cell_type": "code",
   "execution_count": null,
   "metadata": {},
   "outputs": [],
   "source": [
    "restart_postgres_win32service()"
   ]
  },
  {
   "cell_type": "code",
   "execution_count": null,
   "metadata": {},
   "outputs": [],
   "source": [
    "import ipaddress\n",
    "import datetime"
   ]
  },
  {
   "cell_type": "code",
   "execution_count": null,
   "metadata": {},
   "outputs": [],
   "source": [
    "ipaddress.ip_network('9.0.0.4/32')"
   ]
  },
  {
   "cell_type": "code",
   "execution_count": null,
   "metadata": {},
   "outputs": [],
   "source": [
    "# Default hba_conf\n",
    "default_hba = (f\"\"\"# pg_hba.conf was last modified by Resolve Mission Control at {datetime.datetime.utcnow()}. Manual edit at your own risk!\\n\"\"\"\n",
    "                \"\"\"# TYPE    DATABASE    USER    ADDRESS    METHOD\\n\"\"\"\n",
    "                \"\"\"host    all    all    127.0.0.1/32    md5\\n\"\"\"\n",
    "                \"\"\"host    all    all    ::1/128    md5\\n\"\"\")\n",
    "print(default_hba)"
   ]
  },
  {
   "cell_type": "markdown",
   "metadata": {},
   "source": [
    "# Turns out [from this](https://stackoverflow.com/questions/42344890/how-to-restart-postgresql-on-os-x) a full server restart is not necessary\n",
    "Just need to run select pg_reload_conf()"
   ]
  },
  {
   "cell_type": "code",
   "execution_count": null,
   "metadata": {},
   "outputs": [],
   "source": [
    "import psycopg2\n",
    "\n",
    "def regenerate_hba_file():\n",
    "    \n",
    "    with psycopg2.connect(user=db_user,\n",
    "                  password=db_pass,\n",
    "                  host=\"9.0.0.1\",\n",
    "                  port=\"5432\",\n",
    "                  connect_timeout=3,\n",
    "                  database=db_name) as connection:\n",
    "\n",
    "        hba_file = pd.read_sql_query(f'''SHOW hba_file''', connection).iloc[0,0]\n",
    "        pid_file = pd.read_sql_query(f'''SHOW config_file''', connection).iloc[0,0] \n",
    "\n",
    "        # Default hba_conf\n",
    "        default_hba = (f\"\"\"# pg_hba.conf was last modified by Resolve Mission Control at {datetime.datetime.utcnow()}. Manual edit at your own risk!\\n\"\"\"\n",
    "                        \"\"\"# TYPE    DATABASE    USER    ADDRESS    METHOD\\n\"\"\"\n",
    "                        \"\"\"host    all    all    127.0.0.1/32    md5\\n\"\"\"\n",
    "                        \"\"\"host    all    all    ::1/128    md5\\n\"\"\")\n",
    "\n",
    "        hba_list = hba.split('\\n')\n",
    "        db_name = db_name\n",
    "        db_user = db_user\n",
    "        user_ip = '9.0.0.6'\n",
    "        hba_list[-1] = f\"host    {db_name}    {db_user}    {user_ip}/32    md5\\n\"\n",
    "        new_hba = '\\n'.join(hba_list)\n",
    "\n",
    "        with open(\"pg_hba_rmcc_backup.conf\",'w') as bkup:\n",
    "            bkup.write(hba)\n",
    "\n",
    "        with open(hba_file,'w') as file:\n",
    "            file.write(new_hba)\n",
    "\n",
    "        return pd.read_sql_query(f\"select pg_reload_conf()\", connection).iloc[0,0] # True if suceeded, False if failed"
   ]
  },
  {
   "cell_type": "markdown",
   "metadata": {},
   "source": [
    "# macOS and without pandas"
   ]
  },
  {
   "cell_type": "code",
   "execution_count": 12,
   "metadata": {},
   "outputs": [],
   "source": [
    "import psycopg2"
   ]
  },
  {
   "cell_type": "code",
   "execution_count": 16,
   "metadata": {},
   "outputs": [
    {
     "name": "stdout",
     "output_type": "stream",
     "text": [
      "/Library/PostgreSQL/9.5/data/pg_hba.conf\n",
      "True\n"
     ]
    }
   ],
   "source": [
    "with psycopg2.connect(user=\"postgres\",\n",
    "                  password=\"DaVinci\",\n",
    "                  host=\"127.0.0.1\",\n",
    "                  port=\"5432\",\n",
    "                  connect_timeout=3,\n",
    "                  database='garden') as connection:\n",
    "    \n",
    "    crs = connection.cursor()\n",
    "    crs.execute(\"SHOW hba_file\")\n",
    "    print(crs.fetchall()[0][0])\n",
    "    \n",
    "    crs.execute(\"select pg_reload_conf()\")\n",
    "    print(crs.fetchall()[0][0])"
   ]
  },
  {
   "cell_type": "code",
   "execution_count": 13,
   "metadata": {},
   "outputs": [
    {
     "name": "stdout",
     "output_type": "stream",
     "text": [
      "True\n"
     ]
    }
   ],
   "source": [
    "with psycopg2.connect(user=\"postgres\",\n",
    "                      # low risk secrets\n",
    "                  password=\"DaVinci\",\n",
    "                  host=\"127.0.0.1\",\n",
    "                  port=\"5432\",\n",
    "                  connect_timeout=3,\n",
    "                  database='garden') as connection:\n",
    "    \n",
    "    crs = connection.cursor()\n",
    "    crs.execute(\"select pg_reload_conf()\")\n",
    "    print(crs.fetchall()[0][0])"
   ]
  },
  {
   "cell_type": "code",
   "execution_count": 17,
   "metadata": {},
   "outputs": [],
   "source": [
    "with open(\"/Library/PostgreSQL/9.5/data/pg_hba.conf\", 'r') as f:\n",
    "    default_hba = f.read()"
   ]
  },
  {
   "cell_type": "code",
   "execution_count": 20,
   "metadata": {},
   "outputs": [
    {
     "data": {
      "text/plain": [
       "PosixPath('/Library/PostgreSQL/9.5/data/ahem.conf')"
      ]
     },
     "execution_count": 20,
     "metadata": {},
     "output_type": "execute_result"
    }
   ],
   "source": [
    "from pathlib import Path\n",
    "Path(\"/Library/PostgreSQL/9.5/data/pg_hba.conf\").parent / Path(\"ahem.conf\")"
   ]
  },
  {
   "cell_type": "code",
   "execution_count": null,
   "metadata": {},
   "outputs": [],
   "source": [
    "\n",
    "# low risk secret\n",
    "with psycopg2.connect(user=\"postgres\",\n",
    "              password=\"DaVinci\",\n",
    "              host=\"127.0.0.1\",\n",
    "              port=\"5432\",\n",
    "              connect_timeout=3,\n",
    "              database=db_name) as connection:\n",
    "\n",
    "    crs = connection.cursor()\n",
    "    crs.execute(\"SHOW hba_file\")\n",
    "    hba_file = crs.fetchall()[0][0]\n",
    "\n",
    "    # Default hba_conf\n",
    "    default_hba = (f\"\"\"# pg_hba.conf was last modified by Resolve Mission Control at {datetime.datetime.utcnow()}. Manual edit at your own risk!\\n\"\"\"\n",
    "                    \"\"\"# TYPE    DATABASE    USER    ADDRESS    METHOD\\n\"\"\"\n",
    "                    \"\"\"host    all    all    127.0.0.1/32    md5\\n\"\"\")\n",
    "\n",
    "    hba_list = hba.split('\\n')\n",
    "    db_name = db_name\n",
    "    db_user = db_user\n",
    "    user_ip = '9.0.0.6'\n",
    "    hba_list[-1] = f\"host    {db_name}    {db_user}    {user_ip}/32    md5\\n\"\n",
    "    new_hba = '\\n'.join(hba_list)\n",
    "\n",
    "    with open(\"pg_hba_rmcc_backup.conf\",'w') as bkup:\n",
    "        bkup.write(hba)\n",
    "\n",
    "    with open(hba_file,'w') as file:\n",
    "        file.write(new_hba)\n",
    "\n",
    "    return pd.read_sql_query(f\"select pg_reload_conf()\", connection).iloc[0,0] # True if suceeded, False if failed"
   ]
  },
  {
   "cell_type": "code",
   "execution_count": 18,
   "metadata": {},
   "outputs": [
    {
     "name": "stdout",
     "output_type": "stream",
     "text": [
      "local   all             all                                     md5\n",
      "host    all             all             127.0.0.1/32            md5\n",
      "host    all             all             ::1/128                 md5\n",
      "host    garden    human    7.0.0.0/24    md5\n",
      "\n"
     ]
    }
   ],
   "source": [
    "with open(\"/Library/PostgreSQL/9.5/data/pg_hba.conf\", \"r\") as f:\n",
    "    r = (f.readlines())\n",
    "    r = ''.join([l for l in r if l[0] not in  ('#\\n')])\n",
    "    print(r)"
   ]
  },
  {
   "cell_type": "code",
   "execution_count": 9,
   "metadata": {},
   "outputs": [
    {
     "name": "stdout",
     "output_type": "stream",
     "text": [
      "PING 7.0.0.4 (7.0.0.4): 56 data bytes\n",
      "64 bytes from 7.0.0.4: icmp_seq=0 ttl=128 time=3.565 ms\n",
      "64 bytes from 7.0.0.4: icmp_seq=1 ttl=128 time=3.327 ms\n",
      "64 bytes from 7.0.0.4: icmp_seq=2 ttl=128 time=19.969 ms\n",
      "\n",
      "--- 7.0.0.4 ping statistics ---\n",
      "3 packets transmitted, 3 packets received, 0.0% packet loss\n",
      "round-trip min/avg/max/stddev = 3.327/8.954/19.969/7.790 ms\n"
     ]
    }
   ],
   "source": [
    "!ping 7.0.0.4 -c 3"
   ]
  },
  {
   "cell_type": "code",
   "execution_count": 10,
   "metadata": {},
   "outputs": [
    {
     "name": "stdout",
     "output_type": "stream",
     "text": [
      "pg_ctl: cannot be run as root\n",
      "Please log in (using, e.g., \"su\") as the (unprivileged) user that will\n",
      "own the server process.\n"
     ]
    }
   ],
   "source": []
  },
  {
   "cell_type": "code",
   "execution_count": 15,
   "metadata": {},
   "outputs": [
    {
     "name": "stdout",
     "output_type": "stream",
     "text": [
      "/Library/PostgreSQL/9.5/data\n"
     ]
    }
   ],
   "source": [
    "with psycopg2.connect(user=\"postgres\",\n",
    "                  password=\"DaVinci\",\n",
    "                  host=\"127.0.0.1\",\n",
    "                  port=\"5432\",\n",
    "                  connect_timeout=3,\n",
    "                  database='garden') as connection:\n",
    "    \n",
    "    crs = connection.cursor()\n",
    "    crs.execute(\"select name, setting from pg_settings where name = 'data_directory';\")\n",
    "    print(crs.fetchall()[0][1])\n",
    "    \n",
    "    os.system('''su postgres -c \"/Library/PostgreSQL/9.5/bin/pg_ctl restart -D /Library/PostgreSQL/9.5/data\"''')"
   ]
  },
  {
   "cell_type": "code",
   "execution_count": null,
   "metadata": {},
   "outputs": [],
   "source": []
  }
 ],
 "metadata": {
  "kernelspec": {
   "display_name": "Python 3",
   "language": "python",
   "name": "python3"
  },
  "language_info": {
   "codemirror_mode": {
    "name": "ipython",
    "version": 3
   },
   "file_extension": ".py",
   "mimetype": "text/x-python",
   "name": "python",
   "nbconvert_exporter": "python",
   "pygments_lexer": "ipython3",
   "version": "3.7.5"
  }
 },
 "nbformat": 4,
 "nbformat_minor": 4
}
