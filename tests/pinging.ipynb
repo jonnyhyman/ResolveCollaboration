{
 "cells": [
  {
   "cell_type": "code",
   "execution_count": null,
   "id": "59d4082b",
   "metadata": {},
   "outputs": [],
   "source": [
    "import platform\n",
    "import subprocess\n",
    "from ipaddress import ip_address\n",
    "\n",
    "# BLOCKING:\n",
    "def ping(host, timeout=5.0):\n",
    "    \"\"\"\n",
    "    Returns True if host (str) responds to a ping request.\n",
    "    Remember that a host may not respond to a ping (ICMP) request even if the host name is valid.\n",
    "    \"\"\"\n",
    "    # check for validity; ValueError if invalid\n",
    "    host = ip_address(host)\n",
    "    \n",
    "    # Option for the number of packets as a function of\n",
    "    param = '-n' if platform.system().lower()=='windows' else '-c'\n",
    "\n",
    "    # Building the command. Ex: \"ping -c 1 google.com\"\n",
    "    command = ['ping', param, '1', str(host)]\n",
    "\n",
    "    try:\n",
    "        val = subprocess.call(command, timeout=timeout)\n",
    "        return val == 0\n",
    "    except subprocess.TimeoutExpired:\n",
    "        return False"
   ]
  },
  {
   "cell_type": "code",
   "execution_count": null,
   "id": "7e5c821a",
   "metadata": {},
   "outputs": [],
   "source": [
    "ping(\"127.0.0.1\", timeout=.2)"
   ]
  },
  {
   "cell_type": "code",
   "execution_count": null,
   "id": "c595f618",
   "metadata": {},
   "outputs": [],
   "source": [
    "ping(\"127.0.0.0\", timeout=.2)"
   ]
  },
  {
   "cell_type": "code",
   "execution_count": 36,
   "id": "9f8ba5ec",
   "metadata": {},
   "outputs": [],
   "source": [
    "from subprocess import Popen, PIPE\n",
    "from ipaddress import ip_address\n",
    "import platform\n",
    "import time\n",
    "\n",
    "# ASYNCHRONOUS AND PARALLEL\n",
    "class Class:\n",
    "    \n",
    "    def ping_ips(self, hosts):\n",
    "        \n",
    "        # Check if running, return if so\n",
    "        \n",
    "        self.ping_procs = []\n",
    "        self.ping_values = []\n",
    "        \n",
    "        for host in hosts:\n",
    "\n",
    "            # check for validity; ValueError if invalid\n",
    "            host = ip_address(host)\n",
    "\n",
    "            # Option for the number of packets as a function of\n",
    "            param = '-n' if platform.system().lower()=='windows' else '-c'\n",
    "\n",
    "            # Building the command. Ex: \"ping -c 1 google.com\"\n",
    "            command = ['ping', param, '1', str(host)]\n",
    "\n",
    "            self.ping_procs += [Popen(command,stdout=PIPE)]\n",
    "        \n",
    "        self.ping_values = [None for p in self.ping_procs]\n",
    "        \n",
    "    def check_pings(self):\n",
    "        \n",
    "        for i, p in enumerate(self.ping_procs):\n",
    "            \n",
    "            if p.poll() is not None:\n",
    "                # Done running, get output\n",
    "                try:\n",
    "                    out,err = p.communicate()\n",
    "                    self.ping_values[i] = str(out,'utf-8')\n",
    "                    p.kill()\n",
    "                except ValueError:\n",
    "                    # p has already been killed\n",
    "                    pass\n",
    "                \n",
    "        return self.ping_values"
   ]
  },
  {
   "cell_type": "code",
   "execution_count": 37,
   "id": "7034b99d",
   "metadata": {},
   "outputs": [],
   "source": [
    "c = Class()"
   ]
  },
  {
   "cell_type": "code",
   "execution_count": 47,
   "id": "8fe8f8b0",
   "metadata": {},
   "outputs": [],
   "source": [
    "c.ping_ips(['127.0.0.1', '9.0.0.2', '11.0.0.1', '140.82.112.4'])"
   ]
  },
  {
   "cell_type": "code",
   "execution_count": 86,
   "id": "b4df0aed",
   "metadata": {},
   "outputs": [
    {
     "data": {
      "text/plain": [
       "[<subprocess.Popen at 0x7fd3802e48d0>,\n",
       " <subprocess.Popen at 0x7fd3a037e990>,\n",
       " <subprocess.Popen at 0x7fd380312490>,\n",
       " <subprocess.Popen at 0x7fd3803cd610>]"
      ]
     },
     "execution_count": 86,
     "metadata": {},
     "output_type": "execute_result"
    }
   ],
   "source": [
    "c.ping_procs"
   ]
  },
  {
   "cell_type": "code",
   "execution_count": 85,
   "id": "f4577b3f",
   "metadata": {},
   "outputs": [],
   "source": [
    "for p in c.ping_procs:\n",
    "    p.terminate()"
   ]
  },
  {
   "cell_type": "code",
   "execution_count": 87,
   "id": "a07d034b",
   "metadata": {},
   "outputs": [
    {
     "name": "stdout",
     "output_type": "stream",
     "text": [
      ">>> PING 127.0.0.1 (127.0.0.1): 56 data bytes\n",
      "64 bytes from 127.0.0.1: icmp_seq=0 ttl=64 time=0.042 ms\n",
      "\n",
      "--- 127.0.0.1 ping statistics ---\n",
      "1 packets transmitted, 1 packets received, 0.0% packet loss\n",
      "round-trip min/avg/max/stddev = 0.042/0.042/0.042/0.000 ms\n",
      "\n",
      ">>> PING 9.0.0.2 (9.0.0.2): 56 data bytes\n",
      "\n",
      "--- 9.0.0.2 ping statistics ---\n",
      "1 packets transmitted, 0 packets received, 100.0% packet loss\n",
      "\n",
      ">>> PING 11.0.0.1 (11.0.0.1): 56 data bytes\n",
      "\n",
      "--- 11.0.0.1 ping statistics ---\n",
      "1 packets transmitted, 0 packets received, 100.0% packet loss\n",
      "\n",
      ">>> PING 140.82.112.4 (140.82.112.4): 56 data bytes\n",
      "64 bytes from 140.82.112.4: icmp_seq=0 ttl=37 time=85.321 ms\n",
      "\n",
      "--- 140.82.112.4 ping statistics ---\n",
      "1 packets transmitted, 1 packets received, 0.0% packet loss\n",
      "round-trip min/avg/max/stddev = 85.321/85.321/85.321/0.000 ms\n",
      "\n"
     ]
    }
   ],
   "source": [
    "pings = c.check_pings()\n",
    "\n",
    "for p in pings:\n",
    "    print('>>>', p)"
   ]
  },
  {
   "cell_type": "code",
   "execution_count": 79,
   "id": "1c258058",
   "metadata": {},
   "outputs": [],
   "source": [
    "def parse_ping(ping):\n",
    "    \"\"\" macOS ping parsing \"\"\"\n",
    "    \n",
    "    value = \"-- ms\"\n",
    "    \n",
    "    if ping is None:\n",
    "        return value\n",
    "    \n",
    "    blob = ping.split('\\n')[1]    \n",
    "\n",
    "    if blob == '':\n",
    "        return value\n",
    "    \n",
    "    if ' ' in blob:\n",
    "        blob = blob.split(' ')\n",
    "\n",
    "        if len(blob) > 3:\n",
    "            value = blob[-2].split('=')[1] + \" ms\"\n",
    "            \n",
    "    return value"
   ]
  },
  {
   "cell_type": "code",
   "execution_count": 80,
   "id": "0498f511",
   "metadata": {},
   "outputs": [
    {
     "data": {
      "text/plain": [
       "'0.042 ms'"
      ]
     },
     "execution_count": 80,
     "metadata": {},
     "output_type": "execute_result"
    }
   ],
   "source": [
    "parse_ping(pings[0])"
   ]
  },
  {
   "cell_type": "code",
   "execution_count": 81,
   "id": "b1b7f11e",
   "metadata": {},
   "outputs": [
    {
     "data": {
      "text/plain": [
       "'-- ms'"
      ]
     },
     "execution_count": 81,
     "metadata": {},
     "output_type": "execute_result"
    }
   ],
   "source": [
    "parse_ping(pings[1])"
   ]
  },
  {
   "cell_type": "code",
   "execution_count": 82,
   "id": "1754ad44",
   "metadata": {},
   "outputs": [
    {
     "data": {
      "text/plain": [
       "'85.321 ms'"
      ]
     },
     "execution_count": 82,
     "metadata": {},
     "output_type": "execute_result"
    }
   ],
   "source": [
    "parse_ping(pings[3])"
   ]
  },
  {
   "cell_type": "code",
   "execution_count": 122,
   "id": "591178a5",
   "metadata": {},
   "outputs": [],
   "source": [
    "from subprocess import Popen, PIPE\n",
    "\n",
    "# ASYNCHRONOUS AND PARALLEL\n",
    "class ParallelApplication:\n",
    "    \n",
    "    def run_commands(self, commands, errors=False):\n",
    "        \n",
    "        # Check if running, return if so\n",
    "        \n",
    "        self.procs = []\n",
    "        self.returns = []\n",
    "        \n",
    "        for cmd in commands:\n",
    "            if errors:\n",
    "                stderr = PIPE\n",
    "            else:\n",
    "                stderr = None\n",
    "                \n",
    "            self.procs += [Popen(cmd, stdout=PIPE, stderr=stderr)]\n",
    "        \n",
    "        self.returns = [None for p in self.procs]\n",
    "        \n",
    "    def check_returns(self):\n",
    "        \n",
    "        for i, p in enumerate(self.procs):\n",
    "            \n",
    "            if p.poll() is not None:\n",
    "                # Done running, get output\n",
    "                try:\n",
    "                    out,err = p.communicate()\n",
    "                    self.returns[i] = str(out,'utf-8')\n",
    "                    p.kill()\n",
    "                    \n",
    "                except ValueError:\n",
    "                    # p has already been killed\n",
    "                    pass\n",
    "                \n",
    "        return self.returns"
   ]
  },
  {
   "cell_type": "code",
   "execution_count": 130,
   "id": "743147ff",
   "metadata": {},
   "outputs": [],
   "source": [
    "hosts = ['127.0.0.1', '9.0.0.1', \"10.0.0.134\"]\n",
    "\n",
    "commands = []\n",
    "\n",
    "for host in hosts:\n",
    "\n",
    "    # check for validity; ValueError if invalid\n",
    "    host = ip_address(host)\n",
    "\n",
    "    # Option for the number of packets as a function of\n",
    "    param = '-n' if platform.system().lower()=='windows' else '-c'\n",
    "\n",
    "    # Building the command. Ex: \"ping -c 1 google.com\"\n",
    "    command = ['ping', param, '1', str(host)]\n",
    "    \n",
    "    commands += [command]"
   ]
  },
  {
   "cell_type": "code",
   "execution_count": 131,
   "id": "08c0ab22",
   "metadata": {},
   "outputs": [],
   "source": [
    "p = ParallelApplication()\n",
    "p.run_commands(commands)"
   ]
  },
  {
   "cell_type": "code",
   "execution_count": 136,
   "id": "98b98bb8",
   "metadata": {},
   "outputs": [
    {
     "name": "stdout",
     "output_type": "stream",
     "text": [
      "PING 127.0.0.1 (127.0.0.1): 56 data bytes\n",
      "64 bytes from 127.0.0.1: icmp_seq=0 ttl=64 time=0.060 ms\n",
      "\n",
      "--- 127.0.0.1 ping statistics ---\n",
      "1 packets transmitted, 1 packets received, 0.0% packet loss\n",
      "round-trip min/avg/max/stddev = 0.060/0.060/0.060/0.000 ms\n",
      "\n",
      "PING 9.0.0.2 (9.0.0.2): 56 data bytes\n",
      "\n",
      "--- 9.0.0.2 ping statistics ---\n",
      "1 packets transmitted, 0 packets received, 100.0% packet loss\n",
      "\n",
      "PING 10.0.0.134 (10.0.0.134): 56 data bytes\n",
      "64 bytes from 10.0.0.134: icmp_seq=0 ttl=128 time=4.363 ms\n",
      "\n",
      "--- 10.0.0.134 ping statistics ---\n",
      "1 packets transmitted, 1 packets received, 0.0% packet loss\n",
      "round-trip min/avg/max/stddev = 4.363/4.363/4.363/0.000 ms\n",
      "\n"
     ]
    }
   ],
   "source": [
    "for r in p.check_returns():\n",
    "    print(r)"
   ]
  },
  {
   "cell_type": "code",
   "execution_count": 140,
   "id": "4dd9a0dc",
   "metadata": {},
   "outputs": [
    {
     "data": {
      "text/plain": [
       "['PING 127.0.0.1 (127.0.0.1): 56 data bytes',\n",
       " '64 bytes from 127.0.0.1: icmp_seq=0 ttl=64 time=0.060 ms',\n",
       " '',\n",
       " '--- 127.0.0.1 ping statistics ---',\n",
       " '1 packets transmitted, 1 packets received, 0.0% packet loss',\n",
       " 'round-trip min/avg/max/stddev = 0.060/0.060/0.060/0.000 ms',\n",
       " '']"
      ]
     },
     "execution_count": 140,
     "metadata": {},
     "output_type": "execute_result"
    }
   ],
   "source": [
    "p.check_returns()[0].split('\\n')"
   ]
  },
  {
   "cell_type": "code",
   "execution_count": null,
   "id": "1d84b1f0",
   "metadata": {},
   "outputs": [],
   "source": []
  }
 ],
 "metadata": {
  "kernelspec": {
   "display_name": "Python 3",
   "language": "python",
   "name": "python3"
  },
  "language_info": {
   "codemirror_mode": {
    "name": "ipython",
    "version": 3
   },
   "file_extension": ".py",
   "mimetype": "text/x-python",
   "name": "python",
   "nbconvert_exporter": "python",
   "pygments_lexer": "ipython3",
   "version": "3.7.10"
  }
 },
 "nbformat": 4,
 "nbformat_minor": 5
}
