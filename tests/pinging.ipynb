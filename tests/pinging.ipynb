{
 "cells": [
  {
   "cell_type": "code",
   "execution_count": null,
   "id": "60bcd019",
   "metadata": {},
   "outputs": [],
   "source": [
    "import platform\n",
    "import subprocess\n",
    "from ipaddress import ip_address\n",
    "\n",
    "# BLOCKING:\n",
    "def ping(host, timeout=5.0):\n",
    "    \"\"\"\n",
    "    Returns True if host (str) responds to a ping request.\n",
    "    Remember that a host may not respond to a ping (ICMP) request even if the host name is valid.\n",
    "    \"\"\"\n",
    "    # check for validity; ValueError if invalid\n",
    "    host = ip_address(host)\n",
    "    \n",
    "    # Option for the number of packets as a function of\n",
    "    param = '-n' if platform.system().lower()=='windows' else '-c'\n",
    "\n",
    "    # Building the command. Ex: \"ping -c 1 google.com\"\n",
    "    command = ['ping', param, '1', str(host)]\n",
    "\n",
    "    try:\n",
    "        val = subprocess.call(command, timeout=timeout)\n",
    "        return val == 0\n",
    "    except subprocess.TimeoutExpired:\n",
    "        return False"
   ]
  },
  {
   "cell_type": "code",
   "execution_count": null,
   "id": "03f4d301",
   "metadata": {},
   "outputs": [],
   "source": [
    "ping(\"127.0.0.1\", timeout=.2)"
   ]
  },
  {
   "cell_type": "code",
   "execution_count": null,
   "id": "c3917ba0",
   "metadata": {},
   "outputs": [],
   "source": [
    "ping(\"127.0.0.0\", timeout=.2)"
   ]
  },
  {
   "cell_type": "code",
   "execution_count": 18,
   "id": "14404a22",
   "metadata": {},
   "outputs": [],
   "source": [
    "from subprocess import Popen, PIPE\n",
    "from ipaddress import ip_address\n",
    "import platform\n",
    "import time\n",
    "\n",
    "# ASYNCHRONOUS AND PARALLEL\n",
    "class Class:\n",
    "    \n",
    "    def ping_ips(self, hosts):\n",
    "        \n",
    "        # Check if running, return if so\n",
    "        \n",
    "        self.ping_procs = []\n",
    "        self.ping_values = []\n",
    "        \n",
    "        for host in hosts:\n",
    "\n",
    "            # check for validity; ValueError if invalid\n",
    "            host = ip_address(host)\n",
    "\n",
    "            # Option for the number of packets as a function of\n",
    "            param = '-n' if platform.system().lower()=='windows' else '-c'\n",
    "\n",
    "            # Building the command. Ex: \"ping -c 1 google.com\"\n",
    "            command = ['ping', param, '3', str(host)]\n",
    "\n",
    "            self.ping_procs += [Popen(command,stdout=PIPE)]\n",
    "        \n",
    "        self.ping_values = [None for p in self.ping_procs]\n",
    "        \n",
    "    def check_pings(self):\n",
    "        \n",
    "        for i, p in enumerate(self.ping_procs):\n",
    "            \n",
    "            if p.poll() is not None:\n",
    "                # Done running, get output\n",
    "                try:\n",
    "                    out,err = p.communicate()\n",
    "                    self.ping_values[i] = str(out,'utf-8')\n",
    "                    p.kill()\n",
    "                except ValueError:\n",
    "                    # p has already been killed\n",
    "                    pass\n",
    "                \n",
    "        return self.ping_values"
   ]
  },
  {
   "cell_type": "code",
   "execution_count": 19,
   "id": "edf7dc6e",
   "metadata": {},
   "outputs": [],
   "source": [
    "c = Class()"
   ]
  },
  {
   "cell_type": "code",
   "execution_count": 25,
   "id": "23108882",
   "metadata": {},
   "outputs": [],
   "source": [
    "c.ping_ips(['7.0.0.1', '7.0.0.4', '7.0.0.3'])"
   ]
  },
  {
   "cell_type": "code",
   "execution_count": 26,
   "id": "84c8dee5",
   "metadata": {},
   "outputs": [
    {
     "data": {
      "text/plain": [
       "[<subprocess.Popen at 0x7f8ca82b1050>,\n",
       " <subprocess.Popen at 0x7f8ca82b1090>,\n",
       " <subprocess.Popen at 0x7f8ca82bd810>]"
      ]
     },
     "execution_count": 26,
     "metadata": {},
     "output_type": "execute_result"
    }
   ],
   "source": [
    "c.ping_procs"
   ]
  },
  {
   "cell_type": "code",
   "execution_count": 31,
   "id": "9a6700b6",
   "metadata": {},
   "outputs": [
    {
     "name": "stdout",
     "output_type": "stream",
     "text": [
      ">>> PING 7.0.0.1 (7.0.0.1): 56 data bytes\n",
      "Request timeout for icmp_seq 0\n",
      "Request timeout for icmp_seq 1\n",
      "\n",
      "--- 7.0.0.1 ping statistics ---\n",
      "3 packets transmitted, 0 packets received, 100.0% packet loss\n",
      "\n",
      ">>> PING 7.0.0.4 (7.0.0.4): 56 data bytes\n",
      "64 bytes from 7.0.0.4: icmp_seq=0 ttl=128 time=2.357 ms\n",
      "64 bytes from 7.0.0.4: icmp_seq=1 ttl=128 time=2.414 ms\n",
      "64 bytes from 7.0.0.4: icmp_seq=2 ttl=128 time=2.975 ms\n",
      "\n",
      "--- 7.0.0.4 ping statistics ---\n",
      "3 packets transmitted, 3 packets received, 0.0% packet loss\n",
      "round-trip min/avg/max/stddev = 2.357/2.582/2.975/0.279 ms\n",
      "\n",
      ">>> PING 7.0.0.3 (7.0.0.3): 56 data bytes\n",
      "64 bytes from 7.0.0.3: icmp_seq=0 ttl=64 time=635.320 ms\n",
      "64 bytes from 7.0.0.3: icmp_seq=1 ttl=64 time=176.884 ms\n",
      "64 bytes from 7.0.0.3: icmp_seq=2 ttl=64 time=64.039 ms\n",
      "\n",
      "--- 7.0.0.3 ping statistics ---\n",
      "3 packets transmitted, 3 packets received, 0.0% packet loss\n",
      "round-trip min/avg/max/stddev = 64.039/292.081/635.320/247.040 ms\n",
      "\n"
     ]
    }
   ],
   "source": [
    "pings = c.check_pings()\n",
    "\n",
    "for p in pings:\n",
    "    print('>>>', p)"
   ]
  },
  {
   "cell_type": "code",
   "execution_count": 32,
   "id": "ca791a63",
   "metadata": {},
   "outputs": [],
   "source": [
    "for p in c.ping_procs:\n",
    "    p.terminate()"
   ]
  },
  {
   "cell_type": "code",
   "execution_count": 81,
   "id": "1eda1c7a",
   "metadata": {},
   "outputs": [],
   "source": [
    "def parse_ping(ping):\n",
    "    \"\"\" macOS ping parsing \"\"\"\n",
    "    \n",
    "    value = \"-- ms\"\n",
    "\n",
    "    if ping is None or 'Request timeout' in ping:\n",
    "        return value\n",
    "\n",
    "    blob = ping.split('\\n')[-2] # \"line after ping statistics\"\n",
    "    \n",
    "    if blob == '':\n",
    "        return value\n",
    "\n",
    "    # get avg from roundtrip min/avg/max/stddev line\n",
    "    value = (blob.split('/')[-3]) + ' ms'\n",
    "    \n",
    "    return value"
   ]
  },
  {
   "cell_type": "code",
   "execution_count": 66,
   "id": "490f31bd",
   "metadata": {},
   "outputs": [
    {
     "data": {
      "text/plain": [
       "'-- ms'"
      ]
     },
     "execution_count": 66,
     "metadata": {},
     "output_type": "execute_result"
    }
   ],
   "source": [
    "parse_ping(pings[0])"
   ]
  },
  {
   "cell_type": "code",
   "execution_count": 67,
   "id": "32459506",
   "metadata": {},
   "outputs": [
    {
     "data": {
      "text/plain": [
       "'2.582 ms'"
      ]
     },
     "execution_count": 67,
     "metadata": {},
     "output_type": "execute_result"
    }
   ],
   "source": [
    "parse_ping(pings[1])"
   ]
  },
  {
   "cell_type": "code",
   "execution_count": 68,
   "id": "6bbdf048",
   "metadata": {},
   "outputs": [
    {
     "data": {
      "text/plain": [
       "'292.081 ms'"
      ]
     },
     "execution_count": 68,
     "metadata": {},
     "output_type": "execute_result"
    }
   ],
   "source": [
    "parse_ping(pings[2])"
   ]
  },
  {
   "cell_type": "code",
   "execution_count": 122,
   "id": "56bec424",
   "metadata": {},
   "outputs": [],
   "source": [
    "from subprocess import Popen, PIPE\n",
    "\n",
    "# ASYNCHRONOUS AND PARALLEL\n",
    "class ParallelApplication:\n",
    "    \n",
    "    def run_commands(self, commands, errors=False):\n",
    "        \n",
    "        # Check if running, return if so\n",
    "        \n",
    "        self.procs = []\n",
    "        self.returns = []\n",
    "        \n",
    "        for cmd in commands:\n",
    "            if errors:\n",
    "                stderr = PIPE\n",
    "            else:\n",
    "                stderr = None\n",
    "                \n",
    "            self.procs += [Popen(cmd, stdout=PIPE, stderr=stderr)]\n",
    "        \n",
    "        self.returns = [None for p in self.procs]\n",
    "        \n",
    "    def check_returns(self):\n",
    "        \n",
    "        for i, p in enumerate(self.procs):\n",
    "            \n",
    "            if p.poll() is not None:\n",
    "                # Done running, get output\n",
    "                try:\n",
    "                    out,err = p.communicate()\n",
    "                    self.returns[i] = str(out,'utf-8')\n",
    "                    p.kill()\n",
    "                    \n",
    "                except ValueError:\n",
    "                    # p has already been killed\n",
    "                    pass\n",
    "                \n",
    "        return self.returns"
   ]
  },
  {
   "cell_type": "code",
   "execution_count": 130,
   "id": "f7d062c1",
   "metadata": {},
   "outputs": [],
   "source": [
    "hosts = ['127.0.0.1', '9.0.0.1', \"10.0.0.134\"]\n",
    "\n",
    "commands = []\n",
    "\n",
    "for host in hosts:\n",
    "\n",
    "    # check for validity; ValueError if invalid\n",
    "    host = ip_address(host)\n",
    "\n",
    "    # Option for the number of packets as a function of\n",
    "    param = '-n' if platform.system().lower()=='windows' else '-c'\n",
    "\n",
    "    # Building the command. Ex: \"ping -c 1 google.com\"\n",
    "    command = ['ping', param, '1', str(host)]\n",
    "    \n",
    "    commands += [command]"
   ]
  },
  {
   "cell_type": "code",
   "execution_count": 131,
   "id": "334a6110",
   "metadata": {},
   "outputs": [],
   "source": [
    "p = ParallelApplication()\n",
    "p.run_commands(commands)"
   ]
  },
  {
   "cell_type": "code",
   "execution_count": 136,
   "id": "8fdbd142",
   "metadata": {},
   "outputs": [
    {
     "name": "stdout",
     "output_type": "stream",
     "text": [
      "PING 127.0.0.1 (127.0.0.1): 56 data bytes\n",
      "64 bytes from 127.0.0.1: icmp_seq=0 ttl=64 time=0.060 ms\n",
      "\n",
      "--- 127.0.0.1 ping statistics ---\n",
      "1 packets transmitted, 1 packets received, 0.0% packet loss\n",
      "round-trip min/avg/max/stddev = 0.060/0.060/0.060/0.000 ms\n",
      "\n",
      "PING 9.0.0.2 (9.0.0.2): 56 data bytes\n",
      "\n",
      "--- 9.0.0.2 ping statistics ---\n",
      "1 packets transmitted, 0 packets received, 100.0% packet loss\n",
      "\n",
      "PING 10.0.0.134 (10.0.0.134): 56 data bytes\n",
      "64 bytes from 10.0.0.134: icmp_seq=0 ttl=128 time=4.363 ms\n",
      "\n",
      "--- 10.0.0.134 ping statistics ---\n",
      "1 packets transmitted, 1 packets received, 0.0% packet loss\n",
      "round-trip min/avg/max/stddev = 4.363/4.363/4.363/0.000 ms\n",
      "\n"
     ]
    }
   ],
   "source": [
    "for r in p.check_returns():\n",
    "    print(r)"
   ]
  },
  {
   "cell_type": "code",
   "execution_count": 140,
   "id": "59047fc5",
   "metadata": {},
   "outputs": [
    {
     "data": {
      "text/plain": [
       "['PING 127.0.0.1 (127.0.0.1): 56 data bytes',\n",
       " '64 bytes from 127.0.0.1: icmp_seq=0 ttl=64 time=0.060 ms',\n",
       " '',\n",
       " '--- 127.0.0.1 ping statistics ---',\n",
       " '1 packets transmitted, 1 packets received, 0.0% packet loss',\n",
       " 'round-trip min/avg/max/stddev = 0.060/0.060/0.060/0.000 ms',\n",
       " '']"
      ]
     },
     "execution_count": 140,
     "metadata": {},
     "output_type": "execute_result"
    }
   ],
   "source": [
    "p.check_returns()[0].split('\\n')"
   ]
  },
  {
   "cell_type": "code",
   "execution_count": null,
   "id": "933ccf11",
   "metadata": {},
   "outputs": [],
   "source": [
    "!ping -c 1 7.0.0.1"
   ]
  },
  {
   "cell_type": "code",
   "execution_count": 70,
   "id": "2ea3be04",
   "metadata": {},
   "outputs": [],
   "source": [
    "from subprocess import Popen, PIPE\n",
    "\n",
    "def ping_many(ips, errors=False):\n",
    "    \n",
    "    commands = [f\"ping -i .5 -t 1 -c 1 {ip}\" for ip in ips]\n",
    "\n",
    "    # Check if running, return if so\n",
    "    \n",
    "    request = {'procs': [],'returns': []}\n",
    "\n",
    "    for cmd in commands:\n",
    "        \n",
    "        if errors:\n",
    "            stderr = PIPE\n",
    "        else:\n",
    "            stderr = None\n",
    "\n",
    "        request['procs'] += [Popen(cmd, stdout=PIPE, stderr=stderr, shell=True)]\n",
    "\n",
    "    request['returns'] = ['-- ms' for p in request['procs']]\n",
    "    \n",
    "    return request\n",
    "\n",
    "def parse_ping(ping):\n",
    "    \"\"\" macOS ping parsing \"\"\"\n",
    "    \n",
    "    value = \"-- ms\"\n",
    "    \n",
    "    if ping is None:\n",
    "        return value\n",
    "    \n",
    "    blob = ping.split('\\n')[1]    \n",
    "\n",
    "    if blob == '':\n",
    "        return value\n",
    "    \n",
    "    if ' ' in blob:\n",
    "        blob = blob.split(' ')\n",
    "\n",
    "        if len(blob) > 3:\n",
    "            value = blob[-2].split('=')[1] + \" ms\"\n",
    "            \n",
    "    return value\n",
    "\n",
    "def get_pings(request):\n",
    "\n",
    "    for i, p in enumerate(request['procs']):\n",
    "\n",
    "        if p.poll() is not None:\n",
    "            \n",
    "            # Done running, get output\n",
    "            try:\n",
    "                out,err = p.communicate()\n",
    "                request['returns'][i] = parse_ping(str(out,'utf-8'))\n",
    "                p.kill()\n",
    "\n",
    "            except ValueError:\n",
    "                # p has already been killed\n",
    "                pass        \n",
    "\n",
    "    return request"
   ]
  },
  {
   "cell_type": "code",
   "execution_count": 71,
   "id": "2bc5c089",
   "metadata": {},
   "outputs": [],
   "source": [
    "r = ping_many(['127.0.0.1', '73.162.86.31', '7.0.0.2'])"
   ]
  },
  {
   "cell_type": "code",
   "execution_count": 73,
   "id": "6dacf962",
   "metadata": {},
   "outputs": [
    {
     "name": "stdout",
     "output_type": "stream",
     "text": [
      "Confirmed\n"
     ]
    },
    {
     "data": {
      "text/plain": [
       "{'procs': [<subprocess.Popen at 0x7fd4f837c990>,\n",
       "  <subprocess.Popen at 0x7fd4c85e94d0>,\n",
       "  <subprocess.Popen at 0x7fd5084ba250>],\n",
       " 'returns': ['0.047 ms', '32.806 ms', '-- ms']}"
      ]
     },
     "execution_count": 73,
     "metadata": {},
     "output_type": "execute_result"
    }
   ],
   "source": [
    "get_pings(r)"
   ]
  },
  {
   "cell_type": "code",
   "execution_count": null,
   "id": "4df7b88c",
   "metadata": {},
   "outputs": [],
   "source": []
  },
  {
   "cell_type": "code",
   "execution_count": 74,
   "id": "a5b9f168",
   "metadata": {},
   "outputs": [
    {
     "data": {
      "text/plain": [
       "{0: 'a', 'b': 2}"
      ]
     },
     "execution_count": 74,
     "metadata": {},
     "output_type": "execute_result"
    }
   ],
   "source": [
    "{0:\"a\", 'b':2}"
   ]
  },
  {
   "cell_type": "code",
   "execution_count": 88,
   "id": "743d3145",
   "metadata": {},
   "outputs": [
    {
     "name": "stdout",
     "output_type": "stream",
     "text": [
      "PING 7.0.0.3 (7.0.0.3): 56 data bytes\n",
      "Request timeout for icmp_seq 0\n",
      "64 bytes from 7.0.0.3: icmp_seq=0 ttl=64 time=153.472 ms\n",
      "64 bytes from 7.0.0.3: icmp_seq=1 ttl=64 time=118.156 ms\n",
      "64 bytes from 7.0.0.3: icmp_seq=2 ttl=64 time=64.202 ms\n",
      "\n",
      "--- 7.0.0.3 ping statistics ---\n",
      "3 packets transmitted, 3 packets received, 0.0% packet loss\n",
      "round-trip min/avg/max/stddev = 64.202/111.943/153.472/36.708 ms\n"
     ]
    }
   ],
   "source": [
    "!ping -i .1 -t 1 -c 3 7.0.0.3"
   ]
  },
  {
   "cell_type": "code",
   "execution_count": 94,
   "id": "6f4fac15",
   "metadata": {},
   "outputs": [],
   "source": [
    "start = time.time()"
   ]
  },
  {
   "cell_type": "code",
   "execution_count": 95,
   "id": "612d39d6",
   "metadata": {},
   "outputs": [
    {
     "name": "stdout",
     "output_type": "stream",
     "text": [
      "PING 7.0.0.3 (7.0.0.3): 56 data bytes\n",
      "64 bytes from 7.0.0.3: icmp_seq=0 ttl=64 time=100.296 ms\n",
      "64 bytes from 7.0.0.3: icmp_seq=1 ttl=64 time=93.124 ms\n",
      "64 bytes from 7.0.0.3: icmp_seq=2 ttl=64 time=121.827 ms\n",
      "64 bytes from 7.0.0.3: icmp_seq=3 ttl=64 time=171.958 ms\n",
      "64 bytes from 7.0.0.3: icmp_seq=4 ttl=64 time=78.303 ms\n",
      "\n",
      "--- 7.0.0.3 ping statistics ---\n",
      "5 packets transmitted, 5 packets received, 0.0% packet loss\n",
      "round-trip min/avg/max/stddev = 78.303/113.102/171.958/32.601 ms\n"
     ]
    }
   ],
   "source": [
    "!ping -i 1 -t 9 -c 5 7.0.0.3"
   ]
  },
  {
   "cell_type": "code",
   "execution_count": 96,
   "id": "6537df37",
   "metadata": {},
   "outputs": [
    {
     "data": {
      "text/plain": [
       "4.224144697189331"
      ]
     },
     "execution_count": 96,
     "metadata": {},
     "output_type": "execute_result"
    }
   ],
   "source": [
    "time.time() - start"
   ]
  },
  {
   "cell_type": "code",
   "execution_count": null,
   "id": "5981e5df",
   "metadata": {},
   "outputs": [],
   "source": []
  },
  {
   "cell_type": "code",
   "execution_count": null,
   "id": "d79bf734",
   "metadata": {},
   "outputs": [],
   "source": []
  }
 ],
 "metadata": {
  "kernelspec": {
   "display_name": "Python 3",
   "language": "python",
   "name": "python3"
  },
  "language_info": {
   "codemirror_mode": {
    "name": "ipython",
    "version": 3
   },
   "file_extension": ".py",
   "mimetype": "text/x-python",
   "name": "python",
   "nbconvert_exporter": "python",
   "pygments_lexer": "ipython3",
   "version": "3.7.10"
  }
 },
 "nbformat": 4,
 "nbformat_minor": 5
}
