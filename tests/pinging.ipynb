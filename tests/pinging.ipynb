{
 "cells": [
  {
   "cell_type": "code",
   "execution_count": 12,
   "id": "270ed3d9",
   "metadata": {},
   "outputs": [],
   "source": [
    "import platform\n",
    "import subprocess\n",
    "from ipaddress import ip_address\n",
    "\n",
    "# BLOCKING:\n",
    "\n",
    "def ping(host, timeout=5.0):\n",
    "    \"\"\"\n",
    "    Returns True if host (str) responds to a ping request.\n",
    "    Remember that a host may not respond to a ping (ICMP) request even if the host name is valid.\n",
    "    \"\"\"\n",
    "    # check for validity; ValueError if invalid\n",
    "    host = ip_address(host)\n",
    "    \n",
    "    # Option for the number of packets as a function of\n",
    "    param = '-n' if platform.system().lower()=='windows' else '-c'\n",
    "\n",
    "    # Building the command. Ex: \"ping -c 1 google.com\"\n",
    "    command = ['ping', param, '1', str(host)]\n",
    "\n",
    "    try:\n",
    "        val = subprocess.call(command, timeout=timeout)\n",
    "        return val == 0\n",
    "    except subprocess.TimeoutExpired:\n",
    "        return False"
   ]
  },
  {
   "cell_type": "code",
   "execution_count": 16,
   "id": "1c9d11b3",
   "metadata": {},
   "outputs": [
    {
     "data": {
      "text/plain": [
       "True"
      ]
     },
     "execution_count": 16,
     "metadata": {},
     "output_type": "execute_result"
    }
   ],
   "source": [
    "ping(\"127.0.0.1\", timeout=.2)"
   ]
  },
  {
   "cell_type": "code",
   "execution_count": 17,
   "id": "77f22f4e",
   "metadata": {},
   "outputs": [
    {
     "data": {
      "text/plain": [
       "False"
      ]
     },
     "execution_count": 17,
     "metadata": {},
     "output_type": "execute_result"
    }
   ],
   "source": [
    "ping(\"127.0.0.0\", timeout=.2)"
   ]
  },
  {
   "cell_type": "code",
   "execution_count": 22,
   "id": "94c9db9d",
   "metadata": {},
   "outputs": [
    {
     "ename": "UnboundLocalError",
     "evalue": "local variable 'host' referenced before assignment",
     "output_type": "error",
     "traceback": [
      "\u001b[0;31m---------------------------------------------------------------------------\u001b[0m",
      "\u001b[0;31mUnboundLocalError\u001b[0m                         Traceback (most recent call last)",
      "\u001b[0;32m<ipython-input-22-05aefb34050f>\u001b[0m in \u001b[0;36m<module>\u001b[0;34m\u001b[0m\n\u001b[1;32m     29\u001b[0m         \u001b[0mhandle_results\u001b[0m\u001b[0;34m(\u001b[0m\u001b[0mproc\u001b[0m\u001b[0;34m.\u001b[0m\u001b[0mstdout\u001b[0m\u001b[0;34m)\u001b[0m\u001b[0;34m\u001b[0m\u001b[0;34m\u001b[0m\u001b[0m\n\u001b[1;32m     30\u001b[0m \u001b[0;34m\u001b[0m\u001b[0m\n\u001b[0;32m---> 31\u001b[0;31m \u001b[0mping_ips\u001b[0m\u001b[0;34m(\u001b[0m\u001b[0;34m[\u001b[0m\u001b[0;34m'127.0.0.1'\u001b[0m\u001b[0;34m,\u001b[0m \u001b[0;34m'9.0.0.2'\u001b[0m\u001b[0;34m]\u001b[0m\u001b[0;34m)\u001b[0m\u001b[0;34m\u001b[0m\u001b[0;34m\u001b[0m\u001b[0m\n\u001b[0m",
      "\u001b[0;32m<ipython-input-22-05aefb34050f>\u001b[0m in \u001b[0;36mping_ips\u001b[0;34m(hosts)\u001b[0m\n\u001b[1;32m      7\u001b[0m \u001b[0;34m\u001b[0m\u001b[0m\n\u001b[1;32m      8\u001b[0m     \u001b[0;31m# check for validity; ValueError if invalid\u001b[0m\u001b[0;34m\u001b[0m\u001b[0;34m\u001b[0m\u001b[0;34m\u001b[0m\u001b[0m\n\u001b[0;32m----> 9\u001b[0;31m     \u001b[0mhost\u001b[0m \u001b[0;34m=\u001b[0m \u001b[0mip_address\u001b[0m\u001b[0;34m(\u001b[0m\u001b[0mhost\u001b[0m\u001b[0;34m)\u001b[0m\u001b[0;34m\u001b[0m\u001b[0;34m\u001b[0m\u001b[0m\n\u001b[0m\u001b[1;32m     10\u001b[0m \u001b[0;34m\u001b[0m\u001b[0m\n\u001b[1;32m     11\u001b[0m     \u001b[0;32mtry\u001b[0m\u001b[0;34m:\u001b[0m\u001b[0;34m\u001b[0m\u001b[0;34m\u001b[0m\u001b[0m\n",
      "\u001b[0;31mUnboundLocalError\u001b[0m: local variable 'host' referenced before assignment"
     ]
    }
   ],
   "source": [
    "# ASYNCHRONOUS AND PARALLEL!\n",
    "\n",
    "from subprocess import Popen, PIPE\n",
    "from ipaddress import ip_address\n",
    "import time\n",
    "\n",
    "def ping_ips_send(hosts):\n",
    "    running_procs = [ ('ping', param, '1', str(ip_address(host))) for host in hosts]\n",
    "\n",
    "    Popen(['/usr/bin/my_cmd', '-i %s' % path], stdout=PIPE, stderr=PIPE)\n",
    "    \n",
    "    while running_procs:\n",
    "        for proc in running_procs:\n",
    "            retcode = proc.poll()\n",
    "            if retcode is not None: # Process finished.\n",
    "                running_procs.remove(proc)\n",
    "                break\n",
    "            else: \n",
    "                # No process is done, wait a bit and check again.\n",
    "                # Replace with \"do other stuff\"\n",
    "                time.sleep(.1)\n",
    "                continue\n",
    "\n",
    "        # Here, `proc` has finished with return code `retcode`\n",
    "        if retcode != 0:\n",
    "            \"\"\"Error handling.\"\"\"\n",
    "        handle_results(proc.stdout)\n",
    "        \n",
    "ping_ips(['127.0.0.1', '9.0.0.2'])"
   ]
  },
  {
   "cell_type": "code",
   "execution_count": null,
   "id": "07d01c62",
   "metadata": {},
   "outputs": [],
   "source": []
  }
 ],
 "metadata": {
  "kernelspec": {
   "display_name": "Python 3",
   "language": "python",
   "name": "python3"
  },
  "language_info": {
   "codemirror_mode": {
    "name": "ipython",
    "version": 3
   },
   "file_extension": ".py",
   "mimetype": "text/x-python",
   "name": "python",
   "nbconvert_exporter": "python",
   "pygments_lexer": "ipython3",
   "version": "3.7.10"
  }
 },
 "nbformat": 4,
 "nbformat_minor": 5
}
