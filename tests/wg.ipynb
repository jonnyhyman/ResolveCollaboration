{
 "cells": [
  {
   "cell_type": "code",
   "execution_count": null,
   "metadata": {},
   "outputs": [],
   "source": [
    "from multiprocessing import Queue, Process"
   ]
  },
  {
   "cell_type": "code",
   "execution_count": null,
   "metadata": {},
   "outputs": [],
   "source": [
    "from subprocess import Popen, PIPE"
   ]
  },
  {
   "cell_type": "code",
   "execution_count": null,
   "metadata": {},
   "outputs": [],
   "source": []
  },
  {
   "cell_type": "code",
   "execution_count": null,
   "metadata": {},
   "outputs": [],
   "source": [
    "def f(q):\n",
    "    q.put(\"ah ha\")\n",
    "    print('mmm')\n",
    "    pass"
   ]
  },
  {
   "cell_type": "code",
   "execution_count": null,
   "metadata": {},
   "outputs": [],
   "source": [
    "queue = Queue()\n",
    "proc = Process(target = f, args = (queue,))\n",
    "proc.start()"
   ]
  },
  {
   "cell_type": "code",
   "execution_count": null,
   "metadata": {},
   "outputs": [],
   "source": [
    "if not queue.empty():\n",
    "    print(queue.get_nowait())\n",
    "else:\n",
    "    print(\"empty\")"
   ]
  },
  {
   "cell_type": "code",
   "execution_count": null,
   "metadata": {},
   "outputs": [],
   "source": [
    "proc.terminate()\n",
    "proc.join()\n",
    "queue.close()"
   ]
  },
  {
   "cell_type": "code",
   "execution_count": null,
   "metadata": {},
   "outputs": [],
   "source": [
    "!wg show"
   ]
  },
  {
   "cell_type": "code",
   "execution_count": null,
   "metadata": {},
   "outputs": [],
   "source": [
    "def peers():\n",
    "    \n",
    "    proc = Popen(['wg','show'], stdout=PIPE, stderr=PIPE)\n",
    "    wg, err = proc.communicate()\n",
    "    wg = str(wg,'utf-8')\n",
    "    \n",
    "    peers = {}\n",
    "\n",
    "    if \"peer: \" in wg:\n",
    "        peers_conf = wg.split(\"peer: \")\n",
    "        \n",
    "        # [1:] because interface/server is 0\n",
    "        for peer in peers_conf[1:]:\n",
    "            \n",
    "            Pk = peer.split('\\n')[0]\n",
    "            handshake = False\n",
    "        \n",
    "            for row in peer.split('\\n'):        \n",
    "                if 'allowed ips' in row:\n",
    "                    ip = row.strip().split(':')[1].strip()\n",
    "                    \n",
    "                if 'handshake' in row:\n",
    "                    handshake = True\n",
    "            \n",
    "            peers[Pk] = {\"ip\": ip, 'handshake':handshake}\n",
    "    \n",
    "    return peers"
   ]
  },
  {
   "cell_type": "code",
   "execution_count": null,
   "metadata": {},
   "outputs": [],
   "source": [
    "p = peers_pings()\n",
    "p"
   ]
  },
  {
   "cell_type": "code",
   "execution_count": null,
   "metadata": {},
   "outputs": [],
   "source": [
    "p"
   ]
  },
  {
   "cell_type": "code",
   "execution_count": null,
   "metadata": {},
   "outputs": [],
   "source": []
  }
 ],
 "metadata": {
  "kernelspec": {
   "display_name": "Python 3",
   "language": "python",
   "name": "python3"
  },
  "language_info": {
   "codemirror_mode": {
    "name": "ipython",
    "version": 3
   },
   "file_extension": ".py",
   "mimetype": "text/x-python",
   "name": "python",
   "nbconvert_exporter": "python",
   "pygments_lexer": "ipython3",
   "version": "3.7.5"
  }
 },
 "nbformat": 4,
 "nbformat_minor": 5
}
