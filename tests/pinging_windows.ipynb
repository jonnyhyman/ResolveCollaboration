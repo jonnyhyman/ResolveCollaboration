{
 "cells": [
  {
   "cell_type": "code",
   "execution_count": 4,
   "metadata": {},
   "outputs": [],
   "source": [
    "from subprocess import Popen, PIPE\n",
    "import platform"
   ]
  },
  {
   "cell_type": "code",
   "execution_count": 20,
   "metadata": {},
   "outputs": [],
   "source": [
    "def ping_many_windows(request, errors=False):\n",
    "    \"\"\" Ping many ips \"\"\"\n",
    "\n",
    "    # every `interval` seconds, launch `count` pings, abort if returns take longer than `timeout` seconds\n",
    "    interval = .25 # can be float\n",
    "    timeout = 3 # must be int\n",
    "    count = 3\n",
    "\n",
    "    commands = [f\"ping /w {timeout*1000} /n {count} {ip}\" for ip in request.values()]\n",
    "\n",
    "    # Check if running, return if so\n",
    "\n",
    "    request['procs'] = []\n",
    "    request['returns'] = ['-- ms' for ip in commands]\n",
    "\n",
    "    for cmd in commands:\n",
    "\n",
    "        if errors:\n",
    "            stderr = PIPE\n",
    "        else:\n",
    "            stderr = None\n",
    "\n",
    "        request['procs'] += [Popen(cmd, stdout=PIPE, stderr=stderr, shell=True)]\n",
    "\n",
    "    return request\n"
   ]
  },
  {
   "cell_type": "code",
   "execution_count": 34,
   "metadata": {},
   "outputs": [
    {
     "data": {
      "text/plain": [
       "{0: '7.0.0.1',\n",
       " 'procs': [<subprocess.Popen at 0x25b07f54648>],\n",
       " 'returns': ['-- ms']}"
      ]
     },
     "execution_count": 34,
     "metadata": {},
     "output_type": "execute_result"
    }
   ],
   "source": [
    "req = ping_many_windows({0:\"7.0.0.1\"})\n",
    "req"
   ]
  },
  {
   "cell_type": "code",
   "execution_count": 35,
   "metadata": {},
   "outputs": [],
   "source": [
    "def parse_ping_windows(ping):\n",
    "    \"\"\" macOS ping parsing \"\"\"\n",
    "\n",
    "    value = \"-- ms\"\n",
    "\n",
    "    print('...',ping)\n",
    "    \n",
    "    if ping is None or '100.0% packet loss' in ping:\n",
    "        return value\n",
    "\n",
    "    blob = ping.split('\\n')[-2] # \"line after ping statistics\"\n",
    "\n",
    "    if blob == '':\n",
    "        return value\n",
    "\n",
    "    # get avg from roundtrip min/avg/max/stddev line\n",
    "    value = (blob.split(' = ')[-1]).strip() # includes ms\n",
    "\n",
    "    return value\n",
    "\n",
    "def get_pings_windows(request):\n",
    "    \"\"\" Get the returns of pinging many ips \"\"\"\n",
    "\n",
    "    for i, p in enumerate(request['procs']):\n",
    "\n",
    "        if p.poll() is not None:\n",
    "\n",
    "            # Done running, get output\n",
    "            try:\n",
    "                out,err = p.communicate()\n",
    "                request['returns'][i] = parse_ping_windows(str(out,'utf-8'))\n",
    "                p.kill()\n",
    "\n",
    "            except ValueError:\n",
    "                # p has already been killed\n",
    "                pass\n",
    "        else:\n",
    "            print(\"...p.poll was none\")\n",
    "\n",
    "    return request"
   ]
  },
  {
   "cell_type": "code",
   "execution_count": 37,
   "metadata": {},
   "outputs": [
    {
     "name": "stdout",
     "output_type": "stream",
     "text": [
      "... \n",
      "Pinging 7.0.0.1 with 32 bytes of data:\n",
      "Reply from 7.0.0.1: bytes=32 time=2ms TTL=64\n",
      "Reply from 7.0.0.1: bytes=32 time=3ms TTL=64\n",
      "Reply from 7.0.0.1: bytes=32 time=2ms TTL=64\n",
      "\n",
      "Ping statistics for 7.0.0.1:\n",
      "    Packets: Sent = 3, Received = 3, Lost = 0 (0% loss),\n",
      "Approximate round trip times in milli-seconds:\n",
      "    Minimum = 2ms, Maximum = 3ms, Average = 2ms\n",
      "\n"
     ]
    },
    {
     "data": {
      "text/plain": [
       "{0: '7.0.0.1',\n",
       " 'procs': [<subprocess.Popen at 0x25b07f54648>],\n",
       " 'returns': ['2ms ms']}"
      ]
     },
     "execution_count": 37,
     "metadata": {},
     "output_type": "execute_result"
    }
   ],
   "source": [
    "get_pings_windows(req)"
   ]
  },
  {
   "cell_type": "code",
   "execution_count": 38,
   "metadata": {},
   "outputs": [
    {
     "data": {
      "text/plain": [
       "'windows'"
      ]
     },
     "execution_count": 38,
     "metadata": {},
     "output_type": "execute_result"
    }
   ],
   "source": [
    "platform.system().lower()"
   ]
  },
  {
   "cell_type": "code",
   "execution_count": null,
   "metadata": {},
   "outputs": [],
   "source": []
  }
 ],
 "metadata": {
  "kernelspec": {
   "display_name": "Python 3",
   "language": "python",
   "name": "python3"
  },
  "language_info": {
   "codemirror_mode": {
    "name": "ipython",
    "version": 3
   },
   "file_extension": ".py",
   "mimetype": "text/x-python",
   "name": "python",
   "nbconvert_exporter": "python",
   "pygments_lexer": "ipython3",
   "version": "3.7.5"
  }
 },
 "nbformat": 4,
 "nbformat_minor": 4
}
