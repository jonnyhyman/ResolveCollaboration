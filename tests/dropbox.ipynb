{
 "cells": [
  {
   "cell_type": "code",
   "execution_count": null,
   "id": "640949ff",
   "metadata": {},
   "outputs": [],
   "source": [
    "import dropbox\n",
    "from dropbox import DropboxOAuth2FlowNoRedirect"
   ]
  },
  {
   "cell_type": "code",
   "execution_count": null,
   "id": "3d554a40",
   "metadata": {},
   "outputs": [],
   "source": [
    "from pathlib import Path"
   ]
  },
  {
   "cell_type": "code",
   "execution_count": null,
   "id": "2ce7713d",
   "metadata": {},
   "outputs": [],
   "source": [
    "import pprint"
   ]
  },
  {
   "cell_type": "code",
   "execution_count": null,
   "id": "39196d4b",
   "metadata": {},
   "outputs": [],
   "source": [
    "with open('/Users/jonnyhyman/data/dropbox_oath.txt','r') as f:\n",
    "    readlist = f.readlines()\n",
    "APP_KEY = readlist[0][:-1]\n",
    "APP_SECRET = readlist[1]"
   ]
  },
  {
   "cell_type": "code",
   "execution_count": null,
   "id": "34d6323c",
   "metadata": {},
   "outputs": [],
   "source": [
    "'''\n",
    "This example walks through a basic oauth flow using the existing long-lived token type\n",
    "Populate your app key and app secret in order to run this locally\n",
    "'''\n",
    "\n",
    "auth_flow = DropboxOAuth2FlowNoRedirect(APP_KEY, APP_SECRET)\n",
    "\n",
    "authorize_url = auth_flow.start()\n",
    "print(\"1. Go to: \" + authorize_url)\n",
    "print(\"2. Click \\\"Allow\\\" (you might have to log in first).\")\n",
    "print(\"3. Copy the authorization code.\")\n",
    "auth_code = input(\"Enter the authorization code here: \").strip()\n",
    "\n",
    "try:\n",
    "    oauth_result = auth_flow.finish(auth_code)\n",
    "except Exception as e:\n",
    "    print('Error: %s' % (e,))\n",
    "    exit(1)\n",
    "\n",
    "with dropbox.Dropbox(oauth2_access_token=oauth_result.access_token) as dbx:\n",
    "    dbx.users_get_current_account()\n",
    "    print(\"Successfully set up client!\")"
   ]
  },
  {
   "cell_type": "code",
   "execution_count": null,
   "id": "1e993fc3",
   "metadata": {},
   "outputs": [],
   "source": []
  },
  {
   "cell_type": "code",
   "execution_count": null,
   "id": "842e8e08",
   "metadata": {},
   "outputs": [],
   "source": [
    "a = dbx.files_list_folder('/Shoots/04-25-2021 Melanie and Dad Breakfast')\n",
    "\n",
    "for n, ai in enumerate(a.entries):\n",
    "    print(str(n).ljust(3), '...', ai.name, ai.is_downloadable)"
   ]
  },
  {
   "cell_type": "code",
   "execution_count": null,
   "id": "2e6e23a8",
   "metadata": {},
   "outputs": [],
   "source": [
    "dbx_root = Path(\"/Users/jonnyhyman/Dropbox\")\n",
    "a = dbx_root / Path('Shoots/04-25-2021 Melanie and Dad Breakfast')\n",
    "\n",
    "for n, ai in enumerate(a.iterdir()):\n",
    "    print(str(n).ljust(3), '...', ai.name)"
   ]
  },
  {
   "cell_type": "code",
   "execution_count": null,
   "id": "f5c6b99b",
   "metadata": {},
   "outputs": [],
   "source": [
    "lcl_path = Path(\"/Users/jonnyhyman/Dropbox\")\n",
    "rel_fold = '/Shoots/04-25-2021 Melanie and Dad Breakfast'"
   ]
  },
  {
   "cell_type": "code",
   "execution_count": null,
   "id": "8f7af373",
   "metadata": {},
   "outputs": [],
   "source": [
    "dbx_files = [file for file in (dbx.files_list_folder(folder).entries)]\n",
    "dbx_filen = [file.name for file in dbx_files]"
   ]
  },
  {
   "cell_type": "code",
   "execution_count": null,
   "id": "5786fad5",
   "metadata": {},
   "outputs": [],
   "source": [
    "lcl_files = [file for file in (dbx_root / Path(folder[1:])).iterdir()]\n",
    "lcl_filen = [file.name for file in lcl_files]"
   ]
  },
  {
   "cell_type": "code",
   "execution_count": null,
   "id": "00da51a8",
   "metadata": {},
   "outputs": [],
   "source": [
    "if len(dbx_files) != len(lcl_filen):\n",
    "    print(\"Not done syncing\")\n",
    "\n",
    "for fn, f in enumerate(lcl_filen):\n",
    "    if (f not in dbx_filen):\n",
    "        print(f\"... {f} still syncing, not in Dropbox list yet\")\n",
    "    else:\n",
    "        for d in dbx_files:\n",
    "            if d.name == f and d.size==0:\n",
    "                GB = lcl_files[fn].stat().st_size*1e-9\n",
    "                print(f\"... {f} still syncing, size is zero on server, {GB} GB on disk\")"
   ]
  },
  {
   "cell_type": "code",
   "execution_count": null,
   "id": "6ac07465",
   "metadata": {},
   "outputs": [],
   "source": [
    "dbx.files_list_folder(folder).entries[0]"
   ]
  },
  {
   "cell_type": "code",
   "execution_count": null,
   "id": "81fec544",
   "metadata": {},
   "outputs": [],
   "source": [
    "f = [i for i in dbx.files_list_folder(folder).entries if '005' in i.name][0]"
   ]
  },
  {
   "cell_type": "code",
   "execution_count": null,
   "id": "645e7701",
   "metadata": {},
   "outputs": [],
   "source": [
    "for f in dbx_files:\n",
    "    print(f.name)"
   ]
  },
  {
   "cell_type": "code",
   "execution_count": null,
   "id": "34c8442c",
   "metadata": {},
   "outputs": [],
   "source": [
    "from time import sleep"
   ]
  },
  {
   "cell_type": "code",
   "execution_count": 150,
   "id": "41f3fa3c",
   "metadata": {},
   "outputs": [
    {
     "name": "stdout",
     "output_type": "stream",
     "text": [
      "... A021_04220504_C026.braw  uploading, 1.608509372 GB on disk\n",
      "... A021_04220223_C012.braw  uploading, 1.3559170440000001 GB on disk\n",
      "... A021_04220504_C026.braw  uploading, 1.608509372 GB on disk\n",
      "... A021_04220223_C012.braw  uploading, 1.3559170440000001 GB on disk\n",
      "... A021_04220504_C026.braw  uploading, 1.608509372 GB on disk\n",
      "... A021_04220223_C012.braw  uploading, 1.3559170440000001 GB on disk\n",
      "... A021_04220504_C026.braw  uploading, 1.608509372 GB on disk\n",
      "... A021_04220223_C012.braw  uploading, 1.3559170440000001 GB on disk\n",
      "... A021_04220504_C026.braw  uploading, 1.608509372 GB on disk\n",
      "... A021_04220223_C012.braw  uploading, 1.3559170440000001 GB on disk\n",
      "... A021_04220504_C026.braw  uploading, 1.608509372 GB on disk\n",
      "... A021_04220223_C012.braw  uploading, 1.3559170440000001 GB on disk\n",
      "... A021_04220504_C026.braw  uploading, 1.608509372 GB on disk\n",
      "... A021_04220223_C012.braw  uploading, 1.3559170440000001 GB on disk\n",
      "... A021_04220504_C026.braw  uploading, 1.608509372 GB on disk\n",
      "... A021_04220504_C026.braw  uploading, 1.608509372 GB on disk\n",
      "... A021_04220504_C026.braw  uploading, 1.608509372 GB on disk\n",
      "... A021_04220504_C026.braw  uploading, 1.608509372 GB on disk\n",
      "... A021_04220504_C026.braw  uploading, 1.608509372 GB on disk\n"
     ]
    },
    {
     "ename": "KeyboardInterrupt",
     "evalue": "",
     "output_type": "error",
     "traceback": [
      "\u001b[0;31m---------------------------------------------------------------------------\u001b[0m",
      "\u001b[0;31mKeyboardInterrupt\u001b[0m                         Traceback (most recent call last)",
      "\u001b[0;32m<ipython-input-150-287df051c129>\u001b[0m in \u001b[0;36m<module>\u001b[0;34m\u001b[0m\n\u001b[1;32m     46\u001b[0m         \u001b[0;32mbreak\u001b[0m\u001b[0;34m\u001b[0m\u001b[0;34m\u001b[0m\u001b[0m\n\u001b[1;32m     47\u001b[0m \u001b[0;34m\u001b[0m\u001b[0m\n\u001b[0;32m---> 48\u001b[0;31m     \u001b[0msleep\u001b[0m\u001b[0;34m(\u001b[0m\u001b[0;36m5\u001b[0m\u001b[0;34m*\u001b[0m\u001b[0;36m60\u001b[0m\u001b[0;34m)\u001b[0m\u001b[0;34m\u001b[0m\u001b[0;34m\u001b[0m\u001b[0m\n\u001b[0m",
      "\u001b[0;31mKeyboardInterrupt\u001b[0m: "
     ]
    }
   ],
   "source": [
    "while True:\n",
    "    \n",
    "    dbx_files = [file for file in (dbx.files_list_folder(folder).entries)]\n",
    "    dbx_filen = [file.name for file in dbx_files]\n",
    "    \n",
    "    lcl_files = [file for file in (dbx_root / Path(folder[1:])).iterdir()]\n",
    "    lcl_filen = [file.name for file in lcl_files]\n",
    "    \n",
    "    inc = 0\n",
    "    \n",
    "    # UPLOADS\n",
    "    \n",
    "    for fn, f in enumerate(lcl_filen):\n",
    "        \n",
    "        if (f not in dbx_filen):\n",
    "            print(f\"... {f} uploading, not in Dropbox list yet\")\n",
    "            inc += 1\n",
    "        \n",
    "        else:\n",
    "            for d in dbx_files:\n",
    "                if d.name == f and d.size==0:\n",
    "                    GB = lcl_files[fn].stat().st_size*1e-9\n",
    "                    print(f\"... {f}  uploading, {GB} GB on disk\")\n",
    "                    inc += 1\n",
    "    \n",
    "    # DOWNLOADS\n",
    "    \n",
    "    for fn, f in enumerate(dbx_filen):\n",
    "        \n",
    "        if (f not in lcl_filen):\n",
    "            print(f\"... {f} downloading, not in folder yet\")\n",
    "            inc += 1\n",
    "        \n",
    "#         else:\n",
    "#             for d in dbx_files:\n",
    "                \n",
    "#                 lcl_file = [lf for lf in lcl_files if lf.name == d.name][0]\n",
    "#                 file_GB = lcl_file.stat().st_size*1e-9\n",
    "                    \n",
    "#                 if d.size*1e-9 < file_GB:\n",
    "#                     print(f\"... {f}  downloading, {round(file_GB,2)}GB of {round(d.size*1e-9,2)}GB\")\n",
    "#                     inc += 1\n",
    "    \n",
    "    if inc == 0:\n",
    "        print(\"All files synced up and down!\")\n",
    "        break\n",
    "        \n",
    "    sleep(5*60)"
   ]
  },
  {
   "cell_type": "code",
   "execution_count": null,
   "id": "b6d195f4",
   "metadata": {},
   "outputs": [],
   "source": []
  }
 ],
 "metadata": {
  "kernelspec": {
   "display_name": "Python 3",
   "language": "python",
   "name": "python3"
  },
  "language_info": {
   "codemirror_mode": {
    "name": "ipython",
    "version": 3
   },
   "file_extension": ".py",
   "mimetype": "text/x-python",
   "name": "python",
   "nbconvert_exporter": "python",
   "pygments_lexer": "ipython3",
   "version": "3.7.10"
  }
 },
 "nbformat": 4,
 "nbformat_minor": 5
}
