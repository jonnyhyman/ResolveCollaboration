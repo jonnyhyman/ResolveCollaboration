{
 "cells": [
  {
   "cell_type": "code",
   "execution_count": 1,
   "metadata": {},
   "outputs": [],
   "source": [
    "import psycopg2.extras\n",
    "import psycopg2\n",
    "from psycopg2 import Error\n",
    "from pprint import pprint\n",
    "import pandas as pd"
   ]
  },
  {
   "cell_type": "markdown",
   "metadata": {},
   "source": [
    "# use psycopg2-binary on macos"
   ]
  },
  {
   "cell_type": "code",
   "execution_count": 9,
   "metadata": {},
   "outputs": [],
   "source": [
    "def find_anywhere(criteria):\n",
    "    with psycopg2.connect( # low risk secrets\n",
    "                    database=\"\",\n",
    "                    user=\"\",\n",
    "                    password=\"\",\n",
    "                    host=\"127.0.0.1\",\n",
    "                    port=\"5432\",\n",
    "                    connect_timeout=3,\n",
    "        ) as connection:\n",
    "    \n",
    "        cur0 = connection.cursor()\n",
    "\n",
    "        cur0.execute(\"\"\"SELECT table_name FROM information_schema.tables WHERE table_schema = 'public'\"\"\")\n",
    "\n",
    "        for t, table in enumerate(cur0.fetchall()):\n",
    "\n",
    "\n",
    "            cur1 = connection.cursor()\n",
    "            cur1.execute(f'''SELECT * FROM public.\"{table[0]}\"''')\n",
    "            fetch = cur1.fetchall()\n",
    "\n",
    "            cur2 = connection.cursor()\n",
    "            cur2.execute(f\"select column_name from information_schema.columns where table_schema = 'public' and table_name='{table[0]}'\")\n",
    "            column_names = [row[0] for row in cur2.fetchall()]\n",
    "\n",
    "#             print(column_names)\n",
    "            \n",
    "            if len(fetch) == 0:\n",
    "#                 print(\"Nothing in \", table[0])  \n",
    "                pass\n",
    "            else:\n",
    "\n",
    "                for f in fetch:\n",
    "                    for field in f:\n",
    "#                         print(str(field).rjust(64))\n",
    "                        if criteria.lower() in str(field).lower():\n",
    "                            print(\">>> FOUND VALUE IN TABLE : \", table[0])\n",
    "                            print(\"Column\", )\n",
    "                            for c, col in enumerate(column_names):\n",
    "                                print(col.ljust(64), f[c])\n",
    "                            break\n",
    "                    else:\n",
    "                        pass\n",
    "                    break"
   ]
  },
  {
   "cell_type": "code",
   "execution_count": 10,
   "metadata": {},
   "outputs": [
    {
     "data": {
      "text/html": [
       "<div>\n",
       "<style scoped>\n",
       "    .dataframe tbody tr th:only-of-type {\n",
       "        vertical-align: middle;\n",
       "    }\n",
       "\n",
       "    .dataframe tbody tr th {\n",
       "        vertical-align: top;\n",
       "    }\n",
       "\n",
       "    .dataframe thead th {\n",
       "        text-align: right;\n",
       "    }\n",
       "</style>\n",
       "<table border=\"1\" class=\"dataframe\">\n",
       "  <thead>\n",
       "    <tr style=\"text-align: right;\">\n",
       "      <th></th>\n",
       "      <th>SM_Project_id</th>\n",
       "      <th>ProjectName</th>\n",
       "      <th>IsLiveCollaborationEnabled</th>\n",
       "      <th>SysIds</th>\n",
       "    </tr>\n",
       "  </thead>\n",
       "  <tbody>\n",
       "    <tr>\n",
       "      <th>0</th>\n",
       "      <td>0ee9b114-30dc-46ba-b559-f64feba206b8</td>\n",
       "      <td>Hilbert Hotel</td>\n",
       "      <td>True</td>\n",
       "      <td>3C22FB9CB594</td>\n",
       "    </tr>\n",
       "  </tbody>\n",
       "</table>\n",
       "</div>"
      ],
      "text/plain": [
       "                          SM_Project_id    ProjectName  \\\n",
       "0  0ee9b114-30dc-46ba-b559-f64feba206b8  Hilbert Hotel   \n",
       "\n",
       "   IsLiveCollaborationEnabled        SysIds  \n",
       "0                        True  3C22FB9CB594  "
      ]
     },
     "execution_count": 10,
     "metadata": {},
     "output_type": "execute_result"
    }
   ],
   "source": [
    "with psycopg2.connect( # low risk secrets\n",
    "                    database=\"\",\n",
    "                    user=\"\",\n",
    "                    password=\"\",\n",
    "                    host=\"127.0.0.1\",\n",
    "                    port=\"5432\",\n",
    "                    connect_timeout=3,\n",
    "        ) as connection:\n",
    "\n",
    "    sql = ('''\"SM_Project_id\",\"ProjectName\",\"IsLiveCollaborationEnabled\",\"SysIds\"''')\n",
    "    sql = f'''SELECT {sql} FROM public.\"SM_Project\" '''\n",
    "    dat = pd.read_sql_query(sql, connection)\n",
    "dat"
   ]
  },
  {
   "cell_type": "code",
   "execution_count": 15,
   "metadata": {},
   "outputs": [
    {
     "name": "stdout",
     "output_type": "stream",
     "text": [
      ">>> FOUND VALUE IN TABLE :  Sm2MediaPool\n",
      "Column\n",
      "Sm2MediaPool_id                                                  3ba8edd1-3901-4524-b03a-5ee506db7e4a\n",
      "DbType                                                           Sm2MediaPool\n",
      "SM_Project_id                                                    None\n",
      "RootFolder                                                       None\n",
      "StereoSource                                                     2\n",
      "FieldsBlob                                                       <memory at 0x7fd598b9ac80>\n",
      "SM_User_id                                                       35dc2036-04ce-4c6b-b3b4-a3da47c54236\n",
      ">>> FOUND VALUE IN TABLE :  Sm2MpFolder_Sm2MpMedia\n",
      "Column\n",
      "DbOwner                                                          7458e7a9-404c-457c-ab98-013aad6fd1ce\n",
      "DbAssociate                                                      e0391506-94a1-4c96-b021-cbf5a886de5d\n",
      "DbPropertyName                                                   MediaVec\n",
      "DbIndex                                                          10\n"
     ]
    }
   ],
   "source": [
    "find_anywhere(\"media\")"
   ]
  },
  {
   "cell_type": "code",
   "execution_count": null,
   "metadata": {},
   "outputs": [],
   "source": []
  },
  {
   "cell_type": "code",
   "execution_count": null,
   "metadata": {},
   "outputs": [],
   "source": []
  },
  {
   "cell_type": "code",
   "execution_count": null,
   "metadata": {},
   "outputs": [],
   "source": []
  },
  {
   "cell_type": "code",
   "execution_count": 278,
   "metadata": {},
   "outputs": [
    {
     "name": "stdout",
     "output_type": "stream",
     "text": [
      "\u0000\u0000\u0000\u0001\u0000\u0000\u0000\u0001\u0000\u0000\u0000\u001a\u0000T\u0000c\u0000p\u0000L\u0000i\u0000s\u0000t\u0000e\u0000n\u0000P\u0000o\u0000r\u0000t\u0000\u0000\u0000\u0002\u0000\u0000\u0000\u0000\u0000 \u0000\u0000\u0000\u0001\u0000\u0000\u0000\u0001\u0000\u0000\u0000\u001a\u0000T\u0000c\u0000p\u0000L\u0000i\u0000s\u0000t\u0000e\u0000n\u0000P\u0000o\u0000r\u0000t\u0000\u0000\u0000\u0002\u0000\u0000\u0000Ë \u0000\u0000\u0000\u0001\u0000\u0000\u0000\u0001\u0000\u0000\u0000\u001a\u0000T\u0000c\u0000p\u0000L\u0000i\u0000s\u0000t\u0000e\u0000n\u0000P\u0000o\u0000r\u0000t\u0000\u0000\u0000\u0002\u0000\u0000\u0000Ë\n"
     ]
    }
   ],
   "source": [
    "bts = lambda x: (str(x.tobytes(),'utf-8'))\n",
    "print(bts(dat['FieldsBlob'][0]), bts(dat['FieldsBlob'][1]), bts(dat['FieldsBlob'][2]))"
   ]
  },
  {
   "cell_type": "code",
   "execution_count": null,
   "metadata": {},
   "outputs": [],
   "source": [
    "out=\"\"\n",
    "for f in dat['FieldsBlob'][0]:\n",
    "    #print(f.decode('utf-8'))\n",
    "    if f == 1:\n",
    "        out += f.decode('utf-8')\n",
    "    else:\n",
    "        out += str(ord(f)) + ' '\n",
    "out"
   ]
  },
  {
   "cell_type": "code",
   "execution_count": null,
   "metadata": {},
   "outputs": [],
   "source": []
  },
  {
   "cell_type": "code",
   "execution_count": null,
   "metadata": {},
   "outputs": [],
   "source": [
    "len(dat['FieldsBlob'][2].tobytes())"
   ]
  },
  {
   "cell_type": "code",
   "execution_count": null,
   "metadata": {},
   "outputs": [],
   "source": [
    "struct.calcsize('s'*47)"
   ]
  },
  {
   "cell_type": "code",
   "execution_count": 254,
   "metadata": {},
   "outputs": [],
   "source": [
    "import base64\n",
    "import struct\n",
    "import codecs"
   ]
  },
  {
   "cell_type": "code",
   "execution_count": 288,
   "metadata": {},
   "outputs": [
    {
     "name": "stdout",
     "output_type": "stream",
     "text": [
      "\u0000\u0000\u0000\u0001\u0000\u0000\u0000\u0001\u0000\u0000\u0000\u001a\u0000T\u0000c\u0000p\u0000L\u0000i\u0000s\u0000t\u0000e\u0000n\u0000P\u0000o\u0000r\u0000t\u0000\u0000\u0000\u0002\u0000\u0000\u0000\u0000\u0000\n",
      "\u0000\u0000\u0000\u0001\u0000\u0000\u0000\u0001\u0000\u0000\u0000\u001a\u0000T\u0000c\u0000p\u0000L\u0000i\u0000s\u0000t\u0000e\u0000n\u0000P\u0000o\u0000r\u0000t\u0000\u0000\u0000\u0002\u0000\u0000\u0000Ë\n",
      "\u0000\u0000\u0000\u0001\u0000\u0000\u0000\u0001\u0000\u0000\u0000\u001a\u0000T\u0000c\u0000p\u0000L\u0000i\u0000s\u0000t\u0000e\u0000n\u0000P\u0000o\u0000r\u0000t\u0000\u0000\u0000\u0002\u0000\u0000\u0000Ë\n"
     ]
    }
   ],
   "source": [
    "with psycopg2.connect(user=\"human\",\n",
    "                      password=\"!@HumanCreative2021\",\n",
    "                      host=\"10.0.0.134\",\n",
    "                      port=\"5432\",\n",
    "                      database=\"human\") as connection:\n",
    "\n",
    "    sql = '''SELECT \"FieldsBlob\" FROM public.\"Sm2SysIdEntry\" '''\n",
    "    cur = connection.cursor()\n",
    "    cur.execute(sql)\n",
    "    for b in cur.fetchall():\n",
    "        print( codecs.escape_decode(b[0])[0].decode() )"
   ]
  },
  {
   "cell_type": "code",
   "execution_count": 286,
   "metadata": {},
   "outputs": [
    {
     "name": "stdout",
     "output_type": "stream",
     "text": [
      "b'\\x01\\x06 ThumbnailClipSet\\x0c\\x01\\xbb\\x01\\x05\\x024\\nHf6369e00-9c13-4b1b-a7c5-112b934686e9\\x023\\nH8c550fc7-4115-435b-bb99-bb16ec0523ed\\x022\\nH852ccd58-97fc-4946-9bfe-0718922afd8c\\x021\\nH4d9bf228-eca0-4285-8dd4-ddfd43fe2d92\\x020\\nH02962ac3-3d21-4437-ac63-a615668e381f$RenderCacheVersion\\x02\\x01.ProjectDbMigrationState\\x04\\x02.IsProjectAgeInMicroSecs\\x01\\x01\\x14GalleryRef\\nH623e9f33-22c5-4c34-8cf2-aed2c7954c8c&FusionSizingVersion\\x02\\x02'\n"
     ]
    }
   ],
   "source": [
    "with psycopg2.connect(user=\"human\",\n",
    "                      password=\"!@HumanCreative2021\",\n",
    "                      host=\"10.0.0.134\",\n",
    "                      port=\"5432\",\n",
    "                      database=\"human\") as connection:\n",
    "\n",
    "    sql = '''SELECT \"FieldsBlob\" FROM public.\"SM_Project\" WHERE \"SM_Project_id\" = '83190a6a-e328-4936-b087-7563f98a1164' '''\n",
    "    cur = connection.cursor()\n",
    "    cur.execute(sql)\n",
    "    for b in cur.fetchall():\n",
    "        for i in b:\n",
    "            print(str(i.tobytes()).replace('\\\\x00',''))"
   ]
  },
  {
   "cell_type": "code",
   "execution_count": 296,
   "metadata": {},
   "outputs": [
    {
     "name": "stdout",
     "output_type": "stream",
     "text": [
      "RealDictRow([('Sm2Timeline_id', 'd5b0fb35-161f-4ab9-8b0c-1b39599c2ffb'),\n",
      "             ('DbType', 'Sm2Timeline'),\n",
      "             ('Name', 'Timeline 1'),\n",
      "             ('OfflineClip', None),\n",
      "             ('OfflineFrameOffset', 0),\n",
      "             ('PTZRPreset', '427bc0a8-bd99-47c4-8739-c3a34867d03c'),\n",
      "             ('PTZRPresetType', -614121320),\n",
      "             ('VideoStereoSource', 0),\n",
      "             ('Type', 0),\n",
      "             ('ImportExportMetadataBA', None),\n",
      "             ('SM_Project_id', None),\n",
      "             ('Sequence', '18d17df1-f2b2-4cb6-9a84-84f8e54b178f'),\n",
      "             ('EnableLTC', False),\n",
      "             ('LTCSyncDelay', 0.0),\n",
      "             ('EnableAudio', False),\n",
      "             ('AudioSyncDelay', 0.0),\n",
      "             ('AudioInfo', None),\n",
      "             ('ModTimeInSecs', 1617234870),\n",
      "             ('CreateTimeInSecs', 1617154766),\n",
      "             ('MpTimelineClip', '548262b8-d600-48b0-8680-a20b6b2dcaab'),\n",
      "             ('FieldsBlob', None),\n",
      "             ('Sm2MpMedia_id', '548262b8-d600-48b0-8680-a20b6b2dcaab')])\n"
     ]
    }
   ],
   "source": [
    "with psycopg2.connect(user=\"human\",\n",
    "                      password=\"!@HumanCreative2021\",\n",
    "                      host=\"10.0.0.134\",\n",
    "                      port=\"5432\",\n",
    "                      database=\"human\") as connection:\n",
    "\n",
    "    sql = '''SELECT * FROM public.\"Sm2Timeline\"'''\n",
    "    cur = connection.cursor(cursor_factory = psycopg2.extras.RealDictCursor)\n",
    "    cur.execute(sql)\n",
    "    for b in cur.fetchall():\n",
    "        pprint(b)"
   ]
  },
  {
   "cell_type": "code",
   "execution_count": 21,
   "metadata": {},
   "outputs": [
    {
     "data": {
      "text/plain": [
       "0    \n",
       "1    \n",
       "Name: DeliverableSessionName, dtype: object"
      ]
     },
     "execution_count": 21,
     "metadata": {},
     "output_type": "execute_result"
    }
   ],
   "source": [
    "with psycopg2.connect(user=\"human\",\n",
    "                      password=\"!@HumanCreative2021\",\n",
    "                      host=\"9.0.0.1\",\n",
    "                      port=\"5432\",\n",
    "                      database=\"human\") as connection:\n",
    "\n",
    "    sql = '''SELECT \"SysIds\", *FROM public.\"SM_Project\" '''\n",
    "    dat = pd.read_sql_query(sql, connection)\n",
    "dat['DeliverableSessionName']"
   ]
  },
  {
   "cell_type": "code",
   "execution_count": null,
   "metadata": {},
   "outputs": [],
   "source": []
  }
 ],
 "metadata": {
  "kernelspec": {
   "display_name": "Python 3",
   "language": "python",
   "name": "python3"
  },
  "language_info": {
   "codemirror_mode": {
    "name": "ipython",
    "version": 3
   },
   "file_extension": ".py",
   "mimetype": "text/x-python",
   "name": "python",
   "nbconvert_exporter": "python",
   "pygments_lexer": "ipython3",
   "version": "3.7.10"
  }
 },
 "nbformat": 4,
 "nbformat_minor": 4
}
