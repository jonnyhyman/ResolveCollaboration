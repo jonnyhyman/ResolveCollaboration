{
 "cells": [
  {
   "cell_type": "code",
   "execution_count": 25,
   "id": "7826a1de",
   "metadata": {},
   "outputs": [],
   "source": [
    "from multiprocessing import Process, Queue"
   ]
  },
  {
   "cell_type": "code",
   "execution_count": 4,
   "id": "fdd2a071",
   "metadata": {},
   "outputs": [],
   "source": [
    "import asyncio"
   ]
  },
  {
   "cell_type": "code",
   "execution_count": 48,
   "id": "954daf7e",
   "metadata": {},
   "outputs": [],
   "source": [
    "async def tcp_authenticate_request(S_IP, S_PORT, q):\n",
    "    \"\"\" TCP Client to connect to RMC Server \"\"\"\n",
    "\n",
    "    q.put(f\"... Connecting to server {S_IP}:{S_PORT}\")\n",
    "    q.put(['a','b','c'])\n",
    "    try:\n",
    "        reader, writer = await asyncio.open_connection(S_IP, S_PORT)\n",
    "    except ConnectionRefusedError:\n",
    "        q.put(f\"!!! Connection to server {S_IP}:{S_PORT} refused\")\n",
    "        return\n",
    "    except TimeoutError:\n",
    "        q.put(f\"!!! Connection to server {S_IP}:{S_PORT} timed out\")\n",
    "        return\n",
    "\n",
    "    q.put(\"... Sent request\")\n",
    "    q.put('>>> Sent encrypted authentication request')\n",
    "    writer.write(encrypted)\n",
    "\n",
    "    auth_reply = await reader.read(1024)\n",
    "\n",
    "    try:\n",
    "        auth_reply = Fernet(SPASS).decrypt(auth_reply)\n",
    "        auth_reply = auth_reply.decode()\n",
    "        q.put(f\">>> Received Authentication Reply: {auth_reply}\")\n",
    "\n",
    "        # TODO: Add IP_SUBNET\n",
    "        PKEYS, IP_ASSIGNED = auth_reply.split(',')\n",
    "\n",
    "    except InvalidToken as e:\n",
    "        q.put(f\"... Received Authentication Error: {auth_reply.decode()}\")\n",
    "        q.put(f\"Authentication Error: {auth_reply.decode()}\")\n",
    "        pass\n",
    "\n",
    "    writer.close()\n",
    "\n",
    "def tcp_client(q):\n",
    "    loop = asyncio.new_event_loop()\n",
    "    asyncio.set_event_loop(loop)\n",
    "\n",
    "    loop.run_until_complete(tcp_authenticate_request(\"127.0.0.1\", 1234, q))\n",
    "    loop.close()\n",
    "    \n",
    "    q.put(\"DONE\")"
   ]
  },
  {
   "cell_type": "code",
   "execution_count": 57,
   "id": "f05ee651",
   "metadata": {},
   "outputs": [],
   "source": [
    "q = Queue()\n",
    "p = Process(target=async_tcp_client, args=(q,))\n",
    "p.start()"
   ]
  },
  {
   "cell_type": "code",
   "execution_count": 58,
   "id": "5fc147ce",
   "metadata": {},
   "outputs": [
    {
     "name": "stdout",
     "output_type": "stream",
     "text": [
      "... Connecting to server 127.0.0.1:1234 <class 'str'>\n",
      "['a', 'b', 'c'] <class 'list'>\n",
      "!!! Connection to server 127.0.0.1:1234 refused <class 'str'>\n",
      "DONE <class 'str'>\n"
     ]
    }
   ],
   "source": [
    "while not q.empty():\n",
    "    got = q.get_nowait()\n",
    "    print(got, type(got))"
   ]
  },
  {
   "cell_type": "code",
   "execution_count": 30,
   "id": "04c3c472",
   "metadata": {},
   "outputs": [],
   "source": [
    "p.kill()"
   ]
  },
  {
   "cell_type": "code",
   "execution_count": 31,
   "id": "f9dd0f15",
   "metadata": {},
   "outputs": [
    {
     "data": {
      "text/plain": [
       "<Process(Process-9, stopped)>"
      ]
     },
     "execution_count": 31,
     "metadata": {},
     "output_type": "execute_result"
    }
   ],
   "source": [
    "p"
   ]
  },
  {
   "cell_type": "code",
   "execution_count": 41,
   "id": "18e172b8",
   "metadata": {},
   "outputs": [
    {
     "data": {
      "text/plain": [
       "\u001b[0;31mSignature:\u001b[0m \u001b[0mQueue\u001b[0m\u001b[0;34m(\u001b[0m\u001b[0mmaxsize\u001b[0m\u001b[0;34m=\u001b[0m\u001b[0;36m0\u001b[0m\u001b[0;34m)\u001b[0m\u001b[0;34m\u001b[0m\u001b[0;34m\u001b[0m\u001b[0m\n",
       "\u001b[0;31mDocstring:\u001b[0m Returns a queue object\n",
       "\u001b[0;31mFile:\u001b[0m      ~/opt/anaconda3/lib/python3.7/multiprocessing/context.py\n",
       "\u001b[0;31mType:\u001b[0m      method\n"
      ]
     },
     "metadata": {},
     "output_type": "display_data"
    }
   ],
   "source": [
    "?Queue"
   ]
  },
  {
   "cell_type": "code",
   "execution_count": null,
   "id": "573a8286",
   "metadata": {},
   "outputs": [],
   "source": []
  }
 ],
 "metadata": {
  "kernelspec": {
   "display_name": "Python 3",
   "language": "python",
   "name": "python3"
  },
  "language_info": {
   "codemirror_mode": {
    "name": "ipython",
    "version": 3
   },
   "file_extension": ".py",
   "mimetype": "text/x-python",
   "name": "python",
   "nbconvert_exporter": "python",
   "pygments_lexer": "ipython3",
   "version": "3.7.10"
  }
 },
 "nbformat": 4,
 "nbformat_minor": 5
}
